{
 "cells": [
  {
   "cell_type": "markdown",
   "id": "aafa01f8-fa6c-40dd-a342-e57cdeb284ec",
   "metadata": {},
   "source": [
    "# 2.Goal-oriented risk management\n",
    "## Measuring Risk\n",
    "### VaR for the Normal distribution\n",
    "To get accustomed to the Value at Risk (VaR) measure, it helps to apply it to a known distribution. The Normal (or Gaussian) distribution is especially appealing as it 1) has an analytically simple form, and 2) represents a wide variety of empirical phenomena. For this exercise you'll assume that the loss of a portfolio is normally distributed, i.e., the higher the value drawn from the distribution, the higher the loss.\n",
    "\n",
    "You'll learn how to apply both scipy.stats.norm's ppf() (percent point function) and numpy's quantile() function to find the VaR at the 95% and 99% confidence levels, respectively, for a standard Normal distribution. You'll also visualize the VaR as a threshold on a Normal distribution plot."
   ]
  },
  {
   "cell_type": "code",
   "execution_count": 1,
   "id": "1316efa8-ad6c-4bd6-8619-ff27d8dd4b87",
   "metadata": {},
   "outputs": [],
   "source": [
    "import os\n",
    "import numpy as np\n",
    "import pandas as pd\n",
    "# Import norm from scipy.stats\n",
    "from scipy.stats import norm\n",
    "import matplotlib.pyplot as plt\n",
    "\n",
    "while 'DATABASE' not in os.listdir():\n",
    "    \n",
    "    os.chdir('..')"
   ]
  },
  {
   "cell_type": "code",
   "execution_count": 2,
   "id": "0f94ab80-d391-494b-9d07-ff7224a02462",
   "metadata": {},
   "outputs": [
    {
     "name": "stdout",
     "output_type": "stream",
     "text": [
      "95% VaR:  1.6448536269514722 ; 99% VaR:  2.3163473637265986\n"
     ]
    }
   ],
   "source": [
    "# Create the VaR measure at the 95% confidence level using norm.ppf()\n",
    "VaR_95 = norm.ppf(0.95)\n",
    "\n",
    "# Create the VaR measure at the 99% confidence level using numpy.quantile()\n",
    "draws = norm.rvs(size = 100000)\n",
    "VaR_99 = np.quantile(draws, 0.99)\n",
    "\n",
    "# Compare the 95% and 99% VaR\n",
    "print(\"95% VaR: \", VaR_95, \"; 99% VaR: \", VaR_99)"
   ]
  },
  {
   "cell_type": "code",
   "execution_count": 3,
   "id": "489c53e3-92da-4e67-ae0f-04d3b0a22a46",
   "metadata": {},
   "outputs": [
    {
     "data": {
      "image/png": "[encoded data removed]",
      "text/plain": [
       "<Figure size 640x480 with 1 Axes>"
      ]
     },
     "metadata": {},
     "output_type": "display_data"
    }
   ],
   "source": [
    "# Plot the normal distribution histogram and 95% VaR\n",
    "plt.hist(draws, bins = 100)\n",
    "plt.axvline(x = VaR_95, c='r', label = \"VaR at 95% Confidence Level\")\n",
    "plt.legend(); plt.show()"
   ]
  },
  {
   "cell_type": "markdown",
   "id": "918bf99c-6b48-4583-b52c-8a53507f7d13",
   "metadata": {},
   "source": [
    "**You've also used both the inverse cumulative density function (the percent point function) and the quantile function to find the VaR.**"
   ]
  },
  {
   "cell_type": "markdown",
   "id": "62d690ed-d255-4c1a-8b80-f735608acdfd",
   "metadata": {},
   "source": [
    "### Comparing CVaR and VaR\n",
    "The conditional value at risk (CVaR), or expected shortfall (ES), asks what the average loss will be, conditional upon losses exceeding some threshold at a certain confidence level. It uses VaR as a point of departure, but contains more information because it takes into consideration the tail of the loss distribution.\n",
    "\n",
    "You'll first compute the 95% VaR for a Normal distribution of portfolio losses, with the same mean and standard deviation as the 2005-2010 investment bank portfolio_losses. You'll then use the VaR to compute the 95% CVaR, and plot both against the Normal distribution.\n",
    "\n",
    "The portfolio_losses are available in your workspace, as well as the norm Normal distribution from scipy.stats."
   ]
  },
  {
   "cell_type": "code",
   "execution_count": 4,
   "id": "5111ad11-af2a-48e0-add5-9134ce13577e",
   "metadata": {},
   "outputs": [
    {
     "data": {
      "text/html": [
       "<div>\n",
       "<style scoped>\n",
       "    .dataframe tbody tr th:only-of-type {\n",
       "        vertical-align: middle;\n",
       "    }\n",
       "\n",
       "    .dataframe tbody tr th {\n",
       "        vertical-align: top;\n",
       "    }\n",
       "\n",
       "    .dataframe thead th {\n",
       "        text-align: right;\n",
       "    }\n",
       "</style>\n",
       "<table border=\"1\" class=\"dataframe\">\n",
       "  <thead>\n",
       "    <tr style=\"text-align: right;\">\n",
       "      <th></th>\n",
       "      <th>Mortgage Delinquency Rate</th>\n",
       "    </tr>\n",
       "    <tr>\n",
       "      <th>date</th>\n",
       "      <th></th>\n",
       "    </tr>\n",
       "  </thead>\n",
       "  <tbody>\n",
       "    <tr>\n",
       "      <th>2005-01-03 00:00:00.000000</th>\n",
       "      <td>-0.337561</td>\n",
       "    </tr>\n",
       "    <tr>\n",
       "      <th>2005-01-04 10:46:59.880715</th>\n",
       "      <td>-0.210846</td>\n",
       "    </tr>\n",
       "    <tr>\n",
       "      <th>2005-01-05 21:33:59.761431</th>\n",
       "      <td>-0.252818</td>\n",
       "    </tr>\n",
       "    <tr>\n",
       "      <th>2005-01-07 08:20:59.642147</th>\n",
       "      <td>-0.250101</td>\n",
       "    </tr>\n",
       "    <tr>\n",
       "      <th>2005-01-08 19:07:59.522862</th>\n",
       "      <td>0.056280</td>\n",
       "    </tr>\n",
       "    <tr>\n",
       "      <th>...</th>\n",
       "      <td>...</td>\n",
       "    </tr>\n",
       "    <tr>\n",
       "      <th>2010-12-24 04:52:00.477137</th>\n",
       "      <td>-0.158957</td>\n",
       "    </tr>\n",
       "    <tr>\n",
       "      <th>2010-12-25 15:39:00.357852</th>\n",
       "      <td>-0.233368</td>\n",
       "    </tr>\n",
       "    <tr>\n",
       "      <th>2010-12-27 02:26:00.238568</th>\n",
       "      <td>0.029143</td>\n",
       "    </tr>\n",
       "    <tr>\n",
       "      <th>2010-12-28 13:13:00.119284</th>\n",
       "      <td>-0.032456</td>\n",
       "    </tr>\n",
       "    <tr>\n",
       "      <th>2010-12-30 00:00:00.000000</th>\n",
       "      <td>-0.276370</td>\n",
       "    </tr>\n",
       "  </tbody>\n",
       "</table>\n",
       "<p>1510 rows × 1 columns</p>\n",
       "</div>"
      ],
      "text/plain": [
       "                            Mortgage Delinquency Rate\n",
       "date                                                 \n",
       "2005-01-03 00:00:00.000000                  -0.337561\n",
       "2005-01-04 10:46:59.880715                  -0.210846\n",
       "2005-01-05 21:33:59.761431                  -0.252818\n",
       "2005-01-07 08:20:59.642147                  -0.250101\n",
       "2005-01-08 19:07:59.522862                   0.056280\n",
       "...                                               ...\n",
       "2010-12-24 04:52:00.477137                  -0.158957\n",
       "2010-12-25 15:39:00.357852                  -0.233368\n",
       "2010-12-27 02:26:00.238568                   0.029143\n",
       "2010-12-28 13:13:00.119284                  -0.032456\n",
       "2010-12-30 00:00:00.000000                  -0.276370\n",
       "\n",
       "[1510 rows x 1 columns]"
      ]
     },
     "execution_count": 4,
     "metadata": {},
     "output_type": "execute_result"
    }
   ],
   "source": [
    "from ANALYSIS.f_functions.portfolio_losses import portfolio_losses\n",
    "\n",
    "portfolio_losses = portfolio_losses()\n",
    "portfolio_losses"
   ]
  },
  {
   "cell_type": "code",
   "execution_count": 5,
   "id": "e93ee3cc-15e8-40d1-9635-9e17c8f0eacc",
   "metadata": {},
   "outputs": [],
   "source": [
    "# Compute the mean and standard deviation of the portfolio losses\n",
    "pm = portfolio_losses.mean()\n",
    "ps = portfolio_losses.std()"
   ]
  },
  {
   "cell_type": "code",
   "execution_count": 11,
   "id": "83f6278e-8073-49ff-b58c-c3e0d9090ce9",
   "metadata": {},
   "outputs": [
    {
     "data": {
      "text/plain": [
       "0.15702838891062892"
      ]
     },
     "execution_count": 11,
     "metadata": {},
     "output_type": "execute_result"
    }
   ],
   "source": [
    "float(ps)"
   ]
  },
  {
   "cell_type": "code",
   "execution_count": 13,
   "id": "a55a18c1-3811-4fa2-89f4-3118d91765f2",
   "metadata": {},
   "outputs": [
    {
     "name": "stdout",
     "output_type": "stream",
     "text": [
      "no tira\n"
     ]
    }
   ],
   "source": [
    "try:\n",
    "    # Compute the 95% VaR using the .ppf()\n",
    "    VaR_95 = norm.ppf(0.95, loc = pm, scale = ps)\n",
    "    # Compute the expected tail loss and the CVaR in the worst 5% of cases\n",
    "    tail_loss = norm.expect(lambda x: x, loc = float(pm), scale = float(ps), lb = VaR_95)\n",
    "    CVaR_95 = (1 / (1 - 0.95)) * tail_loss\n",
    "\n",
    "    # Plot the normal distribution histogram and add lines for the VaR and CVaR\n",
    "    plt.hist(norm.rvs(size = 100000, loc = pm, scale = ps), bins = 100)\n",
    "    plt.axvline(x = VaR_95, c='r', label = \"VaR, 95% confidence level\")\n",
    "    plt.axvline(x = CVaR_95, c='g', label = \"CVaR, worst 5% of outcomes\")\n",
    "    plt.legend(); plt.show()\n",
    "    \n",
    "except: \n",
    "    \n",
    "    print('no tira')"
   ]
  },
  {
   "cell_type": "code",
   "execution_count": null,
   "id": "506349b2-a5ab-44a2-b7d1-c425e1d7507e",
   "metadata": {},
   "outputs": [],
   "source": []
  },
  {
   "cell_type": "code",
   "execution_count": null,
   "id": "257702f0-dda3-46d0-8a57-eab6d71d2e3f",
   "metadata": {},
   "outputs": [],
   "source": []
  },
  {
   "cell_type": "code",
   "execution_count": null,
   "id": "9176a36f-4cda-42d2-95b6-6497b457499f",
   "metadata": {},
   "outputs": [],
   "source": []
  },
  {
   "cell_type": "code",
   "execution_count": null,
   "id": "56631391-a73e-44ca-b94e-69b58b58ae35",
   "metadata": {},
   "outputs": [],
   "source": []
  },
  {
   "cell_type": "code",
   "execution_count": null,
   "id": "b26725df-308c-4811-9615-98e6532c4dd1",
   "metadata": {},
   "outputs": [],
   "source": []
  },
  {
   "cell_type": "code",
   "execution_count": null,
   "id": "b8624e6b-3e3c-449a-93be-922f26aeb7ff",
   "metadata": {},
   "outputs": [],
   "source": []
  },
  {
   "cell_type": "code",
   "execution_count": null,
   "id": "589e285a-8b8f-4bc1-8b02-1cd66babdd80",
   "metadata": {},
   "outputs": [],
   "source": []
  },
  {
   "cell_type": "code",
   "execution_count": null,
   "id": "0e449bb1-96cc-4b41-994f-15c92900626e",
   "metadata": {},
   "outputs": [],
   "source": []
  },
  {
   "cell_type": "code",
   "execution_count": null,
   "id": "55b707dd-1b62-454b-adba-79241e9edc7f",
   "metadata": {},
   "outputs": [],
   "source": []
  },
  {
   "cell_type": "code",
   "execution_count": null,
   "id": "8e4763e3-72c9-41fd-912f-d4cf275b1f3e",
   "metadata": {},
   "outputs": [],
   "source": []
  },
  {
   "cell_type": "code",
   "execution_count": null,
   "id": "4dc97625-9d51-497c-9114-920d1f7018ad",
   "metadata": {},
   "outputs": [],
   "source": []
  },
  {
   "cell_type": "code",
   "execution_count": null,
   "id": "ce1f382f-c5e8-4f8b-b790-7f9683652fb1",
   "metadata": {},
   "outputs": [],
   "source": []
  },
  {
   "cell_type": "code",
   "execution_count": null,
   "id": "aef9924b-3e8d-4986-b47d-21e013bd82c7",
   "metadata": {},
   "outputs": [],
   "source": []
  },
  {
   "cell_type": "code",
   "execution_count": null,
   "id": "e152e081-0d9c-41b5-a723-ff68f71ac8dc",
   "metadata": {},
   "outputs": [],
   "source": []
  },
  {
   "cell_type": "code",
   "execution_count": null,
   "id": "e70b7184-419c-496a-97fb-4b166bdbb037",
   "metadata": {},
   "outputs": [],
   "source": []
  },
  {
   "cell_type": "code",
   "execution_count": null,
   "id": "427e615c-53bd-4f23-b54c-89839d018d10",
   "metadata": {},
   "outputs": [],
   "source": []
  },
  {
   "cell_type": "code",
   "execution_count": null,
   "id": "06829761-b6b3-4159-9364-0fedbd9cd9f3",
   "metadata": {},
   "outputs": [],
   "source": []
  },
  {
   "cell_type": "code",
   "execution_count": null,
   "id": "4d1c517e-7545-4007-a38c-99c289d2e81a",
   "metadata": {},
   "outputs": [],
   "source": []
  },
  {
   "cell_type": "code",
   "execution_count": null,
   "id": "f386655f-919e-4fc6-b8ce-4dc063ecff87",
   "metadata": {},
   "outputs": [],
   "source": []
  },
  {
   "cell_type": "code",
   "execution_count": null,
   "id": "527bdf5b-120d-43ef-ad69-5cda1b5a0314",
   "metadata": {},
   "outputs": [],
   "source": []
  },
  {
   "cell_type": "code",
   "execution_count": null,
   "id": "bfe7c593-6171-43f4-bd95-5610b29fa0b9",
   "metadata": {},
   "outputs": [],
   "source": []
  },
  {
   "cell_type": "code",
   "execution_count": null,
   "id": "6cb22a38-9308-40cc-a622-ae65ac7aefb6",
   "metadata": {},
   "outputs": [],
   "source": []
  },
  {
   "cell_type": "code",
   "execution_count": null,
   "id": "c20e5ba2-21a3-48f2-9c54-0ff1cbc51d58",
   "metadata": {},
   "outputs": [],
   "source": []
  },
  {
   "cell_type": "code",
   "execution_count": null,
   "id": "bcd25af4-3428-44f3-bc84-389a9ee20aee",
   "metadata": {},
   "outputs": [],
   "source": []
  },
  {
   "cell_type": "code",
   "execution_count": null,
   "id": "c0a372be-d39d-4a5f-9b1a-25e3b3f6376e",
   "metadata": {},
   "outputs": [],
   "source": []
  },
  {
   "cell_type": "code",
   "execution_count": null,
   "id": "a9abdc87-0a2a-4eb2-9955-19574e7ba9bd",
   "metadata": {},
   "outputs": [],
   "source": []
  },
  {
   "cell_type": "code",
   "execution_count": null,
   "id": "4b5d580e-86d4-4da7-bf18-872fdd8bc5eb",
   "metadata": {},
   "outputs": [],
   "source": []
  }
 ],
 "metadata": {
  "kernelspec": {
   "display_name": "Python 3 (ipykernel)",
   "language": "python",
   "name": "python3"
  },
  "language_info": {
   "codemirror_mode": {
    "name": "ipython",
    "version": 3
   },
   "file_extension": ".py",
   "mimetype": "text/x-python",
   "name": "python",
   "nbconvert_exporter": "python",
   "pygments_lexer": "ipython3",
   "version": "3.9.7"
  }
 },
 "nbformat": 4,
 "nbformat_minor": 5
}
