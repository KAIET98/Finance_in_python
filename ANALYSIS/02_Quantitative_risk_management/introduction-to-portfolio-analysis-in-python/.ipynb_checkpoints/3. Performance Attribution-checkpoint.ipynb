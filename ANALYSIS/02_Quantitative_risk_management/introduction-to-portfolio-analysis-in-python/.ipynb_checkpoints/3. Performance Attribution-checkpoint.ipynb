{
 "cells": [
  {
   "cell_type": "markdown",
   "id": "7b15f2c6-3cd1-450f-8759-865cf0ea2ace",
   "metadata": {},
   "source": [
    "# 3. Performance Attribution\n",
    "## Active return\n",
    "In this first exercise, you're going to calculate the active return of a portfolio that's managed against a benchmark. You've learned many ways of how to calculate total return over a period. For this exercise, you'll use the simple mean returns multiplied with the weights to obtain a total return for both the portfolio as well as the benchmark. Available is portfolio data containing weights and asset returns under portfolio_data. Have a look at the data by running portfolio_data.head(10) in the IPython Shell. Good luck!"
   ]
  },
  {
   "cell_type": "code",
   "execution_count": 1,
   "id": "1a242e84-e86b-476e-8bc0-5710a39299db",
   "metadata": {},
   "outputs": [],
   "source": [
    "nombre_archivo = 'large_pf.csv'"
   ]
  },
  {
   "cell_type": "code",
   "execution_count": 3,
   "id": "48174215-9afb-4883-8692-01fb9c0fcea9",
   "metadata": {},
   "outputs": [],
   "source": [
    "import os\n",
    "\n",
    "while 'DATABASE' not in os.listdir():\n",
    "    os.chdir('..')"
   ]
  },
  {
   "cell_type": "code",
   "execution_count": 5,
   "id": "b9d8416f-b538-4687-aab8-13ba832fde7b",
   "metadata": {},
   "outputs": [
    {
     "data": {
      "text/html": [
       "<div>\n",
       "<style scoped>\n",
       "    .dataframe tbody tr th:only-of-type {\n",
       "        vertical-align: middle;\n",
       "    }\n",
       "\n",
       "    .dataframe tbody tr th {\n",
       "        vertical-align: top;\n",
       "    }\n",
       "\n",
       "    .dataframe thead th {\n",
       "        text-align: right;\n",
       "    }\n",
       "</style>\n",
       "<table border=\"1\" class=\"dataframe\">\n",
       "  <thead>\n",
       "    <tr style=\"text-align: right;\">\n",
       "      <th></th>\n",
       "      <th>mean_return</th>\n",
       "      <th>variance</th>\n",
       "      <th>pf_weights</th>\n",
       "      <th>bm_weights</th>\n",
       "      <th>Security</th>\n",
       "      <th>GICS Sector</th>\n",
       "      <th>GICS Sub Industry</th>\n",
       "    </tr>\n",
       "    <tr>\n",
       "      <th>Unnamed: 0</th>\n",
       "      <th></th>\n",
       "      <th></th>\n",
       "      <th></th>\n",
       "      <th></th>\n",
       "      <th></th>\n",
       "      <th></th>\n",
       "      <th></th>\n",
       "    </tr>\n",
       "  </thead>\n",
       "  <tbody>\n",
       "    <tr>\n",
       "      <th>A</th>\n",
       "      <td>0.146146</td>\n",
       "      <td>0.035194</td>\n",
       "      <td>0.000</td>\n",
       "      <td>0.000</td>\n",
       "      <td>Agilent Technologies Inc</td>\n",
       "      <td>Health Care</td>\n",
       "      <td>Health Care Equipment</td>\n",
       "    </tr>\n",
       "    <tr>\n",
       "      <th>AAL</th>\n",
       "      <td>0.444411</td>\n",
       "      <td>0.094328</td>\n",
       "      <td>0.214</td>\n",
       "      <td>0.000</td>\n",
       "      <td>American Airlines Group</td>\n",
       "      <td>Industrials</td>\n",
       "      <td>Airlines</td>\n",
       "    </tr>\n",
       "    <tr>\n",
       "      <th>AAP</th>\n",
       "      <td>0.242189</td>\n",
       "      <td>0.029633</td>\n",
       "      <td>0.000</td>\n",
       "      <td>0.000</td>\n",
       "      <td>Advance Auto Parts</td>\n",
       "      <td>Consumer Discretionary</td>\n",
       "      <td>Automotive Retail</td>\n",
       "    </tr>\n",
       "    <tr>\n",
       "      <th>AAPL</th>\n",
       "      <td>0.225074</td>\n",
       "      <td>0.027283</td>\n",
       "      <td>0.000</td>\n",
       "      <td>0.000</td>\n",
       "      <td>Apple Inc.</td>\n",
       "      <td>Information Technology</td>\n",
       "      <td>Computer Hardware</td>\n",
       "    </tr>\n",
       "    <tr>\n",
       "      <th>ABBV</th>\n",
       "      <td>0.182541</td>\n",
       "      <td>0.029926</td>\n",
       "      <td>0.000</td>\n",
       "      <td>0.000</td>\n",
       "      <td>AbbVie</td>\n",
       "      <td>Health Care</td>\n",
       "      <td>Pharmaceuticals</td>\n",
       "    </tr>\n",
       "    <tr>\n",
       "      <th>...</th>\n",
       "      <td>...</td>\n",
       "      <td>...</td>\n",
       "      <td>...</td>\n",
       "      <td>...</td>\n",
       "      <td>...</td>\n",
       "      <td>...</td>\n",
       "      <td>...</td>\n",
       "    </tr>\n",
       "    <tr>\n",
       "      <th>YHOO</th>\n",
       "      <td>0.162994</td>\n",
       "      <td>0.036719</td>\n",
       "      <td>0.000</td>\n",
       "      <td>0.000</td>\n",
       "      <td>Yahoo Inc.</td>\n",
       "      <td>Information Technology</td>\n",
       "      <td>Internet Software &amp; Services</td>\n",
       "    </tr>\n",
       "    <tr>\n",
       "      <th>YUM</th>\n",
       "      <td>0.162098</td>\n",
       "      <td>0.023774</td>\n",
       "      <td>0.000</td>\n",
       "      <td>0.000</td>\n",
       "      <td>Yum! Brands Inc</td>\n",
       "      <td>Consumer Discretionary</td>\n",
       "      <td>Restaurants</td>\n",
       "    </tr>\n",
       "    <tr>\n",
       "      <th>ZBH</th>\n",
       "      <td>0.103081</td>\n",
       "      <td>0.020171</td>\n",
       "      <td>0.000</td>\n",
       "      <td>0.000</td>\n",
       "      <td>Zimmer Biomet Holdings</td>\n",
       "      <td>Health Care</td>\n",
       "      <td>Health Care Equipment</td>\n",
       "    </tr>\n",
       "    <tr>\n",
       "      <th>ZION</th>\n",
       "      <td>0.225957</td>\n",
       "      <td>0.046199</td>\n",
       "      <td>0.000</td>\n",
       "      <td>0.000</td>\n",
       "      <td>Zions Bancorp</td>\n",
       "      <td>Financials</td>\n",
       "      <td>Regional Banks</td>\n",
       "    </tr>\n",
       "    <tr>\n",
       "      <th>ZTS</th>\n",
       "      <td>0.168602</td>\n",
       "      <td>0.023089</td>\n",
       "      <td>0.000</td>\n",
       "      <td>0.854</td>\n",
       "      <td>Zoetis</td>\n",
       "      <td>Health Care</td>\n",
       "      <td>Pharmaceuticals</td>\n",
       "    </tr>\n",
       "  </tbody>\n",
       "</table>\n",
       "<p>501 rows × 7 columns</p>\n",
       "</div>"
      ],
      "text/plain": [
       "            mean_return  variance  pf_weights  bm_weights  \\\n",
       "Unnamed: 0                                                  \n",
       "A              0.146146  0.035194       0.000       0.000   \n",
       "AAL            0.444411  0.094328       0.214       0.000   \n",
       "AAP            0.242189  0.029633       0.000       0.000   \n",
       "AAPL           0.225074  0.027283       0.000       0.000   \n",
       "ABBV           0.182541  0.029926       0.000       0.000   \n",
       "...                 ...       ...         ...         ...   \n",
       "YHOO           0.162994  0.036719       0.000       0.000   \n",
       "YUM            0.162098  0.023774       0.000       0.000   \n",
       "ZBH            0.103081  0.020171       0.000       0.000   \n",
       "ZION           0.225957  0.046199       0.000       0.000   \n",
       "ZTS            0.168602  0.023089       0.000       0.854   \n",
       "\n",
       "                            Security             GICS Sector  \\\n",
       "Unnamed: 0                                                     \n",
       "A           Agilent Technologies Inc             Health Care   \n",
       "AAL          American Airlines Group             Industrials   \n",
       "AAP               Advance Auto Parts  Consumer Discretionary   \n",
       "AAPL                      Apple Inc.  Information Technology   \n",
       "ABBV                          AbbVie             Health Care   \n",
       "...                              ...                     ...   \n",
       "YHOO                      Yahoo Inc.  Information Technology   \n",
       "YUM                  Yum! Brands Inc  Consumer Discretionary   \n",
       "ZBH           Zimmer Biomet Holdings             Health Care   \n",
       "ZION                   Zions Bancorp              Financials   \n",
       "ZTS                           Zoetis             Health Care   \n",
       "\n",
       "                       GICS Sub Industry  \n",
       "Unnamed: 0                                \n",
       "A                  Health Care Equipment  \n",
       "AAL                             Airlines  \n",
       "AAP                    Automotive Retail  \n",
       "AAPL                   Computer Hardware  \n",
       "ABBV                     Pharmaceuticals  \n",
       "...                                  ...  \n",
       "YHOO        Internet Software & Services  \n",
       "YUM                          Restaurants  \n",
       "ZBH                Health Care Equipment  \n",
       "ZION                      Regional Banks  \n",
       "ZTS                      Pharmaceuticals  \n",
       "\n",
       "[501 rows x 7 columns]"
      ]
     },
     "execution_count": 5,
     "metadata": {},
     "output_type": "execute_result"
    }
   ],
   "source": [
    "import pandas as pd\n",
    "\n",
    "\n",
    "portfolio_data = pd.read_csv('DATABASE/{}'.format(nombre_archivo))\\\n",
    ".set_index('Unnamed: 0')\n",
    "\n",
    "portfolio_data"
   ]
  },
  {
   "cell_type": "code",
   "execution_count": 6,
   "id": "c70d44af-15e8-4c7a-ad47-e0462214f794",
   "metadata": {},
   "outputs": [
    {
     "name": "stdout",
     "output_type": "stream",
     "text": [
      "100.0\n"
     ]
    }
   ],
   "source": [
    "# Check the portfolio weights\n",
    "print(portfolio_data.pf_weights.sum())"
   ]
  },
  {
   "cell_type": "code",
   "execution_count": 7,
   "id": "ae48c2bd-1bdf-4f7d-913f-f100c1ff853f",
   "metadata": {},
   "outputs": [
    {
     "data": {
      "text/plain": [
       "33.134025872593554"
      ]
     },
     "execution_count": 7,
     "metadata": {},
     "output_type": "execute_result"
    }
   ],
   "source": [
    "# Calculate return of the portfolio\n",
    "total_return_pf = (portfolio_data['pf_weights']*portfolio_data['mean_return']).sum()\n",
    "total_return_pf"
   ]
  },
  {
   "cell_type": "markdown",
   "id": "5a030b0b-6524-41d4-a49c-1540d3e2c84c",
   "metadata": {},
   "source": [
    "Repeat the steps and calculate the total return of the benchmark.\n",
    "\n"
   ]
  },
  {
   "cell_type": "code",
   "execution_count": 9,
   "id": "62e806c9-2ea8-4ae7-8be0-00fedd049b9b",
   "metadata": {},
   "outputs": [
    {
     "data": {
      "text/plain": [
       "10.557642112692943"
      ]
     },
     "execution_count": 9,
     "metadata": {},
     "output_type": "execute_result"
    }
   ],
   "source": [
    "# Calculate return of the benchmark\n",
    "total_return_bm = (portfolio_data['bm_weights']*portfolio_data['mean_return']).sum()\n",
    "total_return_bm"
   ]
  },
  {
   "cell_type": "code",
   "execution_count": 10,
   "id": "ef791519-ad90-4440-ac93-4385dc4a3ab0",
   "metadata": {},
   "outputs": [
    {
     "name": "stdout",
     "output_type": "stream",
     "text": [
      "22.58%\n"
     ]
    }
   ],
   "source": [
    "# Calculate and print the active return\n",
    "active_return = total_return_pf - total_return_bm\n",
    "print (\"%.2f%%\" % active_return)"
   ]
  },
  {
   "cell_type": "markdown",
   "id": "845a24c4-2324-4f87-b4a5-caeec1c109da",
   "metadata": {},
   "source": [
    "### Industry attribution\n",
    "In this exercise, you're going to calculate the relative industry position of your portfolio, versus a benchmark. As a portfolio manager you need to understand your portfolio's underweight and overweight positions (or \"industry bets\"), as they are a large driver of performance, as well as a potential source of risk.\n",
    "\n",
    "The DataFrame portfolio_data is available, containing details about the industry classification, obtained from the Global Industry Classification System or \"GICS\", of your portfolio holdings, as well as your portfolio weights and the benchmark weights."
   ]
  },
  {
   "cell_type": "code",
   "execution_count": 11,
   "id": "8d68af6d-7562-4d59-b24d-bc8e3089dd75",
   "metadata": {},
   "outputs": [
    {
     "name": "stdout",
     "output_type": "stream",
     "text": [
      "100.001\n"
     ]
    }
   ],
   "source": [
    "# Print the sum of the bm and pf weights\n",
    "print (portfolio_data.bm_weights.sum())"
   ]
  },
  {
   "cell_type": "code",
   "execution_count": 12,
   "id": "cff46de1-874b-4a95-a153-903bffd91e09",
   "metadata": {},
   "outputs": [
    {
     "name": "stdout",
     "output_type": "stream",
     "text": [
      "100.0\n"
     ]
    }
   ],
   "source": [
    "print (portfolio_data.pf_weights.sum())"
   ]
  },
  {
   "cell_type": "markdown",
   "id": "9c0d438c-1e14-4a1c-8404-cc0e326c7b1d",
   "metadata": {},
   "source": [
    "Collapse the DataFrame on the GICS Sector using the groupby command, to be able to see performance and weights on a sector level. Make sure to sum the groupby, to get the summed values for each column.\n",
    "\n"
   ]
  },
  {
   "cell_type": "code",
   "execution_count": 13,
   "id": "02eae0bb-7798-4140-890a-69aa281c9f19",
   "metadata": {},
   "outputs": [
    {
     "data": {
      "text/html": [
       "<div>\n",
       "<style scoped>\n",
       "    .dataframe tbody tr th:only-of-type {\n",
       "        vertical-align: middle;\n",
       "    }\n",
       "\n",
       "    .dataframe tbody tr th {\n",
       "        vertical-align: top;\n",
       "    }\n",
       "\n",
       "    .dataframe thead th {\n",
       "        text-align: right;\n",
       "    }\n",
       "</style>\n",
       "<table border=\"1\" class=\"dataframe\">\n",
       "  <thead>\n",
       "    <tr style=\"text-align: right;\">\n",
       "      <th></th>\n",
       "      <th>mean_return</th>\n",
       "      <th>variance</th>\n",
       "      <th>pf_weights</th>\n",
       "      <th>bm_weights</th>\n",
       "    </tr>\n",
       "    <tr>\n",
       "      <th>GICS Sector</th>\n",
       "      <th></th>\n",
       "      <th></th>\n",
       "      <th></th>\n",
       "      <th></th>\n",
       "    </tr>\n",
       "  </thead>\n",
       "  <tbody>\n",
       "    <tr>\n",
       "      <th>Consumer Discretionary</th>\n",
       "      <td>14.091950</td>\n",
       "      <td>3.011996</td>\n",
       "      <td>32.426</td>\n",
       "      <td>12.169</td>\n",
       "    </tr>\n",
       "    <tr>\n",
       "      <th>Consumer Staples</th>\n",
       "      <td>5.131286</td>\n",
       "      <td>0.639845</td>\n",
       "      <td>24.551</td>\n",
       "      <td>29.727</td>\n",
       "    </tr>\n",
       "    <tr>\n",
       "      <th>Energy</th>\n",
       "      <td>3.390600</td>\n",
       "      <td>1.897641</td>\n",
       "      <td>0.000</td>\n",
       "      <td>0.000</td>\n",
       "    </tr>\n",
       "    <tr>\n",
       "      <th>Financials</th>\n",
       "      <td>8.701437</td>\n",
       "      <td>1.879873</td>\n",
       "      <td>0.000</td>\n",
       "      <td>2.116</td>\n",
       "    </tr>\n",
       "    <tr>\n",
       "      <th>Health Care</th>\n",
       "      <td>10.747583</td>\n",
       "      <td>2.349866</td>\n",
       "      <td>11.964</td>\n",
       "      <td>9.099</td>\n",
       "    </tr>\n",
       "    <tr>\n",
       "      <th>Industrials</th>\n",
       "      <td>11.336994</td>\n",
       "      <td>2.240226</td>\n",
       "      <td>14.142</td>\n",
       "      <td>11.677</td>\n",
       "    </tr>\n",
       "    <tr>\n",
       "      <th>Information Technology</th>\n",
       "      <td>11.217113</td>\n",
       "      <td>2.651298</td>\n",
       "      <td>14.903</td>\n",
       "      <td>6.210</td>\n",
       "    </tr>\n",
       "    <tr>\n",
       "      <th>Materials</th>\n",
       "      <td>3.033814</td>\n",
       "      <td>0.877748</td>\n",
       "      <td>0.000</td>\n",
       "      <td>2.043</td>\n",
       "    </tr>\n",
       "    <tr>\n",
       "      <th>Real Estate</th>\n",
       "      <td>3.959113</td>\n",
       "      <td>0.728886</td>\n",
       "      <td>2.014</td>\n",
       "      <td>0.000</td>\n",
       "    </tr>\n",
       "    <tr>\n",
       "      <th>Telecommunications Services</th>\n",
       "      <td>0.270626</td>\n",
       "      <td>0.158655</td>\n",
       "      <td>0.000</td>\n",
       "      <td>1.367</td>\n",
       "    </tr>\n",
       "    <tr>\n",
       "      <th>Utilities</th>\n",
       "      <td>2.461862</td>\n",
       "      <td>0.401864</td>\n",
       "      <td>0.000</td>\n",
       "      <td>25.593</td>\n",
       "    </tr>\n",
       "  </tbody>\n",
       "</table>\n",
       "</div>"
      ],
      "text/plain": [
       "                             mean_return  variance  pf_weights  bm_weights\n",
       "GICS Sector                                                               \n",
       "Consumer Discretionary         14.091950  3.011996      32.426      12.169\n",
       "Consumer Staples                5.131286  0.639845      24.551      29.727\n",
       "Energy                          3.390600  1.897641       0.000       0.000\n",
       "Financials                      8.701437  1.879873       0.000       2.116\n",
       "Health Care                    10.747583  2.349866      11.964       9.099\n",
       "Industrials                    11.336994  2.240226      14.142      11.677\n",
       "Information Technology         11.217113  2.651298      14.903       6.210\n",
       "Materials                       3.033814  0.877748       0.000       2.043\n",
       "Real Estate                     3.959113  0.728886       2.014       0.000\n",
       "Telecommunications Services     0.270626  0.158655       0.000       1.367\n",
       "Utilities                       2.461862  0.401864       0.000      25.593"
      ]
     },
     "execution_count": 13,
     "metadata": {},
     "output_type": "execute_result"
    }
   ],
   "source": [
    "# Group dataframe by GICS sectors \n",
    "grouped_df=portfolio_data.groupby('GICS Sector').sum()\n",
    "grouped_df"
   ]
  },
  {
   "cell_type": "markdown",
   "id": "902eb78e-3775-49b1-89d8-e9feb12e2b8b",
   "metadata": {},
   "source": [
    "Now calculate the active weights of the portfolio by comparing the portfolio weights in the column pf_weights, with the benchmark weights in the column bm_weights. Inspect the active weights.\n",
    "\n"
   ]
  },
  {
   "cell_type": "code",
   "execution_count": 14,
   "id": "1b4e6ed4-f13f-4cb3-ae50-bb46c428b52c",
   "metadata": {},
   "outputs": [
    {
     "name": "stdout",
     "output_type": "stream",
     "text": [
      "GICS Sector\n",
      "Consumer Discretionary         20.257\n",
      "Consumer Staples               -5.176\n",
      "Energy                          0.000\n",
      "Financials                     -2.116\n",
      "Health Care                     2.865\n",
      "Industrials                     2.465\n",
      "Information Technology          8.693\n",
      "Materials                      -2.043\n",
      "Real Estate                     2.014\n",
      "Telecommunications Services    -1.367\n",
      "Utilities                     -25.593\n",
      "Name: active_weight, dtype: float64\n"
     ]
    }
   ],
   "source": [
    "# Calculate active weights of portfolio\n",
    "grouped_df['active_weight']=grouped_df['pf_weights']-grouped_df['bm_weights']\n",
    "print (grouped_df['active_weight'])"
   ]
  },
  {
   "cell_type": "markdown",
   "id": "0b2a45bd-a90b-4e3b-a65c-9ce92c74524e",
   "metadata": {},
   "source": [
    "## Risk factors\n",
    "**Size factor**\n",
    "Stocks with a **lower market value** (mid and small caps) typically **realize higher returns** than those with a higher market value or capitalization (large caps). The size factor measures this **difference in return** between small cap companies relative to large cap companies. Suppose you would take the correlation of the S&P500 returns and the size factor returns. What would you expect to find?"
   ]
  },
  {
   "cell_type": "markdown",
   "id": "9f2bf7f4-9f7a-4e9a-b2f6-1289f0881716",
   "metadata": {},
   "source": [
    "**CORRECT ANSWER: I would expect a negative correlation between the size factor and the S&P500 returns.**"
   ]
  },
  {
   "cell_type": "markdown",
   "id": "2a2ab370-2923-4e4c-b9b5-238fc933c4b0",
   "metadata": {},
   "source": [
    "**The S&P500 consist mostly of large cap companies. Since the size factor returns are positive when small cap companies do well relative to large cap, the two should be negatively related to each other.**\n",
    "\n",
    "### Momentum factor\n",
    "In this exercise, you are going to investigate the correlation of the S&P500 returns with 2 factors, momentum and value.\n",
    "\n",
    "A stock is showing \"momentum\" if its prior 12-month average of returns is positive. The momentum factor is therefore formed by combining stocks that show consistent positive historic returns. The value factor looks at stocks that are inexpensive relative to some measure of fundamental value. For example price-to-earnings and price-to-book are typically ratios to measure \"value\". Let's see how our S&P500 returns relate to the returns of these factors.\n",
    "\n",
    "Available is a DataFrame df containing the returns of the two factors and the S&P500 over time."
   ]
  },
  {
   "cell_type": "code",
   "execution_count": null,
   "id": "681f886d-11d9-45a4-b1af-01a8e2649843",
   "metadata": {},
   "outputs": [],
   "source": []
  },
  {
   "cell_type": "code",
   "execution_count": null,
   "id": "7bdf96c5-4513-4b4f-a339-c5425baec0dc",
   "metadata": {},
   "outputs": [],
   "source": []
  },
  {
   "cell_type": "code",
   "execution_count": null,
   "id": "5cbb7a6c-66b6-49bc-b73b-fa4bf98ad19a",
   "metadata": {},
   "outputs": [],
   "source": []
  },
  {
   "cell_type": "code",
   "execution_count": null,
   "id": "7fcd06d2-dd8d-4906-b89a-ebe482b7cfe6",
   "metadata": {},
   "outputs": [],
   "source": []
  },
  {
   "cell_type": "code",
   "execution_count": null,
   "id": "25ebd00f-14db-446c-a68c-43c54d727f5d",
   "metadata": {},
   "outputs": [],
   "source": []
  },
  {
   "cell_type": "code",
   "execution_count": null,
   "id": "8d0c5abd-de02-45d7-bba0-141c47c86321",
   "metadata": {},
   "outputs": [],
   "source": []
  }
 ],
 "metadata": {
  "kernelspec": {
   "display_name": "Python 3 (ipykernel)",
   "language": "python",
   "name": "python3"
  },
  "language_info": {
   "codemirror_mode": {
    "name": "ipython",
    "version": 3
   },
   "file_extension": ".py",
   "mimetype": "text/x-python",
   "name": "python",
   "nbconvert_exporter": "python",
   "pygments_lexer": "ipython3",
   "version": "3.9.7"
  }
 },
 "nbformat": 4,
 "nbformat_minor": 5
}
