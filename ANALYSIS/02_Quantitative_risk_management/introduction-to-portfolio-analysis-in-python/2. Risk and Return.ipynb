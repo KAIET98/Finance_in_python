{
 "cells": [
  {
   "cell_type": "markdown",
   "id": "d53101ba-8e7b-4a30-9214-c5add67a2c70",
   "metadata": {},
   "source": [
    "# 2. Risk and Return\n",
    "## Annualized returns\n",
    "### Annualizing portfolio returns\n",
    "Suppose you invested $101 at the beginning of 2015 in a portfolio. By the end of March 2018, you wonder how your portfolio has performed over time, and whether it is as good as another portfolio which started trading mid-2016. What performance metric do you look at? Well, the annualized return of course!\n",
    "\n",
    "So let's calculate the annualized rate of return for your portfolio. Since our sample covers 3.2 years, let's use the monthly denomination in the formula for annualized returns. The number of months is already given under months.\n",
    "\n",
    "Available are the data on portfolio returns under pf_returns, as well as as a separate series pf_AUM containing the portfolio's value, or assets under management (AUM). Good luck!"
   ]
  },
  {
   "cell_type": "markdown",
   "id": "3c166ec7-cb88-457b-9cbf-74d8abe3966b",
   "metadata": {},
   "source": [
    "Calculate the total rate of return from the first and last observation stored in the portfolios value series pf_AUM. Use indexing again to take the last and first observation from the series.\n",
    "\n"
   ]
  },
  {
   "cell_type": "code",
   "execution_count": 1,
   "id": "c7ad03e0-2007-462b-b2a6-ac0cb99c00df",
   "metadata": {},
   "outputs": [],
   "source": [
    "months = 38"
   ]
  },
  {
   "cell_type": "code",
   "execution_count": 2,
   "id": "972c70d7-d1ec-4260-99dd-d364e205401f",
   "metadata": {},
   "outputs": [
    {
     "data": {
      "text/html": [
       "<div>\n",
       "<style scoped>\n",
       "    .dataframe tbody tr th:only-of-type {\n",
       "        vertical-align: middle;\n",
       "    }\n",
       "\n",
       "    .dataframe tbody tr th {\n",
       "        vertical-align: top;\n",
       "    }\n",
       "\n",
       "    .dataframe thead th {\n",
       "        text-align: right;\n",
       "    }\n",
       "</style>\n",
       "<table border=\"1\" class=\"dataframe\">\n",
       "  <thead>\n",
       "    <tr style=\"text-align: right;\">\n",
       "      <th></th>\n",
       "      <th>S&amp;P500</th>\n",
       "    </tr>\n",
       "    <tr>\n",
       "      <th>date</th>\n",
       "      <th></th>\n",
       "    </tr>\n",
       "  </thead>\n",
       "  <tbody>\n",
       "    <tr>\n",
       "      <th>2015-01-02</th>\n",
       "      <td>2058.199951</td>\n",
       "    </tr>\n",
       "    <tr>\n",
       "      <th>2015-01-05</th>\n",
       "      <td>2020.579956</td>\n",
       "    </tr>\n",
       "    <tr>\n",
       "      <th>2015-01-06</th>\n",
       "      <td>2002.609985</td>\n",
       "    </tr>\n",
       "    <tr>\n",
       "      <th>2015-01-07</th>\n",
       "      <td>2025.900024</td>\n",
       "    </tr>\n",
       "    <tr>\n",
       "      <th>2015-01-08</th>\n",
       "      <td>2062.139893</td>\n",
       "    </tr>\n",
       "    <tr>\n",
       "      <th>...</th>\n",
       "      <td>...</td>\n",
       "    </tr>\n",
       "    <tr>\n",
       "      <th>2019-03-13</th>\n",
       "      <td>2810.919922</td>\n",
       "    </tr>\n",
       "    <tr>\n",
       "      <th>2019-03-14</th>\n",
       "      <td>2808.479980</td>\n",
       "    </tr>\n",
       "    <tr>\n",
       "      <th>2019-03-15</th>\n",
       "      <td>2822.479980</td>\n",
       "    </tr>\n",
       "    <tr>\n",
       "      <th>2019-03-18</th>\n",
       "      <td>2832.939941</td>\n",
       "    </tr>\n",
       "    <tr>\n",
       "      <th>2019-03-19</th>\n",
       "      <td>2832.570068</td>\n",
       "    </tr>\n",
       "  </tbody>\n",
       "</table>\n",
       "<p>1059 rows × 1 columns</p>\n",
       "</div>"
      ],
      "text/plain": [
       "                 S&P500\n",
       "date                   \n",
       "2015-01-02  2058.199951\n",
       "2015-01-05  2020.579956\n",
       "2015-01-06  2002.609985\n",
       "2015-01-07  2025.900024\n",
       "2015-01-08  2062.139893\n",
       "...                 ...\n",
       "2019-03-13  2810.919922\n",
       "2019-03-14  2808.479980\n",
       "2019-03-15  2822.479980\n",
       "2019-03-18  2832.939941\n",
       "2019-03-19  2832.570068\n",
       "\n",
       "[1059 rows x 1 columns]"
      ]
     },
     "execution_count": 2,
     "metadata": {},
     "output_type": "execute_result"
    }
   ],
   "source": [
    "import pandas as pd\n",
    "import os\n",
    "\n",
    "\n",
    "while 'DATABASE' not in os.listdir():\n",
    "    \n",
    "    os.chdir('..')\n",
    "    \n",
    "\n",
    "pf_AUM = pd.read_csv('DATABASE/sp500.csv')\\\n",
    ".set_index('date')\n",
    "\n",
    "pf_AUM\n",
    "\n"
   ]
  },
  {
   "cell_type": "code",
   "execution_count": 3,
   "id": "4e944890-3422-48ae-b44d-ad68e5c09155",
   "metadata": {},
   "outputs": [
    {
     "data": {
      "text/plain": [
       "S&P500    0.376237\n",
       "dtype: float64"
      ]
     },
     "execution_count": 3,
     "metadata": {},
     "output_type": "execute_result"
    }
   ],
   "source": [
    "# Calculate total rate of return from portfolio AUM\n",
    "total_return = (pf_AUM.iloc[-1] - pf_AUM.iloc[0]) / pf_AUM.iloc[0]\n",
    "total_return"
   ]
  },
  {
   "cell_type": "markdown",
   "id": "42e173d2-c340-4cc8-b6b1-318a8447874a",
   "metadata": {},
   "source": [
    "Annualize the total rate of return by inputting the counted months in the formula, as well as the total return rate.\n",
    "\n"
   ]
  },
  {
   "cell_type": "code",
   "execution_count": 4,
   "id": "25d5e635-d6ed-446a-84cd-0171a1cca931",
   "metadata": {},
   "outputs": [
    {
     "name": "stdout",
     "output_type": "stream",
     "text": [
      "S&P500    0.106109\n",
      "dtype: float64\n"
     ]
    }
   ],
   "source": [
    "# Annualize return\n",
    "annualized_return = ((1 + total_return)**(12/months))-1\n",
    "print (annualized_return)"
   ]
  },
  {
   "cell_type": "markdown",
   "id": "7389986f-72c3-48ca-8341-2735fc40cb42",
   "metadata": {},
   "source": [
    "**Well that's a pretty great return right? Now that you've learned the steps to annualize returns, you can use this type of return to compare portfolios who have different time spans. In the next exercise, let's see how you can use annualized return to objectively compare investment opportunities.**"
   ]
  },
  {
   "cell_type": "markdown",
   "id": "aece2a6e-9cac-475e-a75c-08a5da11ef46",
   "metadata": {},
   "source": [
    "### Comparing annualized rates of return\n",
    "In the last exercise, you saw that the annualized rate of return was 19.6%. That's pretty high! But since your portfolio consists of only 4 stocks, this high return is indeed possible as it is not very diversified. Let's compare the portfolio's annual rate of return, with that of the S&P500, which is much more diversified.\n",
    "\n",
    "The value of the S&P500 between 1st of January 2015 and end of December 2018 has been made available. That's 4 years of data. You have full years this time, so use the year denomination in the formula for the annualized return. The data is stored under sp500_value."
   ]
  },
  {
   "cell_type": "code",
   "execution_count": 5,
   "id": "af1c04d9-9f77-44fd-98c1-708568337081",
   "metadata": {},
   "outputs": [
    {
     "name": "stdout",
     "output_type": "stream",
     "text": [
      "S&P500    0.376237\n",
      "dtype: float64\n"
     ]
    }
   ],
   "source": [
    "sp500_value = pf_AUM\n",
    "\n",
    "\n",
    "# Calculate the total return from the S&P500 value series\n",
    "total_return = (sp500_value.iloc[-1] - sp500_value.iloc[0]) / sp500_value.iloc[0]\n",
    "print(total_return)\n"
   ]
  },
  {
   "cell_type": "code",
   "execution_count": 6,
   "id": "5b3fc616-4223-4dd7-8ae5-6380885915bc",
   "metadata": {},
   "outputs": [
    {
     "name": "stdout",
     "output_type": "stream",
     "text": [
      "S&P500    0.083112\n",
      "dtype: float64\n"
     ]
    }
   ],
   "source": [
    "# Annualize the total return spanning 4 years\n",
    "annualized_return = ((1 + total_return)**(1/4))-1\n",
    "print (annualized_return)\n",
    "\n"
   ]
  },
  {
   "cell_type": "markdown",
   "id": "b08278d7-9015-4ba5-8405-3320829b3271",
   "metadata": {},
   "source": [
    "**You see that once you get the hang of it, annualizing returns is relatively straightforward. But it is oh so important when you are comparing portfolio performance numbers, as you're using the same yardstick to measure them against. In the next lesson, you'll learn more about returns and how you should take into account the level of risk taken to achieve those returns. In fact, you'll see that the portfolio returns, although much higher, might not be that great compared to the S&P500 after all, when you take risk into account!**\n",
    "\n",
    "### Risk adjusted returns\n",
    "\n",
    "\n",
    "you saw that the Sharpe ratio of the Apple stock was below 1, namely 0.64. Remember, the Sharpe ratio represents the return proportional to risk, so how do you interpret a Sharpe ratio of 0.64? Which of the below statements is correct?"
   ]
  },
  {
   "cell_type": "markdown",
   "id": "59fabfbe-86fa-4abe-9719-42c464bf9138",
   "metadata": {},
   "source": [
    "**CORRECT ANSWER: A Sharpe ratio of 1 and up indicates that the returns on investment are proportional to the risk taken. A Sharpe ratio lower than 1 indicates that return on investment is less than the risk taken.**"
   ]
  },
  {
   "cell_type": "markdown",
   "id": "d6fcd671-c7da-422e-9ae0-0728335f23ad",
   "metadata": {},
   "source": [
    "**When the Sharpe ratio is below 1, the return does not outweigh the risk proportionally. Although there might be other reasons to invest in such a portfolio, the Sharpe ratio doesn't indicate you are getting a great risk-return trade-off.**\n",
    "\n",
    "\n",
    "### S&P500 Sharpe ratio\n",
    "In this exercise, you're going to calculate the Sharpe ratio of the S&P500, starting with pricing data only. In the next exercise, you'll do the same for the portfolio data, such that you can compare the Sharpe ratios of the two.\n",
    "\n",
    "Available for you is the price data from the S&P500 under sp500_value. The risk-free rate is available under rfr, which is conveniently set to zero. Let's give it a try!"
   ]
  },
  {
   "cell_type": "code",
   "execution_count": 7,
   "id": "72affbc1-47ea-4361-bc97-1e9a90b4594d",
   "metadata": {},
   "outputs": [],
   "source": [
    "rfr = 0"
   ]
  },
  {
   "cell_type": "code",
   "execution_count": 8,
   "id": "15bd6086-4c2f-4f1e-ba3d-c8add2942644",
   "metadata": {},
   "outputs": [
    {
     "data": {
      "text/html": [
       "<div>\n",
       "<style scoped>\n",
       "    .dataframe tbody tr th:only-of-type {\n",
       "        vertical-align: middle;\n",
       "    }\n",
       "\n",
       "    .dataframe tbody tr th {\n",
       "        vertical-align: top;\n",
       "    }\n",
       "\n",
       "    .dataframe thead th {\n",
       "        text-align: right;\n",
       "    }\n",
       "</style>\n",
       "<table border=\"1\" class=\"dataframe\">\n",
       "  <thead>\n",
       "    <tr style=\"text-align: right;\">\n",
       "      <th></th>\n",
       "      <th>S&amp;P500</th>\n",
       "    </tr>\n",
       "    <tr>\n",
       "      <th>date</th>\n",
       "      <th></th>\n",
       "    </tr>\n",
       "  </thead>\n",
       "  <tbody>\n",
       "    <tr>\n",
       "      <th>2015-01-02</th>\n",
       "      <td>2058.199951</td>\n",
       "    </tr>\n",
       "    <tr>\n",
       "      <th>2015-01-05</th>\n",
       "      <td>2020.579956</td>\n",
       "    </tr>\n",
       "    <tr>\n",
       "      <th>2015-01-06</th>\n",
       "      <td>2002.609985</td>\n",
       "    </tr>\n",
       "    <tr>\n",
       "      <th>2015-01-07</th>\n",
       "      <td>2025.900024</td>\n",
       "    </tr>\n",
       "    <tr>\n",
       "      <th>2015-01-08</th>\n",
       "      <td>2062.139893</td>\n",
       "    </tr>\n",
       "    <tr>\n",
       "      <th>...</th>\n",
       "      <td>...</td>\n",
       "    </tr>\n",
       "    <tr>\n",
       "      <th>2019-03-13</th>\n",
       "      <td>2810.919922</td>\n",
       "    </tr>\n",
       "    <tr>\n",
       "      <th>2019-03-14</th>\n",
       "      <td>2808.479980</td>\n",
       "    </tr>\n",
       "    <tr>\n",
       "      <th>2019-03-15</th>\n",
       "      <td>2822.479980</td>\n",
       "    </tr>\n",
       "    <tr>\n",
       "      <th>2019-03-18</th>\n",
       "      <td>2832.939941</td>\n",
       "    </tr>\n",
       "    <tr>\n",
       "      <th>2019-03-19</th>\n",
       "      <td>2832.570068</td>\n",
       "    </tr>\n",
       "  </tbody>\n",
       "</table>\n",
       "<p>1059 rows × 1 columns</p>\n",
       "</div>"
      ],
      "text/plain": [
       "                 S&P500\n",
       "date                   \n",
       "2015-01-02  2058.199951\n",
       "2015-01-05  2020.579956\n",
       "2015-01-06  2002.609985\n",
       "2015-01-07  2025.900024\n",
       "2015-01-08  2062.139893\n",
       "...                 ...\n",
       "2019-03-13  2810.919922\n",
       "2019-03-14  2808.479980\n",
       "2019-03-15  2822.479980\n",
       "2019-03-18  2832.939941\n",
       "2019-03-19  2832.570068\n",
       "\n",
       "[1059 rows x 1 columns]"
      ]
     },
     "execution_count": 8,
     "metadata": {},
     "output_type": "execute_result"
    }
   ],
   "source": [
    "sp500_value = pd.read_csv('DATABASE/sp500.csv')\\\n",
    ".set_index('date')\n",
    "\n",
    "sp500_value"
   ]
  },
  {
   "cell_type": "markdown",
   "id": "21d48673-d55b-4631-b541-f22fa0483204",
   "metadata": {},
   "source": [
    "Calculate the total return of the S&P500 pricing data sp500_value using indexing and annualize the total return number; the data spans 4 years.\n"
   ]
  },
  {
   "cell_type": "code",
   "execution_count": 9,
   "id": "5f05e1d9-d91b-4008-b2a1-02f68e95aee1",
   "metadata": {},
   "outputs": [
    {
     "data": {
      "text/plain": [
       "S&P500    0.376237\n",
       "dtype: float64"
      ]
     },
     "execution_count": 9,
     "metadata": {},
     "output_type": "execute_result"
    }
   ],
   "source": [
    "# Calculate total return and annualized return from price data \n",
    "total_return = (sp500_value.iloc[-1] - sp500_value.iloc[0]) / sp500_value.iloc[0]\n",
    "total_return"
   ]
  },
  {
   "cell_type": "markdown",
   "id": "4fd3e354-aa23-4cbd-97be-a61dd058d5d1",
   "metadata": {},
   "source": [
    "Calculate the daily returns from the S&P500 pricing data, you'll need this for the volatility calculation.\n"
   ]
  },
  {
   "cell_type": "code",
   "execution_count": 10,
   "id": "0d61bf10-7b02-4e3b-b34f-b64a86a74d59",
   "metadata": {},
   "outputs": [
    {
     "data": {
      "text/plain": [
       "S&P500    0.083112\n",
       "dtype: float64"
      ]
     },
     "execution_count": 10,
     "metadata": {},
     "output_type": "execute_result"
    }
   ],
   "source": [
    "# Annualize the total return over 4 year \n",
    "annualized_return = ((1 + total_return)**(1/4))-1\n",
    "\n",
    "annualized_return"
   ]
  },
  {
   "cell_type": "code",
   "execution_count": 11,
   "id": "58e51816-2d75-45b9-80f4-1df90bdb2279",
   "metadata": {},
   "outputs": [
    {
     "data": {
      "text/html": [
       "<div>\n",
       "<style scoped>\n",
       "    .dataframe tbody tr th:only-of-type {\n",
       "        vertical-align: middle;\n",
       "    }\n",
       "\n",
       "    .dataframe tbody tr th {\n",
       "        vertical-align: top;\n",
       "    }\n",
       "\n",
       "    .dataframe thead th {\n",
       "        text-align: right;\n",
       "    }\n",
       "</style>\n",
       "<table border=\"1\" class=\"dataframe\">\n",
       "  <thead>\n",
       "    <tr style=\"text-align: right;\">\n",
       "      <th></th>\n",
       "      <th>S&amp;P500</th>\n",
       "    </tr>\n",
       "    <tr>\n",
       "      <th>date</th>\n",
       "      <th></th>\n",
       "    </tr>\n",
       "  </thead>\n",
       "  <tbody>\n",
       "    <tr>\n",
       "      <th>2015-01-02</th>\n",
       "      <td>NaN</td>\n",
       "    </tr>\n",
       "    <tr>\n",
       "      <th>2015-01-05</th>\n",
       "      <td>-0.018278</td>\n",
       "    </tr>\n",
       "    <tr>\n",
       "      <th>2015-01-06</th>\n",
       "      <td>-0.008893</td>\n",
       "    </tr>\n",
       "    <tr>\n",
       "      <th>2015-01-07</th>\n",
       "      <td>0.011630</td>\n",
       "    </tr>\n",
       "    <tr>\n",
       "      <th>2015-01-08</th>\n",
       "      <td>0.017888</td>\n",
       "    </tr>\n",
       "    <tr>\n",
       "      <th>...</th>\n",
       "      <td>...</td>\n",
       "    </tr>\n",
       "    <tr>\n",
       "      <th>2019-03-13</th>\n",
       "      <td>0.006950</td>\n",
       "    </tr>\n",
       "    <tr>\n",
       "      <th>2019-03-14</th>\n",
       "      <td>-0.000868</td>\n",
       "    </tr>\n",
       "    <tr>\n",
       "      <th>2019-03-15</th>\n",
       "      <td>0.004985</td>\n",
       "    </tr>\n",
       "    <tr>\n",
       "      <th>2019-03-18</th>\n",
       "      <td>0.003706</td>\n",
       "    </tr>\n",
       "    <tr>\n",
       "      <th>2019-03-19</th>\n",
       "      <td>-0.000131</td>\n",
       "    </tr>\n",
       "  </tbody>\n",
       "</table>\n",
       "<p>1059 rows × 1 columns</p>\n",
       "</div>"
      ],
      "text/plain": [
       "              S&P500\n",
       "date                \n",
       "2015-01-02       NaN\n",
       "2015-01-05 -0.018278\n",
       "2015-01-06 -0.008893\n",
       "2015-01-07  0.011630\n",
       "2015-01-08  0.017888\n",
       "...              ...\n",
       "2019-03-13  0.006950\n",
       "2019-03-14 -0.000868\n",
       "2019-03-15  0.004985\n",
       "2019-03-18  0.003706\n",
       "2019-03-19 -0.000131\n",
       "\n",
       "[1059 rows x 1 columns]"
      ]
     },
     "execution_count": 11,
     "metadata": {},
     "output_type": "execute_result"
    }
   ],
   "source": [
    "# Create the returns data \n",
    "returns_sp500 = sp500_value.pct_change()\n",
    "returns_sp500"
   ]
  },
  {
   "cell_type": "markdown",
   "id": "4ec82fdd-e6a2-4568-9a6b-5426b5537430",
   "metadata": {},
   "source": [
    "Calculate the standard deviation from the returns data and annualize the number using 250 trading days.\n"
   ]
  },
  {
   "cell_type": "code",
   "execution_count": 12,
   "id": "a27c3d54-f618-43c6-b1ce-a68227bce17e",
   "metadata": {},
   "outputs": [],
   "source": [
    "import numpy as np\n",
    "\n",
    "\n",
    "# Calculate annualized volatility from the standard deviation\n",
    "vol_sp500 = returns_sp500.std() * np.sqrt(250)\n",
    "\n"
   ]
  },
  {
   "cell_type": "markdown",
   "id": "3a6bc49a-89de-4c5c-8e72-891ab550af85",
   "metadata": {},
   "source": [
    "Finally, calculate the Sharpe ratio using the annualized return and the annualized volatility and print the results.\n",
    "\n"
   ]
  },
  {
   "cell_type": "code",
   "execution_count": 13,
   "id": "38e721a4-ec27-4298-8ee9-8ebc42888f31",
   "metadata": {},
   "outputs": [
    {
     "name": "stdout",
     "output_type": "stream",
     "text": [
      "S&P500    0.610504\n",
      "dtype: float64\n"
     ]
    }
   ],
   "source": [
    "# Calculate the Sharpe ratio \n",
    "sharpe_ratio = ((annualized_return - rfr) /vol_sp500)\n",
    "print (sharpe_ratio)"
   ]
  },
  {
   "cell_type": "markdown",
   "id": "da6e7058-8cb2-4808-8443-ad5376d7e4d6",
   "metadata": {},
   "source": [
    "**Notice that it takes quite a few steps to calculate the Sharpe ratio from your annualized returns and volatility. Let's now repeat these steps on the portfolio data, and see how the portfolio measures up.**\n",
    "\n",
    "\n",
    "## Non-normal distribution of returns\n",
    "\n",
    "In this exercise you are now going to calculate the Sharpe ratio of the portfolio. How do you think the portfolio Sharpe ratio will be different to the S&P500 Sharpe ratio? You'll find out in this exercise.\n",
    "\n",
    "You have the portfolio value over time under pf_AUM and the number of months for that data under months. Last, the risk-free rate is available under rfr, which is still set to zero.\n",
    "\n",
    "### Skewness of the S&P500\n",
    "We already know from the video that the S&P500 should be normally distributed, without too much skewness (when you have enough data). However, since you're working with a short data sample spanning only a few years, there might actually be some skewness in your sample. To make you aware of this potential sample skewness, let's plot the data and have a look.\n",
    "\n",
    "The returns data from the S&P500 is available as returns_sp500."
   ]
  },
  {
   "cell_type": "markdown",
   "id": "d99eaa41-a353-4ab9-ac2f-9f866e061785",
   "metadata": {},
   "source": [
    "Create a histogram of your returns data with the hist() function, followed by plt.show() to see the plot.\n",
    "\n"
   ]
  },
  {
   "cell_type": "code",
   "execution_count": 14,
   "id": "e4e61d73-9c00-4dc9-8f76-65c72d87bc49",
   "metadata": {},
   "outputs": [
    {
     "data": {
      "image/png": "[encoded data removed]",
      "text/plain": [
       "<Figure size 432x288 with 1 Axes>"
      ]
     },
     "metadata": {
      "needs_background": "light"
     },
     "output_type": "display_data"
    }
   ],
   "source": [
    "import matplotlib.pyplot as plt\n",
    "\n",
    "# Create a histogram of the S&P500 returns and show the plot\n",
    "returns_sp500.hist()\n",
    "plt.show()"
   ]
  },
  {
   "cell_type": "markdown",
   "id": "f13a1a86-10a0-4640-9b74-524d0ea1acaf",
   "metadata": {},
   "source": [
    "**The S&P500 data has a negative skew; the mean is to the left of the mode and median, this data has more positive returns compared to a normal distribution with a mean of zero.**"
   ]
  },
  {
   "cell_type": "code",
   "execution_count": 15,
   "id": "1d0dc472-f090-4ee3-96d0-40b52dcf88ac",
   "metadata": {},
   "outputs": [
    {
     "name": "stdout",
     "output_type": "stream",
     "text": [
      "Skewness:  S&P500   -0.383199\n",
      "dtype: float64\n",
      "Kurtosis:  S&P500    3.922391\n",
      "dtype: float64\n"
     ]
    }
   ],
   "source": [
    "print('Skewness: ', returns_sp500.skew())\n",
    "print('Kurtosis: ', returns_sp500.kurtosis())"
   ]
  },
  {
   "cell_type": "code",
   "execution_count": 19,
   "id": "3d8bc47c-a5c4-4fee-8fa8-dd70c66228f0",
   "metadata": {},
   "outputs": [],
   "source": [
    "from ANALYSIS.f_functions.kurtosis_valoration import kurtosis_valoration"
   ]
  },
  {
   "cell_type": "code",
   "execution_count": 20,
   "id": "866be518-2b34-4afd-9608-ffb5ef64da42",
   "metadata": {},
   "outputs": [
    {
     "name": "stdout",
     "output_type": "stream",
     "text": [
      "El rendimiento está mas concentrado en las colas\n"
     ]
    }
   ],
   "source": [
    "\n",
    "kurtos = returns_sp500.kurtosis()\n",
    "kurtosis_valoration(kurtos)"
   ]
  },
  {
   "cell_type": "markdown",
   "id": "c41be1d6-572e-4988-a568-4901d3fe36d3",
   "metadata": {},
   "source": [
    "### Comparing distributions of stock returns\n",
    "Let's have a look at how you can use skewness and kurtosis in your investment decisions. In this exercise you're going to compare the distributions of singular stocks with the portfolio, and see whether combining multiple stocks in a portfolio improves your returns distribution."
   ]
  },
  {
   "cell_type": "code",
   "execution_count": 23,
   "id": "4f15d74b-0538-4649-ab44-b909d3f02c09",
   "metadata": {},
   "outputs": [
    {
     "data": {
      "text/plain": [
       "array([[<AxesSubplot:title={'center':'S&P500'}>]], dtype=object)"
      ]
     },
     "execution_count": 23,
     "metadata": {},
     "output_type": "execute_result"
    },
    {
     "data": {
      "image/png": "[encoded data removed]",
      "text/plain": [
       "<Figure size 432x288 with 1 Axes>"
      ]
     },
     "metadata": {
      "needs_background": "light"
     },
     "output_type": "display_data"
    }
   ],
   "source": [
    "# Print the histograms of the stocks in the portfolio\n",
    "returns_sp500.hist()"
   ]
  },
  {
   "cell_type": "code",
   "execution_count": 24,
   "id": "6b71cb41-6c66-4461-b8aa-4639b7810df3",
   "metadata": {},
   "outputs": [
    {
     "name": "stdout",
     "output_type": "stream",
     "text": [
      "skew :  S&P500   -0.383199\n",
      "dtype: float64\n",
      "kurt :  S&P500    3.922391\n",
      "dtype: float64\n"
     ]
    }
   ],
   "source": [
    "# Print skewness and kurtosis of the stocks\n",
    "print (\"skew : \", returns_sp500.skew())\n",
    "print (\"kurt : \", returns_sp500.kurtosis())"
   ]
  },
  {
   "cell_type": "markdown",
   "id": "020e7b16-1601-4ac7-bde4-ac943bcd2228",
   "metadata": {},
   "source": [
    "Plot the histogram for the portfolio returns data and print skewness and kurtosis. Does is look better than the singular stock returns?\n",
    "\n"
   ]
  },
  {
   "cell_type": "code",
   "execution_count": 25,
   "id": "dbe26618-a9a1-4b32-8bde-bfada85add6c",
   "metadata": {},
   "outputs": [
    {
     "data": {
      "image/png": "[encoded data removed]",
      "text/plain": [
       "<Figure size 432x288 with 1 Axes>"
      ]
     },
     "metadata": {
      "needs_background": "light"
     },
     "output_type": "display_data"
    }
   ],
   "source": [
    "# Print the histogram of the portfolio\n",
    "returns_sp500.hist()\n",
    "plt.show()"
   ]
  },
  {
   "cell_type": "code",
   "execution_count": 26,
   "id": "33a13e8e-5794-455a-8dd3-9ebb9a4a0095",
   "metadata": {},
   "outputs": [
    {
     "name": "stdout",
     "output_type": "stream",
     "text": [
      "skew :  S&P500   -0.383199\n",
      "dtype: float64\n",
      "kurt :  S&P500    3.922391\n",
      "dtype: float64\n"
     ]
    }
   ],
   "source": [
    "# Print skewness and kurtosis of the portfolio\n",
    "print (\"skew : \", returns_sp500.skew())\n",
    "print (\"kurt : \", returns_sp500.kurtosis())"
   ]
  },
  {
   "cell_type": "code",
   "execution_count": null,
   "id": "dfdfb9ee-c3fa-4cd6-855c-e82c89b8cb61",
   "metadata": {},
   "outputs": [],
   "source": []
  },
  {
   "cell_type": "code",
   "execution_count": null,
   "id": "1589df35-6d7a-48e4-80bd-3efa8be0c5ff",
   "metadata": {},
   "outputs": [],
   "source": []
  },
  {
   "cell_type": "code",
   "execution_count": null,
   "id": "9c66713a-a5dc-4af4-a464-088e153e3c44",
   "metadata": {},
   "outputs": [],
   "source": []
  },
  {
   "cell_type": "code",
   "execution_count": null,
   "id": "66e263fa-fab2-4af9-ab94-906a185160f2",
   "metadata": {},
   "outputs": [],
   "source": []
  },
  {
   "cell_type": "code",
   "execution_count": null,
   "id": "9e72f2e9-a714-436f-8365-2a12d4d4012c",
   "metadata": {},
   "outputs": [],
   "source": []
  },
  {
   "cell_type": "code",
   "execution_count": null,
   "id": "fcfcae3a-4be9-4464-beae-94f6468b717a",
   "metadata": {},
   "outputs": [],
   "source": []
  },
  {
   "cell_type": "code",
   "execution_count": null,
   "id": "838eefb5-6996-4dca-9c89-7995d62228ec",
   "metadata": {},
   "outputs": [],
   "source": []
  },
  {
   "cell_type": "code",
   "execution_count": null,
   "id": "5330fc0f-b98d-471b-91d7-fc69b7705150",
   "metadata": {},
   "outputs": [],
   "source": []
  },
  {
   "cell_type": "code",
   "execution_count": null,
   "id": "1bf1463e-19b0-4113-b400-7159881ae777",
   "metadata": {},
   "outputs": [],
   "source": []
  },
  {
   "cell_type": "code",
   "execution_count": null,
   "id": "1da62830-aa33-456d-8422-ccd093e6e207",
   "metadata": {},
   "outputs": [],
   "source": []
  },
  {
   "cell_type": "code",
   "execution_count": null,
   "id": "7b52a47b-a5e9-4263-bc38-335a6a45f698",
   "metadata": {},
   "outputs": [],
   "source": []
  }
 ],
 "metadata": {
  "kernelspec": {
   "display_name": "Python 3 (ipykernel)",
   "language": "python",
   "name": "python3"
  },
  "language_info": {
   "codemirror_mode": {
    "name": "ipython",
    "version": 3
   },
   "file_extension": ".py",
   "mimetype": "text/x-python",
   "name": "python",
   "nbconvert_exporter": "python",
   "pygments_lexer": "ipython3",
   "version": "3.9.7"
  }
 },
 "nbformat": 4,
 "nbformat_minor": 5
}
