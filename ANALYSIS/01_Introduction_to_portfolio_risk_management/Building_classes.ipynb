{
 "cells": [
  {
   "cell_type": "markdown",
   "id": "241346d9-eac7-4281-991a-cd63c669171c",
   "metadata": {},
   "source": [
    "# Building classes"
   ]
  },
  {
   "cell_type": "code",
   "execution_count": 1,
   "id": "9867217b-c658-4cff-be83-008d95af478d",
   "metadata": {},
   "outputs": [],
   "source": [
    "import os \n",
    "\n",
    "while 'ANALYSIS' not in os.listdir():\n",
    "    \n",
    "    os.chdir('..')"
   ]
  },
  {
   "cell_type": "code",
   "execution_count": 2,
   "id": "822052b3-e95e-4b6f-b8bf-0b11e21e00f0",
   "metadata": {},
   "outputs": [],
   "source": [
    "from ANALYSIS.modules.finantial_ratio_building.data_building_cls import FinanceRatiosBuilding"
   ]
  },
  {
   "cell_type": "code",
   "execution_count": 3,
   "id": "94a5fb66-c2a4-455b-8de7-423f7321c38f",
   "metadata": {},
   "outputs": [],
   "source": [
    "FRB = FinanceRatiosBuilding(finance_data_route='https://assets.datacamp.com/production/repositories/1546/datasets/fb7165b7270a3721f69abf9ff09b85938d9d1068/Big9Returns2017.csv', \n",
    "                            parse_date='yes')"
   ]
  },
  {
   "cell_type": "code",
   "execution_count": 4,
   "id": "41b4b5db-c2a9-4324-bc73-2815ae0d1c43",
   "metadata": {},
   "outputs": [
    {
     "ename": "AttributeError",
     "evalue": "'FinanceRatiosBuilding' object has no attribute 'portfolio_data'",
     "output_type": "error",
     "traceback": [
      "\u001b[0;31m---------------------------------------------------------------------------\u001b[0m",
      "\u001b[0;31mAttributeError\u001b[0m                            Traceback (most recent call last)",
      "\u001b[0;32m/var/folders/rl/7kfqt5qj27db72ntpx_tj2zm0000gn/T/ipykernel_88403/1682754396.py\u001b[0m in \u001b[0;36m<module>\u001b[0;34m\u001b[0m\n\u001b[0;32m----> 1\u001b[0;31m \u001b[0mFRB\u001b[0m\u001b[0;34m.\u001b[0m\u001b[0mPortfolioMarketCapitalization\u001b[0m\u001b[0;34m(\u001b[0m\u001b[0;34m)\u001b[0m\u001b[0;34m\u001b[0m\u001b[0;34m\u001b[0m\u001b[0m\n\u001b[0m",
      "\u001b[0;32m~/Desktop/Finance_in_python/ANALYSIS/modules/finantial_ratio_building/data_building_cls.py\u001b[0m in \u001b[0;36mPortfolioMarketCapitalization\u001b[0;34m(self)\u001b[0m\n\u001b[1;32m     25\u001b[0m \u001b[0;34m\u001b[0m\u001b[0m\n\u001b[1;32m     26\u001b[0m         \u001b[0;31m# Calculate the portfolio returns\u001b[0m\u001b[0;34m\u001b[0m\u001b[0;34m\u001b[0m\u001b[0m\n\u001b[0;32m---> 27\u001b[0;31m         \u001b[0mself\u001b[0m\u001b[0;34m.\u001b[0m\u001b[0mportfolio_data\u001b[0m\u001b[0;34m[\u001b[0m\u001b[0;34m'Portfolio'\u001b[0m\u001b[0;34m]\u001b[0m \u001b[0;34m=\u001b[0m \u001b[0mWeightedReturns\u001b[0m\u001b[0;34m.\u001b[0m\u001b[0msum\u001b[0m\u001b[0;34m(\u001b[0m\u001b[0maxis\u001b[0m\u001b[0;34m=\u001b[0m\u001b[0;36m1\u001b[0m\u001b[0;34m)\u001b[0m\u001b[0;34m\u001b[0m\u001b[0;34m\u001b[0m\u001b[0m\n\u001b[0m\u001b[1;32m     28\u001b[0m \u001b[0;34m\u001b[0m\u001b[0m\n\u001b[1;32m     29\u001b[0m        \u001b[0;31m#---------------\u001b[0m\u001b[0;34m\u001b[0m\u001b[0;34m\u001b[0m\u001b[0m\n",
      "\u001b[0;31mAttributeError\u001b[0m: 'FinanceRatiosBuilding' object has no attribute 'portfolio_data'"
     ]
    }
   ],
   "source": [
    "FRB.PortfolioMarketCapitalization()"
   ]
  },
  {
   "cell_type": "code",
   "execution_count": null,
   "id": "24a635c2-fe9e-4964-b01a-008ea5ccef91",
   "metadata": {},
   "outputs": [],
   "source": []
  },
  {
   "cell_type": "code",
   "execution_count": null,
   "id": "4b371da0-4b46-446c-a1d7-5a6ede9c0d2f",
   "metadata": {},
   "outputs": [],
   "source": []
  }
 ],
 "metadata": {
  "kernelspec": {
   "display_name": "Python 3 (ipykernel)",
   "language": "python",
   "name": "python3"
  },
  "language_info": {
   "codemirror_mode": {
    "name": "ipython",
    "version": 3
   },
   "file_extension": ".py",
   "mimetype": "text/x-python",
   "name": "python",
   "nbconvert_exporter": "python",
   "pygments_lexer": "ipython3",
   "version": "3.9.13"
  }
 },
 "nbformat": 4,
 "nbformat_minor": 5
}
