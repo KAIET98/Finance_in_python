{
 "cells": [
  {
   "cell_type": "markdown",
   "id": "e8221b79-568c-4a69-9eda-36c7a8aeda1c",
   "metadata": {},
   "source": [
    "# 1_Univariate_investment_risk_and_returns\n",
    "## Financial returns\n",
    "\n",
    "\n",
    "Types of returns: \n",
    "\n",
    "1. Discrete returns: are most commonly used, and represent periodic (Daily, weekly, monthly) price movements: \n",
    "\n",
    "```\n",
    "Rt2 = (Pt2- pt1)/pt1\n",
    "```\n",
    "2. Log returns: are often used in academic research and financial modeling. They assume continuous compounding. \n",
    "\n",
    "```\n",
    "Rt2 = ln(Pt2)- ln(Pt1)\n",
    "```\n",
    "\n",
    "### Financial timeseries data\n",
    "In finance, it is common to be working with a CSV (comma-separated-values) \"flat\" file of a timeseries of many different assets with their prices, returns, or other data over time. Sometimes the data is stored in databases, but more often than not, even large banks still use spreadsheets.\n",
    "\n",
    "In this exercise, you have been given a timeseries of trading data for Microsoft stock as a .csv file stored at the url fpath_csv. When you finish the exercise, take note of the various types of data stored in each column.\n",
    "\n",
    "You will be using pandas to read in the CSV data as a DataFrame."
   ]
  },
  {
   "cell_type": "code",
   "execution_count": 3,
   "id": "67a54968-ec1b-4f4d-bace-40075c5c0667",
   "metadata": {},
   "outputs": [],
   "source": [
    "import os\n",
    "\n",
    "while 'DATABASE' not in os.listdir():\n",
    "    \n",
    "    os.chdir('..')"
   ]
  },
  {
   "cell_type": "code",
   "execution_count": 17,
   "id": "fbae186c-85a3-484f-836c-08b21f418f72",
   "metadata": {},
   "outputs": [
    {
     "data": {
      "text/html": [
       "<div>\n",
       "<style scoped>\n",
       "    .dataframe tbody tr th:only-of-type {\n",
       "        vertical-align: middle;\n",
       "    }\n",
       "\n",
       "    .dataframe tbody tr th {\n",
       "        vertical-align: top;\n",
       "    }\n",
       "\n",
       "    .dataframe thead th {\n",
       "        text-align: right;\n",
       "    }\n",
       "</style>\n",
       "<table border=\"1\" class=\"dataframe\">\n",
       "  <thead>\n",
       "    <tr style=\"text-align: right;\">\n",
       "      <th></th>\n",
       "      <th>Date</th>\n",
       "      <th>Open</th>\n",
       "      <th>High</th>\n",
       "      <th>Low</th>\n",
       "      <th>Close</th>\n",
       "      <th>Volume</th>\n",
       "      <th>Adjusted</th>\n",
       "    </tr>\n",
       "  </thead>\n",
       "  <tbody>\n",
       "    <tr>\n",
       "      <th>0</th>\n",
       "      <td>2000-01-03</td>\n",
       "      <td>88.777</td>\n",
       "      <td>89.722</td>\n",
       "      <td>84.712</td>\n",
       "      <td>58.281250</td>\n",
       "      <td>53228400</td>\n",
       "      <td>38.527809</td>\n",
       "    </tr>\n",
       "    <tr>\n",
       "      <th>1</th>\n",
       "      <td>2000-01-04</td>\n",
       "      <td>85.893</td>\n",
       "      <td>88.588</td>\n",
       "      <td>84.901</td>\n",
       "      <td>56.312500</td>\n",
       "      <td>54119000</td>\n",
       "      <td>37.226345</td>\n",
       "    </tr>\n",
       "    <tr>\n",
       "      <th>2</th>\n",
       "      <td>2000-01-05</td>\n",
       "      <td>84.050</td>\n",
       "      <td>88.021</td>\n",
       "      <td>82.726</td>\n",
       "      <td>56.906250</td>\n",
       "      <td>64059600</td>\n",
       "      <td>37.618851</td>\n",
       "    </tr>\n",
       "    <tr>\n",
       "      <th>3</th>\n",
       "      <td>2000-01-06</td>\n",
       "      <td>84.853</td>\n",
       "      <td>86.130</td>\n",
       "      <td>81.970</td>\n",
       "      <td>55.000000</td>\n",
       "      <td>54976600</td>\n",
       "      <td>36.358688</td>\n",
       "    </tr>\n",
       "    <tr>\n",
       "      <th>4</th>\n",
       "      <td>2000-01-07</td>\n",
       "      <td>82.159</td>\n",
       "      <td>84.901</td>\n",
       "      <td>81.166</td>\n",
       "      <td>55.718750</td>\n",
       "      <td>62013600</td>\n",
       "      <td>36.833828</td>\n",
       "    </tr>\n",
       "    <tr>\n",
       "      <th>...</th>\n",
       "      <td>...</td>\n",
       "      <td>...</td>\n",
       "      <td>...</td>\n",
       "      <td>...</td>\n",
       "      <td>...</td>\n",
       "      <td>...</td>\n",
       "      <td>...</td>\n",
       "    </tr>\n",
       "    <tr>\n",
       "      <th>4556</th>\n",
       "      <td>2018-02-12</td>\n",
       "      <td>89.157</td>\n",
       "      <td>90.202</td>\n",
       "      <td>88.343</td>\n",
       "      <td>89.129997</td>\n",
       "      <td>35720300</td>\n",
       "      <td>88.713272</td>\n",
       "    </tr>\n",
       "    <tr>\n",
       "      <th>4557</th>\n",
       "      <td>2018-02-13</td>\n",
       "      <td>89.348</td>\n",
       "      <td>90.423</td>\n",
       "      <td>88.212</td>\n",
       "      <td>89.830002</td>\n",
       "      <td>26407700</td>\n",
       "      <td>89.410004</td>\n",
       "    </tr>\n",
       "    <tr>\n",
       "      <th>4558</th>\n",
       "      <td>2018-02-14</td>\n",
       "      <td>88.510</td>\n",
       "      <td>90.990</td>\n",
       "      <td>88.410</td>\n",
       "      <td>90.809998</td>\n",
       "      <td>34960900</td>\n",
       "      <td>90.809998</td>\n",
       "    </tr>\n",
       "    <tr>\n",
       "      <th>4559</th>\n",
       "      <td>2018-02-15</td>\n",
       "      <td>91.210</td>\n",
       "      <td>92.720</td>\n",
       "      <td>90.620</td>\n",
       "      <td>92.660004</td>\n",
       "      <td>27823900</td>\n",
       "      <td>92.660004</td>\n",
       "    </tr>\n",
       "    <tr>\n",
       "      <th>4560</th>\n",
       "      <td>2018-02-16</td>\n",
       "      <td>92.450</td>\n",
       "      <td>93.500</td>\n",
       "      <td>91.800</td>\n",
       "      <td>92.000000</td>\n",
       "      <td>30557400</td>\n",
       "      <td>92.000000</td>\n",
       "    </tr>\n",
       "  </tbody>\n",
       "</table>\n",
       "<p>4561 rows × 7 columns</p>\n",
       "</div>"
      ],
      "text/plain": [
       "           Date    Open    High     Low      Close    Volume   Adjusted\n",
       "0    2000-01-03  88.777  89.722  84.712  58.281250  53228400  38.527809\n",
       "1    2000-01-04  85.893  88.588  84.901  56.312500  54119000  37.226345\n",
       "2    2000-01-05  84.050  88.021  82.726  56.906250  64059600  37.618851\n",
       "3    2000-01-06  84.853  86.130  81.970  55.000000  54976600  36.358688\n",
       "4    2000-01-07  82.159  84.901  81.166  55.718750  62013600  36.833828\n",
       "...         ...     ...     ...     ...        ...       ...        ...\n",
       "4556 2018-02-12  89.157  90.202  88.343  89.129997  35720300  88.713272\n",
       "4557 2018-02-13  89.348  90.423  88.212  89.830002  26407700  89.410004\n",
       "4558 2018-02-14  88.510  90.990  88.410  90.809998  34960900  90.809998\n",
       "4559 2018-02-15  91.210  92.720  90.620  92.660004  27823900  92.660004\n",
       "4560 2018-02-16  92.450  93.500  91.800  92.000000  30557400  92.000000\n",
       "\n",
       "[4561 rows x 7 columns]"
      ]
     },
     "execution_count": 17,
     "metadata": {},
     "output_type": "execute_result"
    }
   ],
   "source": [
    "import pandas as pd\n",
    "\n",
    "stockprices = pd.read_csv('https://assets.datacamp.com/production/repositories/1546/datasets/0f1a004a8aa693163fa55f277513309f710b700d/MSFTPrices.csv', parse_dates = ['Date'])\n",
    "\n",
    "stockprices = pd.DataFrame(stockprices)\n",
    "stockprices\n"
   ]
  },
  {
   "cell_type": "code",
   "execution_count": 18,
   "id": "c9870cf3-0e6f-4ce9-9bce-95329fb98ad6",
   "metadata": {},
   "outputs": [
    {
     "data": {
      "text/html": [
       "<div>\n",
       "<style scoped>\n",
       "    .dataframe tbody tr th:only-of-type {\n",
       "        vertical-align: middle;\n",
       "    }\n",
       "\n",
       "    .dataframe tbody tr th {\n",
       "        vertical-align: top;\n",
       "    }\n",
       "\n",
       "    .dataframe thead th {\n",
       "        text-align: right;\n",
       "    }\n",
       "</style>\n",
       "<table border=\"1\" class=\"dataframe\">\n",
       "  <thead>\n",
       "    <tr style=\"text-align: right;\">\n",
       "      <th></th>\n",
       "      <th>Date</th>\n",
       "      <th>Open</th>\n",
       "      <th>High</th>\n",
       "      <th>Low</th>\n",
       "      <th>Close</th>\n",
       "      <th>Volume</th>\n",
       "      <th>Adjusted</th>\n",
       "      <th>Returns</th>\n",
       "    </tr>\n",
       "  </thead>\n",
       "  <tbody>\n",
       "    <tr>\n",
       "      <th>0</th>\n",
       "      <td>2000-01-03</td>\n",
       "      <td>88.777</td>\n",
       "      <td>89.722</td>\n",
       "      <td>84.712</td>\n",
       "      <td>58.281250</td>\n",
       "      <td>53228400</td>\n",
       "      <td>38.527809</td>\n",
       "      <td>NaN</td>\n",
       "    </tr>\n",
       "    <tr>\n",
       "      <th>1</th>\n",
       "      <td>2000-01-04</td>\n",
       "      <td>85.893</td>\n",
       "      <td>88.588</td>\n",
       "      <td>84.901</td>\n",
       "      <td>56.312500</td>\n",
       "      <td>54119000</td>\n",
       "      <td>37.226345</td>\n",
       "      <td>-0.033780</td>\n",
       "    </tr>\n",
       "    <tr>\n",
       "      <th>2</th>\n",
       "      <td>2000-01-05</td>\n",
       "      <td>84.050</td>\n",
       "      <td>88.021</td>\n",
       "      <td>82.726</td>\n",
       "      <td>56.906250</td>\n",
       "      <td>64059600</td>\n",
       "      <td>37.618851</td>\n",
       "      <td>0.010544</td>\n",
       "    </tr>\n",
       "    <tr>\n",
       "      <th>3</th>\n",
       "      <td>2000-01-06</td>\n",
       "      <td>84.853</td>\n",
       "      <td>86.130</td>\n",
       "      <td>81.970</td>\n",
       "      <td>55.000000</td>\n",
       "      <td>54976600</td>\n",
       "      <td>36.358688</td>\n",
       "      <td>-0.033498</td>\n",
       "    </tr>\n",
       "    <tr>\n",
       "      <th>4</th>\n",
       "      <td>2000-01-07</td>\n",
       "      <td>82.159</td>\n",
       "      <td>84.901</td>\n",
       "      <td>81.166</td>\n",
       "      <td>55.718750</td>\n",
       "      <td>62013600</td>\n",
       "      <td>36.833828</td>\n",
       "      <td>0.013068</td>\n",
       "    </tr>\n",
       "    <tr>\n",
       "      <th>...</th>\n",
       "      <td>...</td>\n",
       "      <td>...</td>\n",
       "      <td>...</td>\n",
       "      <td>...</td>\n",
       "      <td>...</td>\n",
       "      <td>...</td>\n",
       "      <td>...</td>\n",
       "      <td>...</td>\n",
       "    </tr>\n",
       "    <tr>\n",
       "      <th>4556</th>\n",
       "      <td>2018-02-12</td>\n",
       "      <td>89.157</td>\n",
       "      <td>90.202</td>\n",
       "      <td>88.343</td>\n",
       "      <td>89.129997</td>\n",
       "      <td>35720300</td>\n",
       "      <td>88.713272</td>\n",
       "      <td>0.010773</td>\n",
       "    </tr>\n",
       "    <tr>\n",
       "      <th>4557</th>\n",
       "      <td>2018-02-13</td>\n",
       "      <td>89.348</td>\n",
       "      <td>90.423</td>\n",
       "      <td>88.212</td>\n",
       "      <td>89.830002</td>\n",
       "      <td>26407700</td>\n",
       "      <td>89.410004</td>\n",
       "      <td>0.007854</td>\n",
       "    </tr>\n",
       "    <tr>\n",
       "      <th>4558</th>\n",
       "      <td>2018-02-14</td>\n",
       "      <td>88.510</td>\n",
       "      <td>90.990</td>\n",
       "      <td>88.410</td>\n",
       "      <td>90.809998</td>\n",
       "      <td>34960900</td>\n",
       "      <td>90.809998</td>\n",
       "      <td>0.015658</td>\n",
       "    </tr>\n",
       "    <tr>\n",
       "      <th>4559</th>\n",
       "      <td>2018-02-15</td>\n",
       "      <td>91.210</td>\n",
       "      <td>92.720</td>\n",
       "      <td>90.620</td>\n",
       "      <td>92.660004</td>\n",
       "      <td>27823900</td>\n",
       "      <td>92.660004</td>\n",
       "      <td>0.020372</td>\n",
       "    </tr>\n",
       "    <tr>\n",
       "      <th>4560</th>\n",
       "      <td>2018-02-16</td>\n",
       "      <td>92.450</td>\n",
       "      <td>93.500</td>\n",
       "      <td>91.800</td>\n",
       "      <td>92.000000</td>\n",
       "      <td>30557400</td>\n",
       "      <td>92.000000</td>\n",
       "      <td>-0.007123</td>\n",
       "    </tr>\n",
       "  </tbody>\n",
       "</table>\n",
       "<p>4561 rows × 8 columns</p>\n",
       "</div>"
      ],
      "text/plain": [
       "           Date    Open    High     Low      Close    Volume   Adjusted  \\\n",
       "0    2000-01-03  88.777  89.722  84.712  58.281250  53228400  38.527809   \n",
       "1    2000-01-04  85.893  88.588  84.901  56.312500  54119000  37.226345   \n",
       "2    2000-01-05  84.050  88.021  82.726  56.906250  64059600  37.618851   \n",
       "3    2000-01-06  84.853  86.130  81.970  55.000000  54976600  36.358688   \n",
       "4    2000-01-07  82.159  84.901  81.166  55.718750  62013600  36.833828   \n",
       "...         ...     ...     ...     ...        ...       ...        ...   \n",
       "4556 2018-02-12  89.157  90.202  88.343  89.129997  35720300  88.713272   \n",
       "4557 2018-02-13  89.348  90.423  88.212  89.830002  26407700  89.410004   \n",
       "4558 2018-02-14  88.510  90.990  88.410  90.809998  34960900  90.809998   \n",
       "4559 2018-02-15  91.210  92.720  90.620  92.660004  27823900  92.660004   \n",
       "4560 2018-02-16  92.450  93.500  91.800  92.000000  30557400  92.000000   \n",
       "\n",
       "       Returns  \n",
       "0          NaN  \n",
       "1    -0.033780  \n",
       "2     0.010544  \n",
       "3    -0.033498  \n",
       "4     0.013068  \n",
       "...        ...  \n",
       "4556  0.010773  \n",
       "4557  0.007854  \n",
       "4558  0.015658  \n",
       "4559  0.020372  \n",
       "4560 -0.007123  \n",
       "\n",
       "[4561 rows x 8 columns]"
      ]
     },
     "execution_count": 18,
     "metadata": {},
     "output_type": "execute_result"
    }
   ],
   "source": [
    "# Calculate the daily returns of the adjusted close price\n",
    "stockprices['Returns'] = stockprices['Adjusted'].pct_change()\n",
    "stockprices"
   ]
  },
  {
   "cell_type": "code",
   "execution_count": 19,
   "id": "24d598a9-9129-4929-a90f-dafca3b9aae8",
   "metadata": {},
   "outputs": [
    {
     "name": "stdout",
     "output_type": "stream",
     "text": [
      "        Date    Open    High     Low     Close    Volume   Adjusted   Returns\n",
      "0 2000-01-03  88.777  89.722  84.712  58.28125  53228400  38.527809       NaN\n",
      "1 2000-01-04  85.893  88.588  84.901  56.31250  54119000  37.226345 -0.033780\n",
      "2 2000-01-05  84.050  88.021  82.726  56.90625  64059600  37.618851  0.010544\n",
      "3 2000-01-06  84.853  86.130  81.970  55.00000  54976600  36.358688 -0.033498\n",
      "4 2000-01-07  82.159  84.901  81.166  55.71875  62013600  36.833828  0.013068\n"
     ]
    }
   ],
   "source": [
    "# Calculate the daily returns of the adjusted close price\n",
    "stockprices['Returns'] = stockprices['Adjusted'].pct_change()\n",
    "\n",
    "# Check the first five rows of StockPrices\n",
    "print(stockprices.head())\n"
   ]
  },
  {
   "cell_type": "code",
   "execution_count": 21,
   "id": "b710dd16-3468-4f65-9c29-f3230c3d795b",
   "metadata": {},
   "outputs": [
    {
     "data": {
      "image/png": "[encoded data removed]",
      "text/plain": [
       "<Figure size 432x288 with 1 Axes>"
      ]
     },
     "metadata": {
      "needs_background": "light"
     },
     "output_type": "display_data"
    }
   ],
   "source": [
    "\n",
    "import matplotlib.pyplot as plt\n",
    "\n",
    "\n",
    "# Plot the returns column over time\n",
    "stockprices['Returns'].plot()\n",
    "plt.show()"
   ]
  },
  {
   "cell_type": "markdown",
   "id": "091379e8-0f75-40e8-9da5-75769c07cf09",
   "metadata": {},
   "source": [
    "### Return distributions\n",
    "In order to analyze the probability of outliers in returns, it is helpful to visualize the historical returns of a stock using a histogram.\n",
    "\n",
    "You can use the histogram to show the historical density or frequency of a given range of returns. Note the outliers on the left tail of the return distribution are what you often want to avoid, as they represent large negative daily returns. Outliers on the right hand side of the distribution are normally particularly good events for the stock such as a positive earnings surprise.\n",
    "\n",
    "StockPrices from the previous exercise is available in your workspace, and matplotlib.pyplot is imported as plt."
   ]
  },
  {
   "cell_type": "code",
   "execution_count": 22,
   "id": "5882596b-f0ed-4dda-a1cb-754f01f96286",
   "metadata": {},
   "outputs": [],
   "source": [
    "\n",
    "StockPrices = stockprices\n",
    "# Convert the decimal returns into percentage returns\n",
    "percent_return = StockPrices['Returns']*100"
   ]
  },
  {
   "cell_type": "code",
   "execution_count": 23,
   "id": "6aaa9805-f598-4c6d-9530-ba016689c60c",
   "metadata": {},
   "outputs": [],
   "source": [
    "# Convert the decimal returns into percentage returns\n",
    "percent_return = StockPrices['Returns']*100\n",
    "\n",
    "# Drop the missing values\n",
    "returns_plot = percent_return.dropna()\n"
   ]
  },
  {
   "cell_type": "code",
   "execution_count": 24,
   "id": "2c3ae1ac-dec8-443b-8a05-1741186a9eb7",
   "metadata": {},
   "outputs": [
    {
     "data": {
      "image/png": "[encoded data removed]",
      "text/plain": [
       "<Figure size 432x288 with 1 Axes>"
      ]
     },
     "metadata": {
      "needs_background": "light"
     },
     "output_type": "display_data"
    }
   ],
   "source": [
    "# Plot the returns histogram\n",
    "plt.hist(returns_plot, bins=75)\n",
    "plt.show()"
   ]
  },
  {
   "cell_type": "markdown",
   "id": "0ec79b6a-c874-4336-bc01-eff7469625ac",
   "metadata": {},
   "source": [
    "**Notice the shape of the plot? What kind of distribution do you think this is?**\n",
    "\n",
    "\n",
    "## Mean, variance, and normal distribution\n",
    "\n",
    "\n",
    "1. Skewness o la asimetría es una medida de la 'inclinacion' de una distribución: \n",
    "\n",
    "2. Kurtosis: es una mdedida del grosor de las colas de una distribución \n",
    "\n",
    "Hay muchas distribuciones pero una tipica es la Distribución normal que tiene las siguientes propiedades: \n",
    "\n",
    "1. media\n",
    "2. varianza\n",
    "3. skewness: 0\n",
    "4. kurtosis: 3\n",
    "\n",
    "\n",
    "Luego está la distribución normal estandar donde: \n",
    "1. Media = 0\n",
    "2. Desviación estandar: 1\n",
    "\n",
    "\n",
    "Sin embargo, las finanzas **no suelen tirar a una distribuciñón normal** y ** pueden tener una kurtosis alta**\n",
    "\n",
    "### First moment: Mu\n",
    "You can calculate the average historical return of a stock by using numpy's mean() function.\n",
    "\n",
    "When you are calculating the average daily return of a stock, you are essentially estimating the first moment (  ) of the historical returns distribution.\n",
    "\n",
    "But what use are daily return estimates to a long-term investor? You can use the formula below to estimate the average annual return of a stock given the average daily return and the number of trading days in a year (typically there are roughly 252 trading days in a year):\n",
    "\n",
    "```\n",
    "\n",
    "Average ANnualized Return = ((1 + ñu ) ^ 252 ) -1\n",
    "\n",
    "```"
   ]
  },
  {
   "cell_type": "code",
   "execution_count": 25,
   "id": "4209dffa-2f35-4660-9e5c-514767468286",
   "metadata": {},
   "outputs": [
    {
     "name": "stdout",
     "output_type": "stream",
     "text": [
      "0.0003777754643575769\n"
     ]
    }
   ],
   "source": [
    "# Import numpy as np\n",
    "import numpy as np\n",
    "\n",
    "# Calculate the average daily return of the stock\n",
    "mean_return_daily = np.mean(StockPrices['Returns'])\n",
    "print(mean_return_daily)"
   ]
  },
  {
   "cell_type": "code",
   "execution_count": 26,
   "id": "f87d1e2f-b8b6-48c8-bbc6-2930cff99764",
   "metadata": {},
   "outputs": [
    {
     "name": "stdout",
     "output_type": "stream",
     "text": [
      "0.09985839482852632\n"
     ]
    }
   ],
   "source": [
    "# Calculate the implied annualized average return\n",
    "mean_return_annualized = ((1+mean_return_daily)**252)-1\n",
    "print(mean_return_annualized)"
   ]
  },
  {
   "cell_type": "markdown",
   "id": "bf52a856-b0cd-4336-a318-96aeaf64f241",
   "metadata": {},
   "source": [
    "**The average daily return of the stock (mu) is 0.04% per day. This works out to an annualized return of 9.99% per year.**\n",
    "\n",
    "\n",
    "### Second moment: Variance\n",
    "Just like you estimated the first moment of the returns distribution in the last exercise, you can can also estimate the second moment, or variance of a return distribution using numpy.\n",
    "\n",
    "In this case, you will first need to calculate the daily standard deviation (  ), or volatility of the returns using np.std(). The variance is simply .\n",
    "\n",
    "StockPrices from the previous exercise is available in your workspace, and numpy is imported as np."
   ]
  },
  {
   "cell_type": "code",
   "execution_count": 27,
   "id": "c05d5aff-812d-4b82-97f7-145a2ff33c32",
   "metadata": {},
   "outputs": [
    {
     "name": "stdout",
     "output_type": "stream",
     "text": [
      "0.019341100408708328\n"
     ]
    }
   ],
   "source": [
    "# Calculate the standard deviation of daily return of the stock\n",
    "sigma_daily = np.std(StockPrices['Returns'])\n",
    "print(sigma_daily)\n"
   ]
  },
  {
   "cell_type": "code",
   "execution_count": 28,
   "id": "84528b32-b419-4088-ba49-1a894824dfb8",
   "metadata": {},
   "outputs": [
    {
     "name": "stdout",
     "output_type": "stream",
     "text": [
      "0.0003740781650197374\n"
     ]
    }
   ],
   "source": [
    "# Calculate the daily variance\n",
    "variance_daily = sigma_daily**2\n",
    "print(variance_daily)"
   ]
  },
  {
   "cell_type": "markdown",
   "id": "bf1dd4a9-6c27-45e2-8c3e-2b2cd3c9108b",
   "metadata": {},
   "source": [
    "**The average daily volatility of the stock (sigma) is 1.93% per day. The average daily variance of the stock (the second moment) is 0.04%.**\n",
    "\n",
    "### Annualizing variance\n",
    "You can't annualize the variance in the same way that you annualized the mean.\n",
    "\n",
    "In this case, you will need to multiply  by the square root of the number of trading days in a year. There are typically 252 trading days in a calendar year. Let's assume this is the case for this exercise.\n",
    "\n",
    "This will get you the annualized volatility, but to get annualized variance, you'll need to square the annualized volatility just like you did for the daily calculation.\n",
    "\n",
    "sigma_daily from the previous exercise is available in your workspace, and numpy is imported as np."
   ]
  },
  {
   "cell_type": "code",
   "execution_count": 29,
   "id": "32221202-c7e1-4018-a3c5-f5ae8dc4099b",
   "metadata": {},
   "outputs": [
    {
     "name": "stdout",
     "output_type": "stream",
     "text": [
      "0.3070304505826317\n"
     ]
    }
   ],
   "source": [
    "# Annualize the standard deviation\n",
    "sigma_annualized = sigma_daily*np.sqrt(252)\n",
    "print(sigma_annualized)"
   ]
  },
  {
   "cell_type": "code",
   "execution_count": 30,
   "id": "63d54610-f27d-4662-8a99-dd6be3484c9f",
   "metadata": {},
   "outputs": [
    {
     "name": "stdout",
     "output_type": "stream",
     "text": [
      "0.09426769758497383\n"
     ]
    }
   ],
   "source": [
    "# Calculate the annualized variance\n",
    "variance_annualized = sigma_annualized**2\n",
    "print(variance_annualized)"
   ]
  },
  {
   "cell_type": "markdown",
   "id": "8ba29adf-80c7-4469-8bad-33126081217b",
   "metadata": {},
   "source": [
    "**This works out to an annualized volatility (sigma) of 30.7% per year. And an annualized variance of 9.43% per year**\n",
    "\n",
    "## Skewness and kurtosis\n",
    "\n",
    "En cuanto a la kurtosis, por defecto python ya calcula el excess kurtosis, por lo que para calcular la kurtosis normal habra que sumarle `+3` al resultado. \n",
    "\n",
    "En finanzas una kurtosis alta es sinónimo de un gran riesgo asociado. \n",
    "\n",
    "Si: \n",
    "\n",
    "1. Kurtosis > 3\n",
    "2. Skewness != 0\n",
    "\n",
    "Lo más probable es que los datos **no sean normales**. Si se acercan a esos valores críticos, para hacer la prueba de fuego, se puede usar el test de **Shapiro-wilk**, donde se vera si los datos están normal distribuídos: \n",
    "\n",
    "```\n",
    "Shapiro-wilk H0: Los datos están normal distribuidos\n",
    "```\n",
    "En código. \n",
    "\n",
    "```\n",
    "from scipy import stats\n",
    "p_value = stats.shapiro(StockData['Returns'].dropna())[1]\n",
    "\n",
    "if p_value <= 0.05: \n",
    "\n",
    "    print('Null hypothesis of normality is rejected')\n",
    "  \n",
    "else: \n",
    "\n",
    "    print('Null hypothesis of normality is accepted')\n",
    "\n",
    "\n",
    "\n",
    "```\n",
    "\n",
    "### Third moment: Skewness\n",
    "To calculate the third moment, or skewness of a returns distribution in Python, you can use the skew() function from scipy.stats.\n",
    "\n",
    "Remember that a negative skew is a right-leaning curve, while positive skew is a left-leaning curve. In finance, you would tend to want positive skewness, as this would mean that the probability of large positive returns is unusually high, and the negative returns are more closely clustered and predictable.\n",
    "\n",
    "StockPrices from the previous exercise is available in your workspace."
   ]
  },
  {
   "cell_type": "code",
   "execution_count": 32,
   "id": "671ecfa0-b530-4f45-be9f-3f8339ad5559",
   "metadata": {},
   "outputs": [
    {
     "name": "stdout",
     "output_type": "stream",
     "text": [
      "0.21935459193067805\n"
     ]
    }
   ],
   "source": [
    "# Import skew from scipy.stats\n",
    "from scipy.stats import skew\n",
    "\n",
    "# Drop the missing values\n",
    "clean_returns = StockPrices['Returns'].dropna()\n",
    "\n",
    "# Calculate the third moment (skewness) of the returns distribution\n",
    "returns_skewness = skew(clean_returns)\n",
    "print(returns_skewness)"
   ]
  },
  {
   "cell_type": "markdown",
   "id": "cee038b5-3d76-4ef3-992a-2d16cd8d9005",
   "metadata": {},
   "source": [
    "**The third moment (skewness) of the stock returns is 0.22. A normal distribution would have a skewness much closer to 0.**\n",
    "\n",
    "### Fourth moment: Kurtosis\n",
    "Finally, to calculate the fourth moment of a distribution, you can use the kurtosis() function from scipy.stats.\n",
    "\n",
    "Note that this function actually returns the excess kurtosis, not the 4th moment itself. In order to calculate kurtosis, simply add 3 to the excess kurtosis returned by kurtosis().\n",
    "\n",
    "clean_returns from the previous exercise is available in your workspace."
   ]
  },
  {
   "cell_type": "code",
   "execution_count": 33,
   "id": "b570dad5-14af-4cc3-9ed2-e412f9830623",
   "metadata": {},
   "outputs": [
    {
     "name": "stdout",
     "output_type": "stream",
     "text": [
      "10.314572618025519\n"
     ]
    }
   ],
   "source": [
    "# Import kurtosis from scipy.stats\n",
    "from scipy.stats import kurtosis\n",
    "\n",
    "# Calculate the excess kurtosis of the returns distribution\n",
    "excess_kurtosis = kurtosis(clean_returns)\n",
    "print(excess_kurtosis)"
   ]
  },
  {
   "cell_type": "code",
   "execution_count": 34,
   "id": "e4332cc9-7fcc-4363-90e3-4ec43b25c1de",
   "metadata": {},
   "outputs": [
    {
     "name": "stdout",
     "output_type": "stream",
     "text": [
      "13.314572618025519\n"
     ]
    }
   ],
   "source": [
    "# Derive the true fourth moment of the returns distribution\n",
    "fourth_moment = excess_kurtosis + 3\n",
    "print(fourth_moment)"
   ]
  },
  {
   "cell_type": "markdown",
   "id": "a8a61e05-d435-49ee-8c8b-5f8b1992f7fd",
   "metadata": {},
   "source": [
    "**The fourth moment (kurtosis) of the stock returns is 13.31 with an excess kurtosis of 10.31. A normal distribution would tend to have a kurtosis of 3, and an excess kurtosis of 0.**"
   ]
  },
  {
   "cell_type": "markdown",
   "id": "ecc4486c-c1c3-4ef7-9e29-8a8df1625aa6",
   "metadata": {},
   "source": [
    "### Statistical tests for normality\n",
    "In order to truly be confident in your judgement of the normality of the stock's return distribution, you will want to use a true statistical test rather than simply examining the kurtosis or skewness.\n",
    "\n",
    "You can use the shapiro() function from scipy.stats to run a Shapiro-Wilk test of normality on the stock returns. The function will return two values in a list. The first value is the t-stat of the test, and the second value is the p-value. You can use the p-value to make a judgement about the normality of the data. If the p-value is less than or equal to 0.05, you can safely reject the null hypothesis of normality and assume that the data are non-normally distributed.\n",
    "\n",
    "clean_returns from the previous exercise is available in your workspace."
   ]
  },
  {
   "cell_type": "code",
   "execution_count": 35,
   "id": "30fc503d-f54e-4fb1-9ae6-3feb411fd429",
   "metadata": {},
   "outputs": [
    {
     "name": "stdout",
     "output_type": "stream",
     "text": [
      "Shapiro results: ShapiroResult(statistic=0.9003633260726929, pvalue=0.0)\n"
     ]
    }
   ],
   "source": [
    "# Import shapiro from scipy.stats\n",
    "from scipy.stats import shapiro\n",
    "\n",
    "# Run the Shapiro-Wilk test on the stock returns\n",
    "shapiro_results = shapiro(clean_returns)\n",
    "print(\"Shapiro results:\", shapiro_results)"
   ]
  },
  {
   "cell_type": "code",
   "execution_count": 36,
   "id": "9abb6b42-4f91-49a8-8bf4-4caea4ef3f51",
   "metadata": {},
   "outputs": [
    {
     "name": "stdout",
     "output_type": "stream",
     "text": [
      "P-value:  0.0\n"
     ]
    }
   ],
   "source": [
    "# Extract the p-value from the shapiro_results\n",
    "p_value = shapiro_results[1]\n",
    "print(\"P-value: \", p_value)"
   ]
  },
  {
   "cell_type": "markdown",
   "id": "0ae1ee18-41b8-4aca-8a77-f84382f3662d",
   "metadata": {},
   "source": [
    "**The p-value is 0, so null hypothesis of normality is rejected. The data are non-normal.**"
   ]
  }
 ],
 "metadata": {
  "kernelspec": {
   "display_name": "Python 3 (ipykernel)",
   "language": "python",
   "name": "python3"
  },
  "language_info": {
   "codemirror_mode": {
    "name": "ipython",
    "version": 3
   },
   "file_extension": ".py",
   "mimetype": "text/x-python",
   "name": "python",
   "nbconvert_exporter": "python",
   "pygments_lexer": "ipython3",
   "version": "3.9.13"
  }
 },
 "nbformat": 4,
 "nbformat_minor": 5
}
