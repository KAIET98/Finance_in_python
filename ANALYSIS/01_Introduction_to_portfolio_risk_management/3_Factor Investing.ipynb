{
 "cells": [
  {
   "cell_type": "markdown",
   "id": "ca0c307a-2721-4072-924c-1bff7965d19d",
   "metadata": {},
   "source": [
    "# 3_ Factor Investing\n",
    "## The Capital Asset Pricing model\n",
    "\n",
    "### Excess returns\n",
    "In order to perform a robust analysis on your portfolio returns, you must first subtract the risk-free rate of return from your portfolio returns. The portfolio return minus the risk-free rate of return is known as the Excess Portfolio Return.\n",
    "\n",
    "In the United States, the risk-free rate has been close to 0 since the financial crisis (2008), but this step is crucial for other countries with higher risk-free rates such as Venezuela or Brazil.\n",
    "\n",
    "The FamaFrenchData DataFrame is available in your workspace and contains the proper data for this exercise. The portfolio you will be working with is the equal-weighted portfolio from Chapter 2."
   ]
  },
  {
   "cell_type": "code",
   "execution_count": 1,
   "id": "c6b03db2-f566-4b26-8ea7-fcf05268d1b8",
   "metadata": {},
   "outputs": [],
   "source": [
    "import os\n",
    "\n",
    "while 'ANALYSIS' not in os.listdir():\n",
    "    \n",
    "    os.chdir('..')\n",
    "\n"
   ]
  },
  {
   "cell_type": "code",
   "execution_count": 2,
   "id": "afbfd9b5-3faf-4036-aaea-7560949865d2",
   "metadata": {},
   "outputs": [],
   "source": [
    "from ANALYSIS.f_functions.markowitz_data_creation_cap2 import cap2_data"
   ]
  },
  {
   "cell_type": "code",
   "execution_count": 13,
   "id": "d73c6104-7eb8-4b74-b9f6-77c0cbbc4b02",
   "metadata": {},
   "outputs": [
    {
     "data": {
      "text/html": [
       "<div>\n",
       "<style scoped>\n",
       "    .dataframe tbody tr th:only-of-type {\n",
       "        vertical-align: middle;\n",
       "    }\n",
       "\n",
       "    .dataframe tbody tr th {\n",
       "        vertical-align: top;\n",
       "    }\n",
       "\n",
       "    .dataframe thead th {\n",
       "        text-align: right;\n",
       "    }\n",
       "</style>\n",
       "<table border=\"1\" class=\"dataframe\">\n",
       "  <thead>\n",
       "    <tr style=\"text-align: right;\">\n",
       "      <th></th>\n",
       "      <th>AAPL</th>\n",
       "      <th>MSFT</th>\n",
       "      <th>XOM</th>\n",
       "      <th>JNJ</th>\n",
       "      <th>JPM</th>\n",
       "      <th>AMZN</th>\n",
       "      <th>GE</th>\n",
       "      <th>FB</th>\n",
       "      <th>T</th>\n",
       "      <th>Portfolio</th>\n",
       "      <th>Portfolio_EW</th>\n",
       "      <th>Portfolio_MCap</th>\n",
       "      <th>Portfolio_MSR</th>\n",
       "      <th>Portfolio_GMV</th>\n",
       "      <th>RF</th>\n",
       "    </tr>\n",
       "    <tr>\n",
       "      <th>Date</th>\n",
       "      <th></th>\n",
       "      <th></th>\n",
       "      <th></th>\n",
       "      <th></th>\n",
       "      <th></th>\n",
       "      <th></th>\n",
       "      <th></th>\n",
       "      <th></th>\n",
       "      <th></th>\n",
       "      <th></th>\n",
       "      <th></th>\n",
       "      <th></th>\n",
       "      <th></th>\n",
       "      <th></th>\n",
       "      <th></th>\n",
       "    </tr>\n",
       "  </thead>\n",
       "  <tbody>\n",
       "    <tr>\n",
       "      <th>2017-01-03</th>\n",
       "      <td>0.002849</td>\n",
       "      <td>0.007081</td>\n",
       "      <td>0.006980</td>\n",
       "      <td>0.005468</td>\n",
       "      <td>0.010894</td>\n",
       "      <td>0.005068</td>\n",
       "      <td>0.002848</td>\n",
       "      <td>0.015732</td>\n",
       "      <td>0.011521</td>\n",
       "      <td>0.008082</td>\n",
       "      <td>0.007605</td>\n",
       "      <td>0.007132</td>\n",
       "      <td>0.009990</td>\n",
       "      <td>0.007665</td>\n",
       "      <td>0</td>\n",
       "    </tr>\n",
       "    <tr>\n",
       "      <th>2017-01-04</th>\n",
       "      <td>-0.001119</td>\n",
       "      <td>-0.004474</td>\n",
       "      <td>-0.011002</td>\n",
       "      <td>-0.001640</td>\n",
       "      <td>0.001844</td>\n",
       "      <td>0.004657</td>\n",
       "      <td>0.000316</td>\n",
       "      <td>0.015660</td>\n",
       "      <td>-0.005811</td>\n",
       "      <td>0.000161</td>\n",
       "      <td>-0.000174</td>\n",
       "      <td>-0.000329</td>\n",
       "      <td>-0.001690</td>\n",
       "      <td>-0.002782</td>\n",
       "      <td>0</td>\n",
       "    </tr>\n",
       "    <tr>\n",
       "      <th>2017-01-05</th>\n",
       "      <td>0.005085</td>\n",
       "      <td>0.000000</td>\n",
       "      <td>-0.014907</td>\n",
       "      <td>0.010463</td>\n",
       "      <td>-0.009205</td>\n",
       "      <td>0.030732</td>\n",
       "      <td>-0.005678</td>\n",
       "      <td>0.016682</td>\n",
       "      <td>-0.002806</td>\n",
       "      <td>0.003448</td>\n",
       "      <td>0.003374</td>\n",
       "      <td>0.003903</td>\n",
       "      <td>-0.002261</td>\n",
       "      <td>0.003048</td>\n",
       "      <td>0</td>\n",
       "    </tr>\n",
       "    <tr>\n",
       "      <th>2017-01-06</th>\n",
       "      <td>0.011148</td>\n",
       "      <td>0.008668</td>\n",
       "      <td>-0.000565</td>\n",
       "      <td>-0.004792</td>\n",
       "      <td>0.000116</td>\n",
       "      <td>0.019912</td>\n",
       "      <td>0.002855</td>\n",
       "      <td>0.022707</td>\n",
       "      <td>-0.019924</td>\n",
       "      <td>0.004660</td>\n",
       "      <td>0.004458</td>\n",
       "      <td>0.006068</td>\n",
       "      <td>-0.007771</td>\n",
       "      <td>-0.006411</td>\n",
       "      <td>0</td>\n",
       "    </tr>\n",
       "    <tr>\n",
       "      <th>2017-01-09</th>\n",
       "      <td>0.009159</td>\n",
       "      <td>-0.003183</td>\n",
       "      <td>-0.016497</td>\n",
       "      <td>-0.000172</td>\n",
       "      <td>0.000697</td>\n",
       "      <td>0.001168</td>\n",
       "      <td>-0.004745</td>\n",
       "      <td>0.012074</td>\n",
       "      <td>-0.012585</td>\n",
       "      <td>-0.001372</td>\n",
       "      <td>-0.001565</td>\n",
       "      <td>-0.000478</td>\n",
       "      <td>-0.004642</td>\n",
       "      <td>-0.004633</td>\n",
       "      <td>0</td>\n",
       "    </tr>\n",
       "    <tr>\n",
       "      <th>...</th>\n",
       "      <td>...</td>\n",
       "      <td>...</td>\n",
       "      <td>...</td>\n",
       "      <td>...</td>\n",
       "      <td>...</td>\n",
       "      <td>...</td>\n",
       "      <td>...</td>\n",
       "      <td>...</td>\n",
       "      <td>...</td>\n",
       "      <td>...</td>\n",
       "      <td>...</td>\n",
       "      <td>...</td>\n",
       "      <td>...</td>\n",
       "      <td>...</td>\n",
       "      <td>...</td>\n",
       "    </tr>\n",
       "    <tr>\n",
       "      <th>2017-12-22</th>\n",
       "      <td>0.000000</td>\n",
       "      <td>0.000117</td>\n",
       "      <td>0.001431</td>\n",
       "      <td>-0.006664</td>\n",
       "      <td>-0.003524</td>\n",
       "      <td>-0.005448</td>\n",
       "      <td>0.001717</td>\n",
       "      <td>-0.001409</td>\n",
       "      <td>0.001543</td>\n",
       "      <td>-0.000825</td>\n",
       "      <td>-0.001360</td>\n",
       "      <td>-0.001280</td>\n",
       "      <td>-0.001940</td>\n",
       "      <td>-0.001848</td>\n",
       "      <td>0</td>\n",
       "    </tr>\n",
       "    <tr>\n",
       "      <th>2017-12-26</th>\n",
       "      <td>-0.025370</td>\n",
       "      <td>-0.001286</td>\n",
       "      <td>0.000119</td>\n",
       "      <td>-0.000214</td>\n",
       "      <td>-0.004002</td>\n",
       "      <td>0.007190</td>\n",
       "      <td>0.002877</td>\n",
       "      <td>-0.006828</td>\n",
       "      <td>0.003082</td>\n",
       "      <td>-0.003026</td>\n",
       "      <td>-0.002715</td>\n",
       "      <td>-0.004717</td>\n",
       "      <td>-0.000478</td>\n",
       "      <td>-0.000967</td>\n",
       "      <td>0</td>\n",
       "    </tr>\n",
       "    <tr>\n",
       "      <th>2017-12-27</th>\n",
       "      <td>0.000176</td>\n",
       "      <td>0.003630</td>\n",
       "      <td>-0.000953</td>\n",
       "      <td>0.003426</td>\n",
       "      <td>0.001869</td>\n",
       "      <td>0.004674</td>\n",
       "      <td>-0.002869</td>\n",
       "      <td>0.009262</td>\n",
       "      <td>-0.004352</td>\n",
       "      <td>0.001581</td>\n",
       "      <td>0.001651</td>\n",
       "      <td>0.001854</td>\n",
       "      <td>-0.000242</td>\n",
       "      <td>-0.000180</td>\n",
       "      <td>0</td>\n",
       "    </tr>\n",
       "    <tr>\n",
       "      <th>2017-12-28</th>\n",
       "      <td>0.002814</td>\n",
       "      <td>0.000117</td>\n",
       "      <td>0.001430</td>\n",
       "      <td>-0.000071</td>\n",
       "      <td>0.005316</td>\n",
       "      <td>0.003248</td>\n",
       "      <td>-0.001151</td>\n",
       "      <td>0.001689</td>\n",
       "      <td>0.007457</td>\n",
       "      <td>0.002572</td>\n",
       "      <td>0.002317</td>\n",
       "      <td>0.002184</td>\n",
       "      <td>0.005033</td>\n",
       "      <td>0.003187</td>\n",
       "      <td>0</td>\n",
       "    </tr>\n",
       "    <tr>\n",
       "      <th>2017-12-29</th>\n",
       "      <td>-0.010814</td>\n",
       "      <td>-0.002100</td>\n",
       "      <td>-0.004523</td>\n",
       "      <td>-0.005976</td>\n",
       "      <td>-0.007886</td>\n",
       "      <td>-0.014021</td>\n",
       "      <td>0.005184</td>\n",
       "      <td>-0.008206</td>\n",
       "      <td>-0.007657</td>\n",
       "      <td>-0.006189</td>\n",
       "      <td>-0.006222</td>\n",
       "      <td>-0.006650</td>\n",
       "      <td>-0.007421</td>\n",
       "      <td>-0.006473</td>\n",
       "      <td>0</td>\n",
       "    </tr>\n",
       "  </tbody>\n",
       "</table>\n",
       "<p>251 rows × 15 columns</p>\n",
       "</div>"
      ],
      "text/plain": [
       "                AAPL      MSFT       XOM       JNJ       JPM      AMZN  \\\n",
       "Date                                                                     \n",
       "2017-01-03  0.002849  0.007081  0.006980  0.005468  0.010894  0.005068   \n",
       "2017-01-04 -0.001119 -0.004474 -0.011002 -0.001640  0.001844  0.004657   \n",
       "2017-01-05  0.005085  0.000000 -0.014907  0.010463 -0.009205  0.030732   \n",
       "2017-01-06  0.011148  0.008668 -0.000565 -0.004792  0.000116  0.019912   \n",
       "2017-01-09  0.009159 -0.003183 -0.016497 -0.000172  0.000697  0.001168   \n",
       "...              ...       ...       ...       ...       ...       ...   \n",
       "2017-12-22  0.000000  0.000117  0.001431 -0.006664 -0.003524 -0.005448   \n",
       "2017-12-26 -0.025370 -0.001286  0.000119 -0.000214 -0.004002  0.007190   \n",
       "2017-12-27  0.000176  0.003630 -0.000953  0.003426  0.001869  0.004674   \n",
       "2017-12-28  0.002814  0.000117  0.001430 -0.000071  0.005316  0.003248   \n",
       "2017-12-29 -0.010814 -0.002100 -0.004523 -0.005976 -0.007886 -0.014021   \n",
       "\n",
       "                  GE        FB         T  Portfolio  Portfolio_EW  \\\n",
       "Date                                                                \n",
       "2017-01-03  0.002848  0.015732  0.011521   0.008082      0.007605   \n",
       "2017-01-04  0.000316  0.015660 -0.005811   0.000161     -0.000174   \n",
       "2017-01-05 -0.005678  0.016682 -0.002806   0.003448      0.003374   \n",
       "2017-01-06  0.002855  0.022707 -0.019924   0.004660      0.004458   \n",
       "2017-01-09 -0.004745  0.012074 -0.012585  -0.001372     -0.001565   \n",
       "...              ...       ...       ...        ...           ...   \n",
       "2017-12-22  0.001717 -0.001409  0.001543  -0.000825     -0.001360   \n",
       "2017-12-26  0.002877 -0.006828  0.003082  -0.003026     -0.002715   \n",
       "2017-12-27 -0.002869  0.009262 -0.004352   0.001581      0.001651   \n",
       "2017-12-28 -0.001151  0.001689  0.007457   0.002572      0.002317   \n",
       "2017-12-29  0.005184 -0.008206 -0.007657  -0.006189     -0.006222   \n",
       "\n",
       "            Portfolio_MCap  Portfolio_MSR  Portfolio_GMV  RF  \n",
       "Date                                                          \n",
       "2017-01-03        0.007132       0.009990       0.007665   0  \n",
       "2017-01-04       -0.000329      -0.001690      -0.002782   0  \n",
       "2017-01-05        0.003903      -0.002261       0.003048   0  \n",
       "2017-01-06        0.006068      -0.007771      -0.006411   0  \n",
       "2017-01-09       -0.000478      -0.004642      -0.004633   0  \n",
       "...                    ...            ...            ...  ..  \n",
       "2017-12-22       -0.001280      -0.001940      -0.001848   0  \n",
       "2017-12-26       -0.004717      -0.000478      -0.000967   0  \n",
       "2017-12-27        0.001854      -0.000242      -0.000180   0  \n",
       "2017-12-28        0.002184       0.005033       0.003187   0  \n",
       "2017-12-29       -0.006650      -0.007421      -0.006473   0  \n",
       "\n",
       "[251 rows x 15 columns]"
      ]
     },
     "execution_count": 13,
     "metadata": {},
     "output_type": "execute_result"
    }
   ],
   "source": [
    "cla = cap2_data(ruta_cap_data  = 'https://assets.datacamp.com/production/repositories/1546/datasets/85e2663a50d3445cbc2c2d30ac81abbaae6a7f56/EfficientFrontierPortfoliosSlim.csv', \n",
    "                ruta_stock_returnm = 'https://assets.datacamp.com/production/repositories/1546/datasets/fb7165b7270a3721f69abf9ff09b85938d9d1068/Big9Returns2017.csv', \n",
    "                risk_free = 0,\n",
    "               numstocks = 9) \n",
    "\n",
    "cla.portfolio_return()\n",
    "cla.portfolio_equally_return()\n",
    "cla.market_cap_portfol()\n",
    "cla.sharpe()\n",
    "cla.MSR()\n",
    "cla.GMV()\n",
    "FamaFrenchData = cla.RF()\n",
    "\n",
    "FamaFrenchData"
   ]
  },
  {
   "cell_type": "markdown",
   "id": "6d706d54-3663-4af8-a784-10bad9dbab0b",
   "metadata": {},
   "source": [
    "**HAY QUE COMPROBAR SI EL DATAFRAME QUE ACABAMOS DE CREAR CON LAS FORMULAS DEL CUADERNO 2 ES IGUAL A LA QUE USA ELK TIO EN DATACAMP**"
   ]
  },
  {
   "cell_type": "code",
   "execution_count": 14,
   "id": "1e1bf35f-4b15-4486-8ee8-3cf0f70c4abf",
   "metadata": {},
   "outputs": [],
   "source": [
    "# Calculate excess portfolio returns\n",
    "FamaFrenchData['Portfolio_Excess'] = FamaFrenchData['Portfolio'] - FamaFrenchData['RF']\n"
   ]
  },
  {
   "cell_type": "code",
   "execution_count": 15,
   "id": "b3210777-959a-4709-b5f3-59ac89bf00d0",
   "metadata": {},
   "outputs": [
    {
     "data": {
      "text/html": [
       "<div>\n",
       "<style scoped>\n",
       "    .dataframe tbody tr th:only-of-type {\n",
       "        vertical-align: middle;\n",
       "    }\n",
       "\n",
       "    .dataframe tbody tr th {\n",
       "        vertical-align: top;\n",
       "    }\n",
       "\n",
       "    .dataframe thead th {\n",
       "        text-align: right;\n",
       "    }\n",
       "</style>\n",
       "<table border=\"1\" class=\"dataframe\">\n",
       "  <thead>\n",
       "    <tr style=\"text-align: right;\">\n",
       "      <th></th>\n",
       "      <th>Portfolio</th>\n",
       "      <th>Portfolio_Excess</th>\n",
       "    </tr>\n",
       "    <tr>\n",
       "      <th>Date</th>\n",
       "      <th></th>\n",
       "      <th></th>\n",
       "    </tr>\n",
       "  </thead>\n",
       "  <tbody>\n",
       "    <tr>\n",
       "      <th>2017-01-03</th>\n",
       "      <td>0.008082</td>\n",
       "      <td>0.008082</td>\n",
       "    </tr>\n",
       "    <tr>\n",
       "      <th>2017-01-04</th>\n",
       "      <td>0.008245</td>\n",
       "      <td>0.008245</td>\n",
       "    </tr>\n",
       "    <tr>\n",
       "      <th>2017-01-05</th>\n",
       "      <td>0.011721</td>\n",
       "      <td>0.011721</td>\n",
       "    </tr>\n",
       "    <tr>\n",
       "      <th>2017-01-06</th>\n",
       "      <td>0.016435</td>\n",
       "      <td>0.016435</td>\n",
       "    </tr>\n",
       "    <tr>\n",
       "      <th>2017-01-09</th>\n",
       "      <td>0.015041</td>\n",
       "      <td>0.015041</td>\n",
       "    </tr>\n",
       "    <tr>\n",
       "      <th>...</th>\n",
       "      <td>...</td>\n",
       "      <td>...</td>\n",
       "    </tr>\n",
       "    <tr>\n",
       "      <th>2017-12-22</th>\n",
       "      <td>0.196400</td>\n",
       "      <td>0.196400</td>\n",
       "    </tr>\n",
       "    <tr>\n",
       "      <th>2017-12-26</th>\n",
       "      <td>0.192779</td>\n",
       "      <td>0.192779</td>\n",
       "    </tr>\n",
       "    <tr>\n",
       "      <th>2017-12-27</th>\n",
       "      <td>0.194665</td>\n",
       "      <td>0.194665</td>\n",
       "    </tr>\n",
       "    <tr>\n",
       "      <th>2017-12-28</th>\n",
       "      <td>0.197738</td>\n",
       "      <td>0.197738</td>\n",
       "    </tr>\n",
       "    <tr>\n",
       "      <th>2017-12-29</th>\n",
       "      <td>0.190325</td>\n",
       "      <td>0.190325</td>\n",
       "    </tr>\n",
       "  </tbody>\n",
       "</table>\n",
       "<p>251 rows × 2 columns</p>\n",
       "</div>"
      ],
      "text/plain": [
       "            Portfolio  Portfolio_Excess\n",
       "Date                                   \n",
       "2017-01-03   0.008082          0.008082\n",
       "2017-01-04   0.008245          0.008245\n",
       "2017-01-05   0.011721          0.011721\n",
       "2017-01-06   0.016435          0.016435\n",
       "2017-01-09   0.015041          0.015041\n",
       "...               ...               ...\n",
       "2017-12-22   0.196400          0.196400\n",
       "2017-12-26   0.192779          0.192779\n",
       "2017-12-27   0.194665          0.194665\n",
       "2017-12-28   0.197738          0.197738\n",
       "2017-12-29   0.190325          0.190325\n",
       "\n",
       "[251 rows x 2 columns]"
      ]
     },
     "execution_count": 15,
     "metadata": {},
     "output_type": "execute_result"
    }
   ],
   "source": [
    "\n",
    "import matplotlib.pyplot as plt\n",
    "# Plot returns vs excess returns\n",
    "CumulativeReturns = ((1+FamaFrenchData[['Portfolio','Portfolio_Excess']]).cumprod()-1)\n",
    "CumulativeReturns"
   ]
  },
  {
   "cell_type": "code",
   "execution_count": 16,
   "id": "3a8f3d31-f006-4360-9b12-c8af90ac4adf",
   "metadata": {},
   "outputs": [
    {
     "data": {
      "image/png": "[encoded data removed]",
      "text/plain": [
       "<Figure size 432x288 with 1 Axes>"
      ]
     },
     "metadata": {
      "needs_background": "light"
     },
     "output_type": "display_data"
    }
   ],
   "source": [
    "CumulativeReturns.plot()\n",
    "plt.show()"
   ]
  },
  {
   "cell_type": "markdown",
   "id": "8527a5b5-9c1d-4c6d-804a-7ff622bda2d1",
   "metadata": {},
   "source": [
    "**Con los datos de Datacamp**"
   ]
  },
  {
   "cell_type": "code",
   "execution_count": 22,
   "id": "c245c758-2e8d-4167-b873-459ce2fb6243",
   "metadata": {},
   "outputs": [
    {
     "data": {
      "text/html": [
       "<div>\n",
       "<style scoped>\n",
       "    .dataframe tbody tr th:only-of-type {\n",
       "        vertical-align: middle;\n",
       "    }\n",
       "\n",
       "    .dataframe tbody tr th {\n",
       "        vertical-align: top;\n",
       "    }\n",
       "\n",
       "    .dataframe thead th {\n",
       "        text-align: right;\n",
       "    }\n",
       "</style>\n",
       "<table border=\"1\" class=\"dataframe\">\n",
       "  <thead>\n",
       "    <tr style=\"text-align: right;\">\n",
       "      <th></th>\n",
       "      <th>Portfolio</th>\n",
       "      <th>Market_Excess</th>\n",
       "      <th>SMB</th>\n",
       "      <th>HML</th>\n",
       "      <th>RMW</th>\n",
       "      <th>CMA</th>\n",
       "      <th>RF</th>\n",
       "    </tr>\n",
       "    <tr>\n",
       "      <th>Date</th>\n",
       "      <th></th>\n",
       "      <th></th>\n",
       "      <th></th>\n",
       "      <th></th>\n",
       "      <th></th>\n",
       "      <th></th>\n",
       "      <th></th>\n",
       "    </tr>\n",
       "  </thead>\n",
       "  <tbody>\n",
       "    <tr>\n",
       "      <th>2013-01-03</th>\n",
       "      <td>-0.005066</td>\n",
       "      <td>-0.0014</td>\n",
       "      <td>0.0014</td>\n",
       "      <td>0.0004</td>\n",
       "      <td>0.0020</td>\n",
       "      <td>0.0023</td>\n",
       "      <td>0.00000</td>\n",
       "    </tr>\n",
       "    <tr>\n",
       "      <th>2013-01-04</th>\n",
       "      <td>0.004024</td>\n",
       "      <td>0.0055</td>\n",
       "      <td>0.0019</td>\n",
       "      <td>0.0043</td>\n",
       "      <td>-0.0037</td>\n",
       "      <td>0.0027</td>\n",
       "      <td>0.00000</td>\n",
       "    </tr>\n",
       "    <tr>\n",
       "      <th>2013-01-07</th>\n",
       "      <td>0.004421</td>\n",
       "      <td>-0.0031</td>\n",
       "      <td>-0.0009</td>\n",
       "      <td>-0.0037</td>\n",
       "      <td>-0.0013</td>\n",
       "      <td>-0.0012</td>\n",
       "      <td>0.00000</td>\n",
       "    </tr>\n",
       "    <tr>\n",
       "      <th>2013-01-08</th>\n",
       "      <td>-0.004659</td>\n",
       "      <td>-0.0027</td>\n",
       "      <td>0.0004</td>\n",
       "      <td>-0.0007</td>\n",
       "      <td>-0.0012</td>\n",
       "      <td>0.0009</td>\n",
       "      <td>0.00000</td>\n",
       "    </tr>\n",
       "    <tr>\n",
       "      <th>2013-01-09</th>\n",
       "      <td>0.004636</td>\n",
       "      <td>0.0034</td>\n",
       "      <td>0.0024</td>\n",
       "      <td>-0.0041</td>\n",
       "      <td>-0.0007</td>\n",
       "      <td>-0.0015</td>\n",
       "      <td>0.00000</td>\n",
       "    </tr>\n",
       "    <tr>\n",
       "      <th>...</th>\n",
       "      <td>...</td>\n",
       "      <td>...</td>\n",
       "      <td>...</td>\n",
       "      <td>...</td>\n",
       "      <td>...</td>\n",
       "      <td>...</td>\n",
       "      <td>...</td>\n",
       "    </tr>\n",
       "    <tr>\n",
       "      <th>2017-12-22</th>\n",
       "      <td>-0.001360</td>\n",
       "      <td>-0.0007</td>\n",
       "      <td>-0.0019</td>\n",
       "      <td>-0.0020</td>\n",
       "      <td>-0.0005</td>\n",
       "      <td>0.0021</td>\n",
       "      <td>0.00004</td>\n",
       "    </tr>\n",
       "    <tr>\n",
       "      <th>2017-12-26</th>\n",
       "      <td>-0.002715</td>\n",
       "      <td>-0.0007</td>\n",
       "      <td>0.0031</td>\n",
       "      <td>-0.0006</td>\n",
       "      <td>-0.0017</td>\n",
       "      <td>0.0056</td>\n",
       "      <td>0.00004</td>\n",
       "    </tr>\n",
       "    <tr>\n",
       "      <th>2017-12-27</th>\n",
       "      <td>0.001651</td>\n",
       "      <td>0.0005</td>\n",
       "      <td>-0.0016</td>\n",
       "      <td>-0.0019</td>\n",
       "      <td>0.0006</td>\n",
       "      <td>-0.0012</td>\n",
       "      <td>0.00004</td>\n",
       "    </tr>\n",
       "    <tr>\n",
       "      <th>2017-12-28</th>\n",
       "      <td>0.002317</td>\n",
       "      <td>0.0022</td>\n",
       "      <td>0.0010</td>\n",
       "      <td>0.0003</td>\n",
       "      <td>-0.0009</td>\n",
       "      <td>-0.0020</td>\n",
       "      <td>0.00004</td>\n",
       "    </tr>\n",
       "    <tr>\n",
       "      <th>2017-12-29</th>\n",
       "      <td>-0.006222</td>\n",
       "      <td>-0.0057</td>\n",
       "      <td>-0.0030</td>\n",
       "      <td>0.0002</td>\n",
       "      <td>0.0018</td>\n",
       "      <td>0.0014</td>\n",
       "      <td>0.00004</td>\n",
       "    </tr>\n",
       "  </tbody>\n",
       "</table>\n",
       "<p>1258 rows × 7 columns</p>\n",
       "</div>"
      ],
      "text/plain": [
       "            Portfolio  Market_Excess     SMB     HML     RMW     CMA       RF\n",
       "Date                                                                         \n",
       "2013-01-03  -0.005066        -0.0014  0.0014  0.0004  0.0020  0.0023  0.00000\n",
       "2013-01-04   0.004024         0.0055  0.0019  0.0043 -0.0037  0.0027  0.00000\n",
       "2013-01-07   0.004421        -0.0031 -0.0009 -0.0037 -0.0013 -0.0012  0.00000\n",
       "2013-01-08  -0.004659        -0.0027  0.0004 -0.0007 -0.0012  0.0009  0.00000\n",
       "2013-01-09   0.004636         0.0034  0.0024 -0.0041 -0.0007 -0.0015  0.00000\n",
       "...               ...            ...     ...     ...     ...     ...      ...\n",
       "2017-12-22  -0.001360        -0.0007 -0.0019 -0.0020 -0.0005  0.0021  0.00004\n",
       "2017-12-26  -0.002715        -0.0007  0.0031 -0.0006 -0.0017  0.0056  0.00004\n",
       "2017-12-27   0.001651         0.0005 -0.0016 -0.0019  0.0006 -0.0012  0.00004\n",
       "2017-12-28   0.002317         0.0022  0.0010  0.0003 -0.0009 -0.0020  0.00004\n",
       "2017-12-29  -0.006222        -0.0057 -0.0030  0.0002  0.0018  0.0014  0.00004\n",
       "\n",
       "[1258 rows x 7 columns]"
      ]
     },
     "execution_count": 22,
     "metadata": {},
     "output_type": "execute_result"
    }
   ],
   "source": [
    "import pandas as pd\n",
    "FamaFrenchData = pd.DataFrame(pd.read_csv('https://assets.datacamp.com/production/repositories/1546/datasets/3d9b734fea954b629d2477ef48c36525dfecf6e0/FamaFrenchFactors.csv', parse_dates = ['Date']))\\\n",
    ".set_index('Date')\n",
    "FamaFrenchData"
   ]
  },
  {
   "cell_type": "code",
   "execution_count": 23,
   "id": "418a1579-c570-4928-a16c-27d572457aa0",
   "metadata": {},
   "outputs": [
    {
     "data": {
      "text/html": [
       "<div>\n",
       "<style scoped>\n",
       "    .dataframe tbody tr th:only-of-type {\n",
       "        vertical-align: middle;\n",
       "    }\n",
       "\n",
       "    .dataframe tbody tr th {\n",
       "        vertical-align: top;\n",
       "    }\n",
       "\n",
       "    .dataframe thead th {\n",
       "        text-align: right;\n",
       "    }\n",
       "</style>\n",
       "<table border=\"1\" class=\"dataframe\">\n",
       "  <thead>\n",
       "    <tr style=\"text-align: right;\">\n",
       "      <th></th>\n",
       "      <th>Portfolio</th>\n",
       "      <th>Portfolio_Excess</th>\n",
       "    </tr>\n",
       "    <tr>\n",
       "      <th>Date</th>\n",
       "      <th></th>\n",
       "      <th></th>\n",
       "    </tr>\n",
       "  </thead>\n",
       "  <tbody>\n",
       "    <tr>\n",
       "      <th>2013-01-03</th>\n",
       "      <td>-0.005066</td>\n",
       "      <td>-0.005066</td>\n",
       "    </tr>\n",
       "    <tr>\n",
       "      <th>2013-01-04</th>\n",
       "      <td>-0.001062</td>\n",
       "      <td>-0.001062</td>\n",
       "    </tr>\n",
       "    <tr>\n",
       "      <th>2013-01-07</th>\n",
       "      <td>0.003354</td>\n",
       "      <td>0.003354</td>\n",
       "    </tr>\n",
       "    <tr>\n",
       "      <th>2013-01-08</th>\n",
       "      <td>-0.001321</td>\n",
       "      <td>-0.001321</td>\n",
       "    </tr>\n",
       "    <tr>\n",
       "      <th>2013-01-09</th>\n",
       "      <td>0.003309</td>\n",
       "      <td>0.003309</td>\n",
       "    </tr>\n",
       "    <tr>\n",
       "      <th>...</th>\n",
       "      <td>...</td>\n",
       "      <td>...</td>\n",
       "    </tr>\n",
       "    <tr>\n",
       "      <th>2017-12-22</th>\n",
       "      <td>1.628754</td>\n",
       "      <td>1.602355</td>\n",
       "    </tr>\n",
       "    <tr>\n",
       "      <th>2017-12-26</th>\n",
       "      <td>1.621618</td>\n",
       "      <td>1.595186</td>\n",
       "    </tr>\n",
       "    <tr>\n",
       "      <th>2017-12-27</th>\n",
       "      <td>1.625947</td>\n",
       "      <td>1.599368</td>\n",
       "    </tr>\n",
       "    <tr>\n",
       "      <th>2017-12-28</th>\n",
       "      <td>1.632030</td>\n",
       "      <td>1.605286</td>\n",
       "    </tr>\n",
       "    <tr>\n",
       "      <th>2017-12-29</th>\n",
       "      <td>1.615654</td>\n",
       "      <td>1.588972</td>\n",
       "    </tr>\n",
       "  </tbody>\n",
       "</table>\n",
       "<p>1258 rows × 2 columns</p>\n",
       "</div>"
      ],
      "text/plain": [
       "            Portfolio  Portfolio_Excess\n",
       "Date                                   \n",
       "2013-01-03  -0.005066         -0.005066\n",
       "2013-01-04  -0.001062         -0.001062\n",
       "2013-01-07   0.003354          0.003354\n",
       "2013-01-08  -0.001321         -0.001321\n",
       "2013-01-09   0.003309          0.003309\n",
       "...               ...               ...\n",
       "2017-12-22   1.628754          1.602355\n",
       "2017-12-26   1.621618          1.595186\n",
       "2017-12-27   1.625947          1.599368\n",
       "2017-12-28   1.632030          1.605286\n",
       "2017-12-29   1.615654          1.588972\n",
       "\n",
       "[1258 rows x 2 columns]"
      ]
     },
     "execution_count": 23,
     "metadata": {},
     "output_type": "execute_result"
    }
   ],
   "source": [
    "# Calculate excess portfolio returns\n",
    "FamaFrenchData['Portfolio_Excess'] = FamaFrenchData['Portfolio'] - FamaFrenchData['RF']\n",
    "\n",
    "import matplotlib.pyplot as plt\n",
    "# Plot returns vs excess returns\n",
    "CumulativeReturns = ((1+FamaFrenchData[['Portfolio','Portfolio_Excess']]).cumprod()-1)\n",
    "CumulativeReturns"
   ]
  },
  {
   "cell_type": "code",
   "execution_count": 24,
   "id": "8c4e3c57-a6b6-43e0-ae4b-c5d5d04840d5",
   "metadata": {},
   "outputs": [
    {
     "data": {
      "image/png": "[encoded data removed]",
      "text/plain": [
       "<Figure size 432x288 with 1 Axes>"
      ]
     },
     "metadata": {
      "needs_background": "light"
     },
     "output_type": "display_data"
    }
   ],
   "source": [
    "CumulativeReturns.plot()\n",
    "plt.show()"
   ]
  },
  {
   "cell_type": "markdown",
   "id": "ee5a666e-b3f8-4f68-8a85-491be65477b0",
   "metadata": {},
   "source": [
    "### Calculating beta using co-variance\n",
    "Beta is an essential component of many financial models, and is a measure of systematic risk, or exposure to the broad market. In the CAPM model, beta is one of two essential factors.\n",
    "\n",
    "Historical beta can be estimated in a number of ways. In this exercise, you will use the following simple formula involving co-variance and variance to a benchmark market portfolio.\n",
    "\n",
    "Generate a co-variance matrix between 'Portfolio_Excess' and 'Market_Excess' columns."
   ]
  },
  {
   "cell_type": "code",
   "execution_count": 25,
   "id": "196d6913-1f1d-45e6-960c-8b7ca09fbbc2",
   "metadata": {},
   "outputs": [
    {
     "name": "stdout",
     "output_type": "stream",
     "text": [
      "5.726126338154967e-05\n"
     ]
    }
   ],
   "source": [
    "# Calculate the co-variance matrix between Portfolio_Excess and Market_Excess\n",
    "covariance_matrix = FamaFrenchData[['Portfolio_Excess', 'Market_Excess']].cov()\n",
    "\n",
    "# Extract the co-variance co-efficient\n",
    "covariance_coefficient = covariance_matrix.iloc[0, 1]\n",
    "print(covariance_coefficient)"
   ]
  },
  {
   "cell_type": "markdown",
   "id": "176e956e-ec41-4556-a7ae-4666e783b6d5",
   "metadata": {},
   "source": [
    "Calculate the variance of 'Market_Excess' column."
   ]
  },
  {
   "cell_type": "code",
   "execution_count": 26,
   "id": "2b4a043d-3b9b-4ba4-bd78-587e506b8301",
   "metadata": {},
   "outputs": [
    {
     "name": "stdout",
     "output_type": "stream",
     "text": [
      "5.8803350882118946e-05\n"
     ]
    }
   ],
   "source": [
    "# Calculate the benchmark variance\n",
    "benchmark_variance = FamaFrenchData['Market_Excess'].var()\n",
    "print(benchmark_variance)"
   ]
  },
  {
   "cell_type": "markdown",
   "id": "98f2e577-ba7c-4f40-8d00-5a09a8ec78fa",
   "metadata": {},
   "source": [
    "Calculate the portfolio beta.\n",
    "\n",
    "\n"
   ]
  },
  {
   "cell_type": "code",
   "execution_count": 27,
   "id": "971d476f-fae9-4e59-a7c4-53c3b3bdf73e",
   "metadata": {},
   "outputs": [
    {
     "name": "stdout",
     "output_type": "stream",
     "text": [
      "0.9737755165745461\n"
     ]
    }
   ],
   "source": [
    "\n",
    "# Calculating the portfolio market beta\n",
    "portfolio_beta = covariance_coefficient / benchmark_variance\n",
    "print(portfolio_beta)"
   ]
  },
  {
   "cell_type": "markdown",
   "id": "e3f6c0bd-33c6-4763-84cf-fe1304d609da",
   "metadata": {},
   "source": [
    "**Your portfolio beta is 0.9738. You can think of market beta as a measure of your exposure to the broad stock market. For every 1.0% rise (or fall) in the market, you can expect your portfolio to rise (fall) roughly 0.97%.**"
   ]
  },
  {
   "cell_type": "markdown",
   "id": "9a02d043-6734-439b-a8a4-65ba4f81508a",
   "metadata": {},
   "source": [
    "#### Calculating beta with CAPM\n",
    "There are many ways to model stock returns, but the Capital Asset Pricing Model, or CAPM, is one the most well known:\n",
    "\n",
    "```\n",
    "E(Rp) - RF = Bp (E(Rm)- RF)\n",
    "\n",
    "```"
   ]
  },
  {
   "cell_type": "code",
   "execution_count": 28,
   "id": "d54796f9-c0f1-4501-9684-3a02f950cc6c",
   "metadata": {},
   "outputs": [
    {
     "name": "stdout",
     "output_type": "stream",
     "text": [
      "0.7942627160017839\n"
     ]
    }
   ],
   "source": [
    "# Import statsmodels.formula.api\n",
    "import statsmodels.formula.api as smf \n",
    "\n",
    "# Define the regression formula\n",
    "CAPM_model = smf.ols(formula='Portfolio_Excess ~ Market_Excess', data=FamaFrenchData)\n",
    "\n",
    "# Fit the regression\n",
    "CAPM_fit = CAPM_model.fit()\n",
    "print(CAPM_fit.rsquared_adj)"
   ]
  },
  {
   "cell_type": "code",
   "execution_count": 29,
   "id": "20109cca-9f2a-48aa-9126-d7d5d2b87a72",
   "metadata": {},
   "outputs": [
    {
     "name": "stdout",
     "output_type": "stream",
     "text": [
      "0.973775516574546\n"
     ]
    }
   ],
   "source": [
    "# Extract the beta\n",
    "regression_beta = CAPM_fit.params['Market_Excess']\n",
    "print(regression_beta)"
   ]
  },
  {
   "cell_type": "markdown",
   "id": "db0918d0-0f53-4fd3-90a9-4551317fcb63",
   "metadata": {},
   "source": [
    "**Your portfolio beta is once again 0.9738. The adjusted r-squared is 0.7943. A high adjusted r-squared (close to 1) means that the majority of your portfolio's movements can be explained by the factors in your model.**\n",
    "\n",
    "Si lanzas varios modelos para testear tus quedate con el que **mayor r-squared ajusted** tenga\n",
    "\n",
    "## Alpha and multi-factor models\n",
    "\n",
    "\n",
    "### The Fama French 3-factor model\n",
    "The Fama-French model famously adds two additional factors to the CAPM model to describe asset returns\n",
    "\n"
   ]
  },
  {
   "cell_type": "code",
   "execution_count": 30,
   "id": "0b19bab0-4809-467d-8de5-1116e404c5d2",
   "metadata": {},
   "outputs": [
    {
     "name": "stdout",
     "output_type": "stream",
     "text": [
      "0.8193910088585152\n"
     ]
    }
   ],
   "source": [
    "# Import statsmodels.formula.api\n",
    "import statsmodels.formula.api as smf \n",
    "\n",
    "# Define the regression formula\n",
    "FamaFrench_model = smf.ols(formula='Portfolio_Excess ~ Market_Excess + SMB + HML', data=FamaFrenchData)\n",
    "\n",
    "# Fit the regression\n",
    "FamaFrench_fit = FamaFrench_model.fit()\n",
    "\n",
    "# Extract the adjusted r-squared\n",
    "regression_adj_rsq = FamaFrench_fit.rsquared_adj\n",
    "print(regression_adj_rsq)"
   ]
  },
  {
   "cell_type": "markdown",
   "id": "0c2bfa38-52b9-4e28-a9f6-8769ae3d5424",
   "metadata": {},
   "source": [
    "**The Fama-French 3 factor model fit well, raising the adjusted r-squared from 0.7943 to 0.8194, meaning that the model explains more of your portfolio variance. But there's still room for improvement...**\n",
    "\n",
    "### p-values and coefficients\n",
    "You can use the .pvalues attribute on a fitted smf.ols regression model to retrieve the p-values for each coefficient.\n",
    "\n",
    "Normally, p-values less than 0.05 are considered statistically significant.\n",
    "\n",
    "Coefficients can be extracted from the fitted regression object using the .params attribute.\n",
    "\n",
    "In this example, a statistically significant negative SMB ('Small Minus Big') coefficient would signify a factor exposure to large cap stocks, while a positive coefficient would signify an exposure to small cap stocks.\n",
    "\n",
    "The fitted regression model FamaFrench_fit from the previous exercise is available in your workspace."
   ]
  },
  {
   "cell_type": "code",
   "execution_count": 31,
   "id": "7e1fbd34-29f3-46f1-9343-39aa251ae699",
   "metadata": {},
   "outputs": [
    {
     "name": "stdout",
     "output_type": "stream",
     "text": [
      "The SMB coefficient is  -0.2621515274319264  and is  significant\n"
     ]
    }
   ],
   "source": [
    "# Extract the p-value of the SMB factor\n",
    "smb_pval = FamaFrench_fit.pvalues['SMB']\n",
    "\n",
    "# If the p-value is significant, print significant\n",
    "if smb_pval < 0.05:\n",
    "    significant_msg = 'significant'\n",
    "else:\n",
    "    significant_msg = 'not significant'\n",
    "\n",
    "# Print the SMB coefficient\n",
    "smb_coeff = FamaFrench_fit.params['SMB']\n",
    "print(\"The SMB coefficient is \", smb_coeff, \" and is \", significant_msg)"
   ]
  },
  {
   "cell_type": "markdown",
   "id": "cfa7fa37-26b2-4330-94ac-6f93138f5148",
   "metadata": {},
   "source": [
    "**Your portfolio has a statistically significant negative exposure (-0.2621) to small-cap stocks - in other words - positive exposure to large caps!**\n",
    "\n",
    "### The efficient market and alpha\n",
    "The alpha () left over by the regression is unexplained performance due to unknown factors. In a regression model, this is simply the coefficient of the intercept.\n",
    "\n",
    "There are two general schools of thought as to why:\n",
    "\n",
    "1. The model simply needs to be expanded. When you have found all of the missing economic factors, you can explain all stock and portfolio returns. This is known as the Efficient Market Hypothesis.\n",
    "2. \n",
    "There is a degree of unexplainable performance that no model will ever capture reliably. Perhaps it is due to skill, timing, intuition or luck, but investors should seek to maximize their alpha.\n",
    "Your fitted regression analysis from the previous exercise has been stored in FamaFrench_fit"
   ]
  },
  {
   "cell_type": "code",
   "execution_count": 32,
   "id": "5e97c5d7-4783-44ce-9f37-212327a361a6",
   "metadata": {},
   "outputs": [
    {
     "name": "stdout",
     "output_type": "stream",
     "text": [
      "0.00018326665203183067\n"
     ]
    }
   ],
   "source": [
    "# Extract your portfolio alpha\n",
    "portfolio_alpha = FamaFrench_fit.params['Intercept']\n",
    "print(portfolio_alpha)\n"
   ]
  },
  {
   "cell_type": "code",
   "execution_count": 33,
   "id": "7a33c0c1-23da-4b29-992b-b2413aecbf19",
   "metadata": {},
   "outputs": [
    {
     "name": "stdout",
     "output_type": "stream",
     "text": [
      "0.04726181730280854\n"
     ]
    }
   ],
   "source": [
    "# Annualize your portfolio alpha\n",
    "portfolio_alpha_annualized = ((1+portfolio_alpha)**252)-1\n",
    "print(portfolio_alpha_annualized)"
   ]
  },
  {
   "cell_type": "markdown",
   "id": "c151b4c4-19d1-42e3-a736-0e88b35c2ce0",
   "metadata": {},
   "source": [
    "## Expanding the 3-factor model\n",
    " \n",
    "\n",
    "### The 5-factor model\n",
    "In 2015, Fama and French extended their previous 3-factor model, adding two additional factors:\n",
    "\n",
    "RMW: Profitability\n",
    "CMA: Investment\n",
    "The RMW factor represents the returns of companies with high operating profitability versus those with low operating profitability, and the CMA factor represents the returns of companies with aggressive investments versus those who are more conservative.\n",
    "\n",
    "The FamaFrenchData object is available in your workspace and contains the RMW and CMA factors in addition to the previous factors."
   ]
  },
  {
   "cell_type": "code",
   "execution_count": 34,
   "id": "093d1598-90eb-464c-a196-b5d379df09a2",
   "metadata": {},
   "outputs": [
    {
     "name": "stdout",
     "output_type": "stream",
     "text": [
      "0.8367245019225793\n"
     ]
    }
   ],
   "source": [
    "# Import statsmodels.formula.api\n",
    "import statsmodels.formula.api as smf \n",
    "\n",
    "# Define the regression formula\n",
    "FamaFrench5_model = smf.ols(formula='Portfolio_Excess ~ Market_Excess + SMB + HML + RMW + CMA', data=FamaFrenchData)\n",
    "\n",
    "# Fit the regression\n",
    "FamaFrench5_fit = FamaFrench5_model.fit()\n",
    "\n",
    "# Extract the adjusted r-squared\n",
    "regression_adj_rsq = FamaFrench5_fit.rsquared_adj\n",
    "print(regression_adj_rsq)"
   ]
  },
  {
   "cell_type": "markdown",
   "id": "7994470e-ffd8-49f4-9b14-d539079bbead",
   "metadata": {},
   "source": [
    "**The adjusted r-squared is even higher at 0.8367! Could you build a better model?**"
   ]
  },
  {
   "cell_type": "code",
   "execution_count": null,
   "id": "9e38fd48-53ff-451a-8a87-512ac8f39b20",
   "metadata": {},
   "outputs": [],
   "source": []
  },
  {
   "cell_type": "code",
   "execution_count": null,
   "id": "b7c5014b-c1ed-461a-964a-0af7e21d9798",
   "metadata": {},
   "outputs": [],
   "source": []
  },
  {
   "cell_type": "code",
   "execution_count": null,
   "id": "3fad4188-ebcd-4109-bf64-ce70a52ec490",
   "metadata": {},
   "outputs": [],
   "source": []
  },
  {
   "cell_type": "code",
   "execution_count": null,
   "id": "9dfa6767-316b-4fc3-971f-c3062a85eacd",
   "metadata": {},
   "outputs": [],
   "source": []
  },
  {
   "cell_type": "code",
   "execution_count": null,
   "id": "dccbe933-4d5f-4ab4-8e6b-b9897835f9ff",
   "metadata": {},
   "outputs": [],
   "source": []
  }
 ],
 "metadata": {
  "kernelspec": {
   "display_name": "Python 3 (ipykernel)",
   "language": "python",
   "name": "python3"
  },
  "language_info": {
   "codemirror_mode": {
    "name": "ipython",
    "version": 3
   },
   "file_extension": ".py",
   "mimetype": "text/x-python",
   "name": "python",
   "nbconvert_exporter": "python",
   "pygments_lexer": "ipython3",
   "version": "3.9.7"
  }
 },
 "nbformat": 4,
 "nbformat_minor": 5
}
