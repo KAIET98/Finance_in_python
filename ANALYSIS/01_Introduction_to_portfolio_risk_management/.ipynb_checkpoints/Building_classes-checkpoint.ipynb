{
 "cells": [
  {
   "cell_type": "markdown",
   "id": "241346d9-eac7-4281-991a-cd63c669171c",
   "metadata": {},
   "source": [
    "# Building classes"
   ]
  },
  {
   "cell_type": "code",
   "execution_count": 1,
   "id": "9867217b-c658-4cff-be83-008d95af478d",
   "metadata": {},
   "outputs": [],
   "source": [
    "import os \n",
    "\n",
    "while 'ANALYSIS' not in os.listdir():\n",
    "    \n",
    "    os.chdir('..')"
   ]
  },
  {
   "cell_type": "code",
   "execution_count": null,
   "id": "822052b3-e95e-4b6f-b8bf-0b11e21e00f0",
   "metadata": {},
   "outputs": [],
   "source": [
    "from ANALYSIS.modules.finantial_ratio_building.data_building_cls import FinanceRatiosBuilding"
   ]
  },
  {
   "cell_type": "code",
   "execution_count": null,
   "id": "94a5fb66-c2a4-455b-8de7-423f7321c38f",
   "metadata": {},
   "outputs": [],
   "source": []
  },
  {
   "cell_type": "code",
   "execution_count": null,
   "id": "41b4b5db-c2a9-4324-bc73-2815ae0d1c43",
   "metadata": {},
   "outputs": [],
   "source": []
  },
  {
   "cell_type": "code",
   "execution_count": null,
   "id": "24a635c2-fe9e-4964-b01a-008ea5ccef91",
   "metadata": {},
   "outputs": [],
   "source": []
  },
  {
   "cell_type": "code",
   "execution_count": null,
   "id": "4b371da0-4b46-446c-a1d7-5a6ede9c0d2f",
   "metadata": {},
   "outputs": [],
   "source": []
  }
 ],
 "metadata": {
  "kernelspec": {
   "display_name": "Python 3 (ipykernel)",
   "language": "python",
   "name": "python3"
  },
  "language_info": {
   "codemirror_mode": {
    "name": "ipython",
    "version": 3
   },
   "file_extension": ".py",
   "mimetype": "text/x-python",
   "name": "python",
   "nbconvert_exporter": "python",
   "pygments_lexer": "ipython3",
   "version": "3.9.13"
  }
 },
 "nbformat": 4,
 "nbformat_minor": 5
}
