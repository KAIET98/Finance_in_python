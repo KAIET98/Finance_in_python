{
 "cells": [
  {
   "cell_type": "markdown",
   "id": "a995a9f0-efe0-492f-acb2-723d922a97b2",
   "metadata": {},
   "source": [
    "# Introduction_to_finantial_concepts"
   ]
  },
  {
   "cell_type": "markdown",
   "id": "a80b7c79-22eb-4728-8b31-1a4992cba6e4",
   "metadata": {
    "tags": []
   },
   "source": [
    "## The Time Value of Money"
   ]
  },
  {
   "cell_type": "markdown",
   "id": "b3818940-313a-422b-b603-6dc877c9679d",
   "metadata": {},
   "source": [
    "## Making Data-Driven Financial Decisions\n"
   ]
  },
  {
   "cell_type": "markdown",
   "id": "c40dc59b-0784-4c74-b911-c44294103114",
   "metadata": {},
   "source": [
    "## Budgeting Application\n",
    "### The Time Value of Money\n",
    "\n",
    "#### Growth and rate of return\n",
    "\n",
    "Growth and Rate of Return are two concepts that are ubiquitous throughout the financial world. "
   ]
  },
  {
   "cell_type": "code",
   "execution_count": 1,
   "id": "52d56c74-c5f7-45d8-9e9b-bd90b16d1c00",
   "metadata": {},
   "outputs": [
    {
     "name": "stdout",
     "output_type": "stream",
     "text": [
      "['.ipynb_checkpoints', 'Introduction_to_finantial_concepts.ipynb']\n",
      "...ready to import custom functions..\n",
      "...ready to import custom functions..\n"
     ]
    }
   ],
   "source": [
    "import os\n",
    "\n",
    "print(os.listdir())\n",
    "\n",
    "while 'f_functions' not in os.listdir():\n",
    "    \n",
    "    os.chdir('..')\n",
    "    \n",
    "    print('...ready to import custom functions..')"
   ]
  },
  {
   "cell_type": "code",
   "execution_count": 2,
   "id": "74cd958d-5858-420e-baf2-76acbf9d2dbf",
   "metadata": {},
   "outputs": [],
   "source": [
    "from f_functions.cumulative_return import cum_return"
   ]
  },
  {
   "cell_type": "code",
   "execution_count": 3,
   "id": "b72fa9ea-fe5d-42b5-8dd1-4beab91e20d3",
   "metadata": {},
   "outputs": [
    {
     "name": "stdout",
     "output_type": "stream",
     "text": [
      "Future Value of Investment: 574.35\n"
     ]
    }
   ],
   "source": [
    "# Calculate the future value of the investment and print it out\n",
    "future_value = cum_return(100, 0.06, 30)\n",
    "\n",
    "print(\"Future Value of Investment: \" + str(round(future_value, 2)))"
   ]
  },
  {
   "cell_type": "markdown",
   "id": "e0dad53a-d7be-493a-bd78-b946e6bf5d0c",
   "metadata": {},
   "source": [
    "#### Compound interest\n",
    "As you saw in the previous exercise, both time and the rate of return are very important variables when forecasting the future value of an investment.\n",
    "\n",
    "Another important variable is the number of compounding periods, which can greatly affect compounded returns over time."
   ]
  },
  {
   "cell_type": "markdown",
   "id": "5413c436-a6f3-4760-b638-92bb6abf5c04",
   "metadata": {},
   "source": [
    "Calculate the value of a $100 investment which grows at a rate of 6% per year for 30 years in a row compounded once per year and assign it to investment_1."
   ]
  },
  {
   "cell_type": "code",
   "execution_count": 4,
   "id": "d2d82b0e-8569-42f0-a58f-04f46a06fd74",
   "metadata": {},
   "outputs": [
    {
     "name": "stdout",
     "output_type": "stream",
     "text": [
      "Investment 1: 574.35\n"
     ]
    }
   ],
   "source": [
    "from f_functions.compound_int import compound_int\n",
    "\n",
    "\n",
    "# Calculate the value for the investment compounded once per year\n",
    "initial_investment = 100\n",
    "growth_periods = 30\n",
    "growth_rate = 0.06\n",
    "compound_periods_1 = 1\n",
    "\n",
    "\n",
    "investment_1 = compound_int(initial_investment, growth_rate, growth_periods, compound_periods_1)\n",
    "print(\"Investment 1: \" + str(round(investment_1, 2)))"
   ]
  },
  {
   "cell_type": "markdown",
   "id": "2a41f656-0d78-442b-a5f0-7a8fa6f40ee7",
   "metadata": {},
   "source": [
    "Calculate the value of the same investment, but compounded quarterly and assign it to investment_2"
   ]
  },
  {
   "cell_type": "code",
   "execution_count": 5,
   "id": "0aad7831-958b-4af9-ae28-2afbe5c4a163",
   "metadata": {},
   "outputs": [
    {
     "name": "stdout",
     "output_type": "stream",
     "text": [
      "Investment 2: 596.93\n"
     ]
    }
   ],
   "source": [
    "compound_periods_2 = 4\n",
    "\n",
    "investment_2 = compound_int(initial_investment, growth_rate, growth_periods, compound_periods_2)\n",
    "print(\"Investment 2: \" + str(round(investment_2, 2)))"
   ]
  },
  {
   "cell_type": "markdown",
   "id": "ee4de25c-cfc1-47a7-b45a-94e6c57531fd",
   "metadata": {},
   "source": [
    "Calculate the value of the same investment, but compounded monthly and assign it to investment_3"
   ]
  },
  {
   "cell_type": "code",
   "execution_count": 6,
   "id": "8f7383e4-0e90-4024-9412-48af35abae97",
   "metadata": {},
   "outputs": [
    {
     "name": "stdout",
     "output_type": "stream",
     "text": [
      "Investment 3: 602.26\n"
     ]
    }
   ],
   "source": [
    "# Calculate the value for the investment compounded monthly\n",
    "compound_periods_3 = 12\n",
    "investment_3 = compound_int(initial_investment, growth_rate, growth_periods, compound_periods_3)\n",
    "print(\"Investment 3: \" + str(round(investment_3, 2)))"
   ]
  },
  {
   "cell_type": "markdown",
   "id": "3776e2b0-7a28-40e2-a0e4-f268a3eede1c",
   "metadata": {},
   "source": [
    "#### Discount factors and depreciation\n",
    "Unfortunately, not everything grows in value over time.\n",
    "\n",
    "In fact, many assets depreciate, or lose value over time. To simulate this, you can simply assume a negative expected rate of return."
   ]
  },
  {
   "cell_type": "markdown",
   "id": "334e8c3e-1b65-4d95-8264-10b25f7b8f34",
   "metadata": {},
   "source": [
    "Calculate the future value of a $100 investment that depreciates in value by 5% per year for 10 years and assign it to future_value"
   ]
  },
  {
   "cell_type": "code",
   "execution_count": 7,
   "id": "6856bee4-3efc-4396-9177-ad1e870bb2cb",
   "metadata": {},
   "outputs": [
    {
     "name": "stdout",
     "output_type": "stream",
     "text": [
      "Future value: 102.6\n"
     ]
    }
   ],
   "source": [
    "from  f_functions.growth_depr import growth_depr \n",
    "\n",
    "initial_investment = 100\n",
    "growth_rate = -0.05\n",
    "growth_periods = 10\n",
    "\n",
    "\n",
    "future_value = growth_depr(initial_investment, growth_rate, growth_periods)\n",
    "print(\"Future value: \" + str(round(future_value, 2)))"
   ]
  },
  {
   "cell_type": "markdown",
   "id": "227b4d87-757a-4988-8a3c-36274d4e9210",
   "metadata": {},
   "source": [
    "Calculate the discount factor of the investment and assign it to discount_factor"
   ]
  },
  {
   "cell_type": "code",
   "execution_count": 8,
   "id": "89c5dffa-7f3f-41ef-8a40-9accd886b91d",
   "metadata": {},
   "outputs": [
    {
     "name": "stdout",
     "output_type": "stream",
     "text": [
      "Discount factor: 1.67\n"
     ]
    }
   ],
   "source": [
    "from  f_functions.discount_factor import disct_fact \n",
    "\n",
    "discount_factor = disct_fact(growth_rate, growth_periods)\n",
    "print(\"Discount factor: \" + str(round(discount_factor, 2)))"
   ]
  },
  {
   "cell_type": "markdown",
   "id": "a21fac76-e54d-4b37-8053-36f1dea432f3",
   "metadata": {},
   "source": [
    "Derive the initial value of the investment using the future value and the discount factor and assign it to initial_investment_again"
   ]
  },
  {
   "cell_type": "code",
   "execution_count": 9,
   "id": "ba78801e-ebe5-4345-9d20-31033f73d74c",
   "metadata": {},
   "outputs": [
    {
     "name": "stdout",
     "output_type": "stream",
     "text": [
      "Initial value: 171.36\n"
     ]
    }
   ],
   "source": [
    "initial_investment_again = future_value * discount_factor\n",
    "print(\"Initial value: \" + str(round(initial_investment_again, 2)))"
   ]
  },
  {
   "cell_type": "markdown",
   "id": "2213fbc4-e4f9-4af3-b836-5e78fc97dce0",
   "metadata": {},
   "source": [
    "### Present and future value\n",
    "\n",
    "\n",
    "Present value = np.pv\n",
    "\n",
    "\n",
    "future value = np.fv\n",
    "\n",
    "\n",
    "##### Present value\n",
    "Luckily for you, there is a module called numpy which contains many functions which will make your life much easier when working with financial values.\n",
    "\n",
    "The .pv(rate, nper, pmt, fv) function, for example, allows you to calculate the present value of an investment as before with a few simple parameters:\n",
    "\n",
    "- rate: The rate of return of the investment\n",
    "- nper: The lifespan of the investment\n",
    "- pmt: The (fixed) payment at the beginning or end of each period (which is 0 in our example)\n",
    "- fv: The future value of the investment\n"
   ]
  },
  {
   "cell_type": "markdown",
   "id": "92a76e41-ec6d-4ebe-afbe-be356050a153",
   "metadata": {},
   "source": [
    "Import numpy as np.\n",
    "Using NumPy's .pv() function, compute the present value of an investment which will yield $10,000 15 years from now at an inflation rate of 3% per year and assign it to investment_1.\n",
    "Compute the present value of the same investment, but with a time horizon of only 10 years and an inflation rate of 5%, assigning it to investment_2."
   ]
  },
  {
   "cell_type": "code",
   "execution_count": 10,
   "id": "8f5ac0c6-d61b-4c86-9a59-4e2b2aa2b7c1",
   "metadata": {},
   "outputs": [
    {
     "name": "stdout",
     "output_type": "stream",
     "text": [
      "Requirement already satisfied: numpy_financial in /home/bluetab/anaconda3/lib/python3.9/site-packages (1.0.0)\n",
      "Requirement already satisfied: numpy>=1.15 in /home/bluetab/anaconda3/lib/python3.9/site-packages (from numpy_financial) (1.20.3)\n"
     ]
    }
   ],
   "source": [
    "!pip install numpy_financial"
   ]
  },
  {
   "cell_type": "code",
   "execution_count": 11,
   "id": "3b5f7690-3253-4c5d-8e52-922760846c7d",
   "metadata": {},
   "outputs": [
    {
     "name": "stdout",
     "output_type": "stream",
     "text": [
      "Investment 1 is worth 6418.62 in today's dollars\n",
      "Investment 2 is worth 6139.13 in today's dollars\n"
     ]
    }
   ],
   "source": [
    "# Import numpy as np\n",
    "import numpy_financial as npf\n",
    "\n",
    "# Calculate investment_1\n",
    "investment_1 = npf.pv(rate=0.03, nper=15, pmt=0, fv=10000)\n",
    "\n",
    "# Note that the present value returned is negative, so we multiply the result by -1\n",
    "print(\"Investment 1 is worth \" + str(round(-investment_1, 2)) + \" in today's dollars\")\n",
    "\n",
    "# Calculate investment_2\n",
    "investment_2 = npf.pv(rate = 0.05, nper = 10, pmt = 0, fv = 10000)\n",
    "print(\"Investment 2 is worth \" + str(round(-investment_2, 2)) + \" in today's dollars\")"
   ]
  },
  {
   "cell_type": "markdown",
   "id": "366b6229-f0cb-45aa-8a2b-867e3916ea1a",
   "metadata": {},
   "source": [
    "#### Future value\n",
    "The numpy module also contains a similar function, .fv(rate, nper, pmt, pv), which allows you to calculate the future value of an investment as before with a few simple parameters:\n",
    "\n",
    "- rate: The rate of return of the investment\n",
    "- nper: The lifespan of the investment\n",
    "- pmt: The (fixed) payment at the beginning or end of each period (which is 0 in our example)\n",
    "- pv: The present value of the investment"
   ]
  },
  {
   "cell_type": "markdown",
   "id": "39b096f9-8fb4-4f53-b6b3-6793f6870226",
   "metadata": {},
   "source": [
    "Using NumPy's .fv() function, calculate the future value of a $10,000 investment returning 5% per year for 15 years and assign it to investment_1.\n",
    "Calculate the future value of a $10,000 investment returning 8% per year for 15 years and assign it to investment_2."
   ]
  },
  {
   "cell_type": "code",
   "execution_count": 12,
   "id": "1c74bfac-a28a-45cc-b6c7-923fedcef8ab",
   "metadata": {},
   "outputs": [
    {
     "name": "stdout",
     "output_type": "stream",
     "text": [
      "Investment 1 will yield a total of $20789.28 in 15 years\n",
      "Investment 2 will yield a total of $31721.69 in 15 years\n"
     ]
    }
   ],
   "source": [
    "\n",
    "\n",
    "\n",
    "# Calculate investment_1\n",
    "investment_1 = npf.fv(rate=0.05, nper=15, pmt=0, pv=-10000)\n",
    "print(\"Investment 1 will yield a total of $\" + str(round(investment_1, 2)) + \" in 15 years\")\n",
    "\n",
    "# Calculate investment_2\n",
    "investment_2 = npf.fv(rate=0.08, nper=15, pmt=0, pv=-10000)\n",
    "print(\"Investment 2 will yield a total of $\" + str(round(investment_2, 2)) + \" in 15 years\")"
   ]
  },
  {
   "cell_type": "markdown",
   "id": "38e28fcc-343c-402b-a6b1-a92268cb01dd",
   "metadata": {},
   "source": [
    "#### Adjusting future values for inflation\n",
    "You can now put together what you learned in the previous exercises by following a simple methodology:\n",
    "\n",
    "1. First, forecast the future value of an investment given a rate of return\n",
    "2. Second, discount the future value of the investment by a projected inflation rate\n",
    "The methodology above will use both the .fv() and .pv() functions to arrive at the projected value of a given investment in today's dollars, adjusted for inflation."
   ]
  },
  {
   "cell_type": "markdown",
   "id": "d912a67f-527b-464f-b050-c77e307e1f18",
   "metadata": {},
   "source": [
    "- Calculate the future value of a $10,000 investment returning 8% per year for 10 years using .fv() and assign it to investment_1.\n"
   ]
  },
  {
   "cell_type": "code",
   "execution_count": 13,
   "id": "2f048cdd-ef71-4956-a792-499c44b0fcf5",
   "metadata": {},
   "outputs": [
    {
     "name": "stdout",
     "output_type": "stream",
     "text": [
      "Investment 1 will yield a total of $21589.25 in 10 years\n"
     ]
    }
   ],
   "source": [
    "# Calculate investment_1\n",
    "investment_1 = npf.fv(rate=0.08, nper=10, pmt=0, pv=-10000)\n",
    "print(\"Investment 1 will yield a total of $\" + str(round(investment_1, 2)) + \" in 10 years\")"
   ]
  },
  {
   "cell_type": "markdown",
   "id": "5fea7d88-763d-4e1c-935d-e534d16267ff",
   "metadata": {},
   "source": [
    "- Calculate the inflation-adjusted present value of investment_1, using an inflation rate of 3% per year and assign it to investment_1_discounted."
   ]
  },
  {
   "cell_type": "code",
   "execution_count": 14,
   "id": "769a6c16-9460-48c7-83dd-c06f726c45ea",
   "metadata": {},
   "outputs": [
    {
     "name": "stdout",
     "output_type": "stream",
     "text": [
      "After adjusting for inflation, investment 1 is worth $16064.43 in today's dollars\n"
     ]
    }
   ],
   "source": [
    "# Calculate investment_2\n",
    "investment_1_discounted = npf.pv(rate=0.03, nper=10, pmt=0, fv=investment_1)\n",
    "print(\"After adjusting for inflation, investment 1 is worth $\" + str(round(-investment_1_discounted, 2)) + \" in today's dollars\")"
   ]
  },
  {
   "cell_type": "markdown",
   "id": "245eec03-b2b1-4adf-8f2a-612b52423d2a",
   "metadata": {},
   "source": [
    "### Net present value and cash flows\n",
    "\n",
    "#### Discounting cash flows\n",
    "You can use numpy's net present value function numpy.npv(rate, values) to calculate the net present value of a series of cash flows. You can create these cash flows by using a numpy.array([...]) of values.\n"
   ]
  },
  {
   "cell_type": "markdown",
   "id": "462fc1eb-d803-43bc-bf0e-43cbb7ea6f96",
   "metadata": {},
   "source": [
    "1.Calculate the net present value of the investment with cash_flows at a discount rate of 3% per year, and assign it to investment_1.\n",
    "2. Repeat the process with a discount rate of 5% per year, and assign it to investment_2.\n",
    "3. Repeat the process with a discount rate of 7% per year, and assign it to investment_3."
   ]
  },
  {
   "cell_type": "code",
   "execution_count": 15,
   "id": "7113a0e6-1ca7-4d22-ba3e-79b6ad607684",
   "metadata": {},
   "outputs": [
    {
     "name": "stdout",
     "output_type": "stream",
     "text": [
      "Investment 1's net present value is $471.71 in today's dollars\n",
      "Investment 2's net present value is $454.6 in today's dollars\n",
      "Investment 3's net present value is $438.72 in today's dollars\n"
     ]
    }
   ],
   "source": [
    "# Predefined array of cash flows\n",
    "import numpy as np\n",
    "\n",
    "cash_flows = np.array([100, 100, 100, 100, 100])\n",
    "\n",
    "# Calculate investment_1\n",
    "investment_1 = npf.npv(rate=0.03, values=cash_flows)\n",
    "print(\"Investment 1's net present value is $\" + str(round(investment_1, 2)) + \" in today's dollars\")\n",
    "\n",
    "# Calculate investment_2\n",
    "investment_2 = npf.npv(rate=0.05, values=cash_flows)\n",
    "print(\"Investment 2's net present value is $\" + str(round(investment_2, 2)) + \" in today's dollars\")\n",
    "\n",
    "# Calculate investment_3\n",
    "investment_3 = npf.npv(rate=0.07, values=cash_flows)\n",
    "print(\"Investment 3's net present value is $\" + str(round(investment_3, 2)) + \" in today's dollars\")"
   ]
  },
  {
   "cell_type": "markdown",
   "id": "5aaa59db-8162-4431-89be-b18423fa64ab",
   "metadata": {},
   "source": [
    "**Very good! Notice how the higher discount rate leads to a lower NPV?**"
   ]
  },
  {
   "cell_type": "markdown",
   "id": "a131e7ff-7760-4fd3-b0b1-3c33dd079cb2",
   "metadata": {},
   "source": [
    "1.Create a numpy array of the cash flow values for project 1, assigning it to cash_flows_1, and then do the same for project 2, assigning the values to cash_flows_2.\n",
    "2. Calculate the net present value of both projects 1 and 2 assuming a 3% inflation rate.\n",
    "\n"
   ]
  },
  {
   "cell_type": "code",
   "execution_count": 16,
   "id": "578297b3-1caf-4417-9b9e-e5ec381e9617",
   "metadata": {},
   "outputs": [
    {
     "name": "stdout",
     "output_type": "stream",
     "text": [
      "The net present value of Investment 1 is worth $665.54 in today's dollars\n",
      "The net present value of Investment 2 is worth $346.7 in today's dollars\n"
     ]
    }
   ],
   "source": [
    "# Create an array of cash flows for project 1\n",
    "cash_flows_1 = np.array([-250, 100, 200, 300, 400])\n",
    "\n",
    "# Create an array of cash flows for project 2\n",
    "cash_flows_2 = np.array([-250, 300, -250, 300, 300])\n",
    "\n",
    "# Calculate the net present value of project 1\n",
    "investment_1 = npf.npv(rate=0.03, values=cash_flows_1)\n",
    "print(\"The net present value of Investment 1 is worth $\" + str(round(investment_1, 2)) + \" in today's dollars\")\n",
    "\n",
    "# Calculate the net present value of project 2\n",
    "investment_2 = npf.npv(rate=0.03, values=cash_flows_2)\n",
    "print(\"The net present value of Investment 2 is worth $\" + str(round(investment_2, 2)) + \" in today's dollars\")"
   ]
  },
  {
   "cell_type": "markdown",
   "id": "b239c7e2-c2df-44f7-be7e-a8fec477393d",
   "metadata": {},
   "source": [
    "#### Diminishing cash flows\n",
    "Remember how compounded returns grow rapidly over time? Well, it works in the reverse, too. Compounded discount factors over time will quickly shrink a number towards zero.\n",
    "\n",
    "**This means that the longer in the future your cash flows will be received (or paid), the close to 0 that number will be.**"
   ]
  },
  {
   "cell_type": "markdown",
   "id": "07147b59-93fd-4f94-ad47-3c920cece940",
   "metadata": {},
   "source": [
    "1. Calculate the present value of a single $100 payment received 30 years from now with an annual inflation rate of 3%, and assign it to investment_1.\n",
    "2. Calculate the present value of the same payment, but if it was received 50 and 100 years from now, and assign it to investment_2 and investment_3 respectively."
   ]
  },
  {
   "cell_type": "code",
   "execution_count": 17,
   "id": "d8e6698e-9d41-4107-bc1d-0d7d4f3caca1",
   "metadata": {},
   "outputs": [
    {
     "name": "stdout",
     "output_type": "stream",
     "text": [
      "Investment 1 is worth $41.2 in today's dollars\n",
      "Investment 2 is worth $22.81 in today's dollars\n",
      "Investment 3 is worth $5.2 in today's dollars\n"
     ]
    }
   ],
   "source": [
    "# Calculate investment_1\n",
    "investment_1 = npf.pv(rate=0.03, nper=30, pmt=0, fv=100)\n",
    "print(\"Investment 1 is worth $\" + str(round(-investment_1, 2)) + \" in today's dollars\")\n",
    "\n",
    "# Calculate investment_2\n",
    "investment_2 = npf.pv(rate=0.03, nper=50, pmt=0, fv=100)\n",
    "print(\"Investment 2 is worth $\" + str(round(-investment_2, 2)) + \" in today's dollars\")\n",
    "\n",
    "# Calculate investment_3\n",
    "investment_3 = npf.pv(rate=0.03, nper=100, pmt=0, fv=100)\n",
    "print(\"Investment 3 is worth $\" + str(round(-investment_3, 2)) + \" in today's dollars\")"
   ]
  },
  {
   "cell_type": "markdown",
   "id": "661de8dc-14dc-4b91-964c-869f3e6f2257",
   "metadata": {},
   "source": [
    "## Making Data-Driven Financial Decisions\n",
    "In this chapter, you will act as the CEO of a company, making important data-driven financial decisions about projects and financing using measures such as **IRR** and **NPV**.\n",
    "\n",
    "### A tale of two project proposals\n",
    "\n",
    "\n",
    "Common profitability analysis methods: \n",
    "\n",
    "1. Net present value (NPV): equal to the sum of all discounted cash flows, measure profitability of an investmen. **does not allow for teh comparisonof different sized projects of lenghts**.\n",
    "2. Internal rate of return (IRR): results in an percentaje change. It allows to compare projects of different sizes and lenghts, **requires an algorithmic solution and does not measure total value**. \n",
    "\n",
    "`.irr(value)`\n",
    "\n",
    "3. Equivalent Annual Annuity (EAA): can be used to comapre two projects of different lifespans in present value terms."
   ]
  },
  {
   "cell_type": "markdown",
   "id": "91496ab2-2302-4a26-9d21-9741433cc800",
   "metadata": {},
   "source": [
    "#### Project proposals and cash flows projections\n",
    "Your project managers have projected the cash flows for each of the proposals.\n",
    "\n",
    "Project 1 provides higher short term cash flows, but Project 2 becomes more profitable over time.\n",
    "\n",
    "The cash flow projections for both projects are as follows:"
   ]
  },
  {
   "cell_type": "code",
   "execution_count": 18,
   "id": "e64d2a1c-a298-4e0f-b2da-8cdb793c866e",
   "metadata": {},
   "outputs": [],
   "source": [
    "# Create a numpy array of cash flows for Project 1\n",
    "cf_project_1 = np.array([-1000, 200, 250, 300, 350, 400, 450, 500, 550, 600])\n",
    "\n",
    "# Create a numpy array of cash flows for Project 2\n",
    "cf_project_2 = np.array([-1000, 150, 225, 300, 375, 425, 500, 575, 600, 625])\n",
    "\n",
    "# Scale the original objects by 1000x\n",
    "cf_project1 = cf_project_1*1000\n",
    "cf_project2 = cf_project_2*1000"
   ]
  },
  {
   "cell_type": "markdown",
   "id": "2d0d434a-7f66-489f-8610-3a76b8f23e73",
   "metadata": {},
   "source": [
    "**Great! But how do you pick a project?**"
   ]
  },
  {
   "cell_type": "markdown",
   "id": "528723bf-2b16-4a9c-b78a-c5c248f1447a",
   "metadata": {},
   "source": [
    "#### Internal Rate of Return\n",
    "Now that you have the cash flow projections ready to go for each project, you want to compare the internal rate of return (IRR) of each project to help you decide which project would be most beneficial for your company in terms of yield (rate of return). In this exercise, you will calculate the internal rate of return for each project using np.irr(values).\n",
    "\n",
    "The cash flows for projects 1 and 2 are available as cf_project1 and cf_project2."
   ]
  },
  {
   "cell_type": "code",
   "execution_count": 19,
   "id": "4b188add-e393-4d59-868a-746dd1254cb0",
   "metadata": {},
   "outputs": [
    {
     "name": "stdout",
     "output_type": "stream",
     "text": [
      "Project 1 IRR: 28.92%\n",
      "Project 2 IRR: 28.78%\n"
     ]
    }
   ],
   "source": [
    "# Calculate the internal rate of return for Project 1\n",
    "irr_project1 = npf.irr(cf_project1)\n",
    "print(\"Project 1 IRR: \" + str(round(100*irr_project1, 2)) + \"%\")\n",
    "\n",
    "# Calculate the internal rate of return for Project 2\n",
    "irr_project2 = npf.irr(cf_project2)\n",
    "print(\"Project 2 IRR: \" + str(round(100*irr_project2, 2)) + \"%\")"
   ]
  },
  {
   "cell_type": "markdown",
   "id": "db4e1922-21e0-45e8-a0ec-4443f55cde32",
   "metadata": {},
   "source": [
    "**Absolutely! Higher internal rates of return are preferable.**"
   ]
  },
  {
   "cell_type": "code",
   "execution_count": 20,
   "id": "91480aa9-4b4c-41e0-ba00-f26d508aac7c",
   "metadata": {},
   "outputs": [
    {
     "name": "stdout",
     "output_type": "stream",
     "text": [
      "Choose project: 1\n"
     ]
    }
   ],
   "source": [
    "\n",
    "\n",
    "from f_functions.project_choosing import project_choose\n",
    "\n",
    "calc = project_choose(cf_project_1, cf_project_2)\n",
    "\n",
    "decs = calc.irr_decision()\n",
    "\n",
    "print('Choose project: {}'.format(decs))"
   ]
  },
  {
   "cell_type": "markdown",
   "id": "efaaf0d1-0103-40e9-9355-d782476bc475",
   "metadata": {},
   "source": [
    "### The Weighted Average Cost of Capital\n",
    "\n",
    "WACC is essential for NPV calcualtion. You use WACC among other things, using to calculte the **rate of discount**.\n",
    "\n",
    "\n",
    "#### Debt and equity financing\n",
    "In the previous chapter, you were able to assume that your discount rate for the NPV calculation was solely based on a measure such as inflation.\n",
    "\n",
    "However, in this chapter, you are the CEO of a new company that has outstanding debt and financing costs, which you will have to adjust for.\n",
    "\n",
    "You will use the WACC as your discount rate in upcoming exercises.\n",
    "\n",
    "For this exercise, assume you take out a $1,000,000 loan to finance the project, which will be your company's only outstanding debt. This loan will represent 50% of your company's total financing of $2,000,000. The remaining funding comes from the market value of equity."
   ]
  },
  {
   "cell_type": "markdown",
   "id": "45dc0202-4b5b-42f9-850e-05a826a17830",
   "metadata": {},
   "source": [
    "1. Set the market value of your company's debt, mval_debt, equal to the amount of the loan you will be issuing to finance the project.\n",
    "2. Set the market value of your company's equity, mval_equity, equal to the remaining amount of funding after the loan.\n",
    "3. Calculate the total market value of your company's financing, mval_total, by taking the sum of the debt and equity.\n",
    "4. Calculate and print the proportion of your company's financing from debt (percent_debt) and from equity (percent_equity)."
   ]
  },
  {
   "cell_type": "code",
   "execution_count": 21,
   "id": "b2927b7a-9475-4281-8b92-148d9f867f22",
   "metadata": {},
   "outputs": [
    {
     "name": "stdout",
     "output_type": "stream",
     "text": [
      "Debt Financing: 50.0%\n",
      "Equity Financing: 50.0%\n"
     ]
    }
   ],
   "source": [
    "# Set the market value of debt\n",
    "mval_debt = 1000000\n",
    "\n",
    "# Set the market value of equity\n",
    "mval_equity = 1000000\n",
    "\n",
    "# Compute the total market value of your company's financing\n",
    "mval_total = mval_debt+mval_equity\n",
    "\n",
    "# Compute the proportion of your company's financing via debt\n",
    "percent_debt = mval_debt/mval_total\n",
    "print(\"Debt Financing: \" + str(round(100*percent_debt, 2)) + \"%\")\n",
    "\n",
    "# Compute the proportion of your company's financing via equity\n",
    "percent_equity = mval_equity/mval_total\n",
    "print(\"Equity Financing: \" + str(round(100*percent_equity, 2)) + \"%\")"
   ]
  },
  {
   "cell_type": "markdown",
   "id": "52cc7974-3fe2-4de4-ae6e-13095ff09de7",
   "metadata": {},
   "source": [
    "#### Calculating WACC\n",
    "In addition to determining the proportion of both equity and debt financing, you will need to estimate the cost of financing via both debt and equity in order to estimate your WACC.\n",
    "\n",
    "The cost of debt financing can be estimated as the amount you will have to pay on a new loan. This can be estimated by looking at the interest rates of loans of similar sizes to similar companies, or could be based on previous loans your company may already have been issued.\n",
    "\n",
    "The cost of equity financing can be estimated as the return on equity of similar companies. Calculating the return on equity is a simple accounting exercise, but all you need to know is that essentially, investors will require a rate of return that is close to what could be earned by a similar investment.\n",
    "\n",
    "\n",
    "1. Assume a cost of equity of 18% based on similar companies.\n",
    "2. The bank is willing to lend at an interest rate of 12%.\n",
    "3. Assume a corporate tax rate of 35% and that your debt financing is tax-deductible.\n",
    "4. Calculate and print your company's WACC."
   ]
  },
  {
   "cell_type": "code",
   "execution_count": 22,
   "id": "f164db30-9885-4683-920d-fb43b98ab061",
   "metadata": {},
   "outputs": [
    {
     "name": "stdout",
     "output_type": "stream",
     "text": [
      "WACC: 12.9%\n"
     ]
    }
   ],
   "source": [
    "# The proportion of debt vs equity financing is predefined\n",
    "percent_debt = 0.50\n",
    "percent_equity = 0.50\n",
    "\n",
    "# Set the cost of equity\n",
    "cost_equity = 0.18\n",
    "\n",
    "# Set the cost of debt\n",
    "cost_debt = 0.12\n",
    "\n",
    "# Set the corporate tax rate\n",
    "tax_rate = 0.35\n",
    "\n",
    "# Calculate the WACC\n",
    "wacc = percent_equity*cost_equity + percent_debt*cost_debt*(1-0.35)\n",
    "print(\"WACC: \" + str(round(100*wacc, 2)) + \"%\")"
   ]
  },
  {
   "cell_type": "markdown",
   "id": "85a57ee4-119c-4e50-8e57-a1d3dcc1efe7",
   "metadata": {},
   "source": [
    "#### Comparing project NPV with IRR\n",
    "Companies use their WACC as the discount rate when calculating the net present value of potential projects.\n",
    "\n",
    "In the same way that you discounted values by inflation in the previous chapter to account for costs over time, companies adjust the cash flows of potential projects by their cost of financing (the WACC) to account for their investor's required rate of return based on market conditions.\n",
    "\n",
    "Now that you calculated the WACC, you can determine the net present value (NPV) of each project's cash flows. The cash flows for projects 1 and 2 are available as cf_project1 and cf_project2."
   ]
  },
  {
   "cell_type": "code",
   "execution_count": 23,
   "id": "55a6ac38-63f5-498c-ae8d-c2f7a4dfb5f8",
   "metadata": {},
   "outputs": [
    {
     "name": "stdout",
     "output_type": "stream",
     "text": [
      "Project 1 NPV: 856073.18\n",
      "Project 2 NPV: 904741.35\n"
     ]
    }
   ],
   "source": [
    "import numpy as np\n",
    "\n",
    "# Set your weighted average cost of capital equal to 12.9%\n",
    "wacc = 0.129\n",
    "\n",
    "# Calculate the net present value for Project 1\n",
    "npv_project1 = npf.npv(rate = wacc, values = cf_project1)\n",
    "print(\"Project 1 NPV: \" + str(round(npv_project1, 2)))\n",
    "\n",
    "# Calculate the net present value for Project 2\n",
    "npv_project2 = npf.npv(rate = wacc, values = cf_project2)\n",
    "print(\"Project 2 NPV: \" + str(round(npv_project2, 2)))"
   ]
  },
  {
   "cell_type": "markdown",
   "id": "6132158b-f174-4228-b1bf-f02bd4933b81",
   "metadata": {},
   "source": [
    "#### Calculo del WACC y el NPV con el mismo lifespam  en una clase "
   ]
  },
  {
   "cell_type": "code",
   "execution_count": 24,
   "id": "a0aea257-debe-4193-8c93-e0f81a3a99f9",
   "metadata": {},
   "outputs": [
    {
     "name": "stdout",
     "output_type": "stream",
     "text": [
      "... you owe 1000000 for the project, and you are holding extra 1000000 for it ...\n",
      " ... WACC: 0.129\n",
      "Choose project: 2 based on NPV and WACC on a same lifespam\n"
     ]
    }
   ],
   "source": [
    "from f_functions.wacc_calc import wacc_npv\n",
    "from f_functions.project_choose_wacc_same_life import project_choose_wacc_s\n",
    "\n",
    "calc_wacc = wacc_npv(mval_debt = 1000000, mval_equity = 1000000, cost_equity = 0.18, cost_debt = 0.12, tax_rate = 0.35)\n",
    "\n",
    "wacc = calc_wacc.wacc_calc()\n",
    "\n",
    "calc = project_choose_wacc_s(cf_project_1, cf_project_2, wacc  = wacc)\n",
    "\n",
    "decs = calc.npv_decision()\n",
    "print('Choose project: {} based on NPV and WACC on a same lifespam'.format(decs))"
   ]
  },
  {
   "cell_type": "markdown",
   "id": "7543f71c-549e-4db4-b9dc-613b837dcd5e",
   "metadata": {},
   "source": [
    "### Comparing two projects of different life spans\n",
    "\n",
    "\n",
    "Apply the EAA method to the previous projects using the computed NPVs -1.\n",
    "\n",
    "#### Calculating IRR and NPV with different project lifespans\n",
    "Now that you calculated the WACC, you can calculate and compare the IRRs and NPVs of each project.\n",
    "\n",
    "While the IRR remains relatively comparable across projects, the NPV, on the other hand, will be much more difficult to compare given the additional year required for project 1.\n",
    "\n",
    "Luckily, in the next exercise, we will introduce another method to compare the NPVs of the projects, but we will first need to compute the NPVs as before."
   ]
  },
  {
   "cell_type": "code",
   "execution_count": 25,
   "id": "6bd34fe8-45c3-4c0d-81c7-f73e578571e2",
   "metadata": {},
   "outputs": [
    {
     "name": "stdout",
     "output_type": "stream",
     "text": [
      "Project 1 IRR: 28.92%\n",
      "Project 2 IRR: 28.78%\n",
      "Project 1 NPV: 856073.18\n",
      "Project 2 NPV: 904741.35\n"
     ]
    }
   ],
   "source": [
    "# Calculate the IRR for Project 1\n",
    "irr_project1 = npf.irr(cf_project1)\n",
    "print(\"Project 1 IRR: \" + str(round(100*irr_project1, 2)) + \"%\")\n",
    "\n",
    "# Calculate the IRR for Project 2\n",
    "irr_project2 = npf.irr(cf_project2)\n",
    "print(\"Project 2 IRR: \" + str(round(100*irr_project2, 2)) + \"%\")\n",
    "\n",
    "# Set the wacc equal to 12.9%\n",
    "wacc = 0.129\n",
    "\n",
    "# Calculate the NPV for Project 1\n",
    "npv_project1 = npf.npv(rate = wacc, values = cf_project1)\n",
    "print(\"Project 1 NPV: \" + str(round(npv_project1, 2)))\n",
    "\n",
    "# Calculate the NPV for Project 2\n",
    "npv_project2 = npf.npv(rate = wacc, values = cf_project2)\n",
    "print(\"Project 2 NPV: \" + str(round(npv_project2, 2)))"
   ]
  },
  {
   "cell_type": "markdown",
   "id": "8eee81ec-583f-4e6e-974d-c5a3e9e4a760",
   "metadata": {},
   "source": [
    "#### Using the equivalent annual annuity approach\n",
    "Since the net present values of each project are not directly comparable given the different lifespans of each project, you will have to consider a different approach.\n",
    "\n",
    "The equivalent annual annuity (EAA) approach allows us to compare two projects by essentially assuming that each project is an investment generating a flat interest rate each year (an annuity), and calculating the annual payment you would receive from each project, discounted to present value.\n",
    "\n",
    "You can compute the EAA of each project using the .pmt(rate, nper, pv, fv) function in numpy."
   ]
  },
  {
   "cell_type": "code",
   "execution_count": 26,
   "id": "75a26495-7bfc-46b4-a487-f0e10c018b44",
   "metadata": {},
   "outputs": [
    {
     "name": "stdout",
     "output_type": "stream",
     "text": [
      "Project 1 EAA: 177783.98\n",
      "Project 2 EAA: 203935.47\n"
     ]
    }
   ],
   "source": [
    "# Calculate the EAA for Project 1\n",
    "eaa_project1 = npf.pmt(rate=wacc, nper=8, pv=-1*npv_project1, fv=0)\n",
    "print(\"Project 1 EAA: \" + str(round(eaa_project1, 2)))\n",
    "\n",
    "# Calculate the EAA for Project 2\n",
    "eaa_project2 = npf.pmt(rate=wacc, nper=7, pv=-1*npv_project2, fv=0)\n",
    "print(\"Project 2 EAA: \" + str(round(eaa_project2, 2)))"
   ]
  },
  {
   "cell_type": "markdown",
   "id": "421b492b-7f2b-4021-a4fe-cc25281273d1",
   "metadata": {},
   "source": [
    "####  Calculo del WACC y el EAA con el mismo lifespam  en una clase"
   ]
  },
  {
   "cell_type": "code",
   "execution_count": 27,
   "id": "06226402-d71c-4420-9cf4-5ad46d291c67",
   "metadata": {},
   "outputs": [
    {
     "name": "stdout",
     "output_type": "stream",
     "text": [
      "Project 1 IRR: 28.92%\n",
      "Project 1 NPV: 856073.18\n",
      "Project 1 EAA: 177783.98\n",
      "Project 2 IRR: 28.78%\n",
      "Project 2 NPV: 904741.35\n",
      "Project 2 EAA: 203935.47\n",
      "Choose project: 2 Absolutely! Higher EAA means higher annual returns.\n"
     ]
    }
   ],
   "source": [
    "from f_functions.project_choose_wacc_Eaa import project_choose_wacc_eaa\n",
    "\n",
    "calc = project_choose_wacc_eaa(cf_project1, cf_project2, wacc  = wacc, project_1_period = 8, project_2_period = 7)\n",
    "\n",
    "dcs  = calc.eaa_decision()\n",
    "\n",
    "print('Choose project: {} Absolutely! Higher EAA means higher annual returns.'.format(decs))"
   ]
  },
  {
   "cell_type": "markdown",
   "id": "cd59f32c-0429-490e-8234-561ea095de1d",
   "metadata": {},
   "source": [
    "### Budgeting Application\n",
    "\n",
    "You just got a new job as a data scientist in San Francisco, and you're looking for an apartment. In this chapter, you'll be building your own budgeting application to plan out your financial future.\n",
    "\n",
    "### Budgeting project proposal\n",
    "\n",
    "**Constan cumulative growth forectast**\n",
    "\n",
    "What is the cumulative growth of an investment that grouws by 3% per year for 3 years?"
   ]
  },
  {
   "cell_type": "code",
   "execution_count": 28,
   "id": "98ab7298-aafb-4a32-ada1-b693ed04eed5",
   "metadata": {},
   "outputs": [
    {
     "name": "stdout",
     "output_type": "stream",
     "text": [
      " .. your investment has raised 0.030000000000000027 by the end of the year 1 due to compounded interest ...\n",
      " .. your investment has raised 0.060899999999999954 by the end of the year 2 due to compounded interest ...\n",
      " .. your investment has raised 0.092727 by the end of the year 3 due to compounded interest ...\n"
     ]
    }
   ],
   "source": [
    "import numpy as np \n",
    "\n",
    "\n",
    "investment_raises = np.cumprod(1 + np.repeat(0.03,3)) -1\n",
    "\n",
    "for i in range(len(investment_raises)): \n",
    "    \n",
    "    print(' .. your investment has raised {} by the end of the year {} due to compounded interest ...'.format(investment_raises[i], i + 1))\n",
    "    "
   ]
  },
  {
   "cell_type": "markdown",
   "id": "b8311e35-5b3c-462f-b73d-acc98cb4071c",
   "metadata": {},
   "source": [
    "**Forecast values from growth rates**\n",
    "\n",
    "Compute hte  value at each point in time of an initial $100 investment that grows by 3%$ per year for years"
   ]
  },
  {
   "cell_type": "code",
   "execution_count": 29,
   "id": "be578efe-6854-42fd-88e1-5f60b25ca669",
   "metadata": {},
   "outputs": [
    {
     "name": "stdout",
     "output_type": "stream",
     "text": [
      " .. your investment has raised 103.0 by the end of the year 1 due to compounded interest ...\n",
      " .. your investment has raised 106.08999999999999 by the end of the year 2 due to compounded interest ...\n",
      " .. your investment has raised 109.2727 by the end of the year 3 due to compounded interest ...\n"
     ]
    }
   ],
   "source": [
    "import numpy as np \n",
    "\n",
    "\n",
    "investment_raises = 100 *np.cumprod(1 + np.repeat(0.03,3)) \n",
    "\n",
    "for i in range(len(investment_raises)): \n",
    "    \n",
    "    print(' .. your investment has raised {} by the end of the year {} due to compounded interest ...'.format(investment_raises[i], i + 1))"
   ]
  },
  {
   "cell_type": "markdown",
   "id": "578a8dfb-c122-499a-95b9-b63ec261e8e6",
   "metadata": {},
   "source": [
    "#### Salary and taxes\n",
    "You just got a new job as an entry-level Data Scientist at a technology company in New York City with a decent starting salary of $85,000 per year.\n",
    "\n",
    "Unfortunately, after state and local taxes, you can expect to be sending roughly 30% back to the government each year.\n",
    "\n",
    "You will need to calculate your monthly take home pay after taxes in order to begin budgeting."
   ]
  },
  {
   "cell_type": "code",
   "execution_count": 30,
   "id": "58315f6f-b8d2-499b-9a8a-6cba3602976c",
   "metadata": {},
   "outputs": [
    {
     "name": "stdout",
     "output_type": "stream",
     "text": [
      "Salary after taxes: 59500.0\n",
      "Monthly takehome salary: 4958.33\n"
     ]
    }
   ],
   "source": [
    "# Enter your annual salary\n",
    "salary = 85000\n",
    "\n",
    "# Assume a tax rate of 30%\n",
    "tax_rate = 0.3\n",
    "\n",
    "# Calculate your salary after taxes\n",
    "salary_after_taxes = salary*(1-tax_rate)\n",
    "print(\"Salary after taxes: \" + str(round(salary_after_taxes, 2)))\n",
    "\n",
    "# Calculate your monthly salary after taxes\n",
    "monthly_takehome_salary = salary_after_taxes/12\n",
    "print(\"Monthly takehome salary: \" + str(round(monthly_takehome_salary, 2)))"
   ]
  },
  {
   "cell_type": "markdown",
   "id": "335d6852-95ec-4ecd-ae43-d2a86f96afd4",
   "metadata": {},
   "source": [
    "#### Monthly expenses and savings\n",
    "In order to make it in New York City, you have decided to split a two-bedroom apartment with a friend. You will have to budget for rent, food and entertainment, but it's also a good idea to allocate an amount for unforeseen expenses each month. This unforeseen expenses budget could be used for anything ranging from new clothes or electronics to doctor appointments.\n",
    "\n",
    "Set up your monthly budget as follows:\n",
    "\n",
    "1. Rent: 1200 / month (Includes utilities)\n",
    "2. Food: 30 / day (On average. Includes groceries and eating out.)\n",
    "3. Entertainment: $200 / month (Movies, drinks, museums, parties…)\n",
    "4. Unforeseen Expenses: 250 / month (Stay safe, and don't drop your phone!)\n",
    "For this application, assume an average of 30 days per month. Whatever is left after your paying your monthly expenses will go into your savings account each month.\n",
    "\n",
    "monthly_takehome_salary from the previous exercise is available."
   ]
  },
  {
   "cell_type": "code",
   "execution_count": 31,
   "id": "b5c081f2-4cab-42ea-9add-4cfebb7ca95e",
   "metadata": {},
   "outputs": [
    {
     "name": "stdout",
     "output_type": "stream",
     "text": [
      "Monthly expenses: 2550\n",
      "Monthly savings: 2408.33\n"
     ]
    }
   ],
   "source": [
    "# Enter your monthly rent\n",
    "monthly_rent = 1200\n",
    "\n",
    "# Enter your daily food budget\n",
    "daily_food_budget = 30\n",
    "\n",
    "# Calculate your monthly food budget assuming 30 days per month\n",
    "monthly_food_budget = daily_food_budget*30\n",
    "\n",
    "# Set your monthly entertainment budget\n",
    "monthly_entertainment_budget = 200\n",
    "\n",
    "# Allocate funds for unforeseen expenses, just in case\n",
    "monthly_unforeseen_expenses = 250\n",
    "\n",
    "# Next, calculate your total monthly expenses\n",
    "monthly_expenses = monthly_rent+monthly_food_budget+monthly_entertainment_budget+monthly_unforeseen_expenses\n",
    "print(\"Monthly expenses: \" + str(round(monthly_expenses, 2)))\n",
    "\n",
    "# Finally, calculate your monthly take-home savings\n",
    "monthly_savings = monthly_takehome_salary - monthly_expenses\n",
    "print(\"Monthly savings: \" + str(round(monthly_savings, 2)))"
   ]
  },
  {
   "cell_type": "markdown",
   "id": "03f39206-0092-41ea-b582-ee30764f971f",
   "metadata": {},
   "source": [
    "##### Forecast salary growth and cost of living\n",
    "\n",
    "Due to both inflation and increased productivity from experience, you can expect your salary to grow at different rates depending on your job. Now, since you are working in a growing and in-demand career field as a Data Scientist, you can assume a steady growth in your annual salary every year based on performance.\n",
    "\n",
    "You can assume an annual salary growth rate of 5%, which means if you start at 85,000 per year, you can expect to earn over 176,000 per year after 15 years. After taxes, assuming your tax rate hasn't changed, that works out to roughly 125,000 per year, which is not unreasonable for a Data Scientist. In fact, you might even make it to that level in a few years! But just to be safe, you should be conservative with your projections.\n",
    "\n",
    "For this application, assume all inflation and salary growth happens in smaller increments on a monthly basis instead of just one large increase at the end of each year.\n",
    "\n",
    "monthly_takehome_salary from the previous exercise is available."
   ]
  },
  {
   "cell_type": "code",
   "execution_count": 32,
   "id": "034f12d9-0218-4115-905a-1c74e19c3eaa",
   "metadata": {},
   "outputs": [
    {
     "data": {
      "image/png": "[encoded data removed]",
      "text/plain": [
       "<Figure size 432x288 with 1 Axes>"
      ]
     },
     "metadata": {
      "needs_background": "light"
     },
     "output_type": "display_data"
    }
   ],
   "source": [
    "import numpy as np\n",
    "import matplotlib.pyplot as plt\n",
    "# Create monthly forecasts up to 15 years from now\n",
    "forecast_months = 12*15\n",
    "\n",
    "# Set your annual salary growth rate\n",
    "annual_salary_growth = 0.05\n",
    "\n",
    "# Calculate your equivalent monthly salary growth rate\n",
    "monthly_salary_growth = (1 + annual_salary_growth)**(1/12)-1\n",
    "\n",
    "# Forecast the cumulative growth of your salary\n",
    "cumulative_salary_growth_forecast = np.cumprod(np.repeat(1 + monthly_salary_growth, forecast_months))\n",
    "\n",
    "# Calculate the actual salary forecast\n",
    "salary_forecast = monthly_takehome_salary * cumulative_salary_growth_forecast\n",
    "\n",
    "# Plot the forecasted salary\n",
    "plt.plot(salary_forecast, color='blue')\n",
    "plt.show()"
   ]
  },
  {
   "cell_type": "markdown",
   "id": "8eb26185-c604-4c15-b88a-7b3d090984e4",
   "metadata": {},
   "source": [
    "#### Forecast growing expenses due to inflation\n",
    "You will also assume your monthly expenses will rise by an average of 2.5% per year due to inflation. This will lead to higher cost of living over time, paying for the same expenses each year but at a higher price. Luckily, your salary is growing faster than inflation, which means you should have more money going into savings each month.\n",
    "\n",
    "The monthly_expenses and forecast_months variables from the previous exercise are available."
   ]
  },
  {
   "cell_type": "code",
   "execution_count": 33,
   "id": "b2781565-b773-4d15-b02e-e7dd7f60949c",
   "metadata": {},
   "outputs": [
    {
     "data": {
      "image/png": "[encoded data removed]",
      "text/plain": [
       "<Figure size 432x288 with 1 Axes>"
      ]
     },
     "metadata": {
      "needs_background": "light"
     },
     "output_type": "display_data"
    }
   ],
   "source": [
    "import numpy as np\n",
    "\n",
    "# Set the annual inflation rate\n",
    "annual_inflation = 0.025\n",
    "\n",
    "# Calculate the equivalent monthly inflation rate\n",
    "monthly_inflation = (1+annual_inflation)**(1/12)-1\n",
    "\n",
    "# Forecast cumulative inflation over time\n",
    "cumulative_inflation_forecast = np.cumprod(np.repeat( 1 + monthly_inflation, forecast_months))\n",
    "\n",
    "# Calculate your forecasted expenses\n",
    "expenses_forecast = monthly_expenses * cumulative_inflation_forecast\n",
    "\n",
    "# Plot the forecasted expenses\n",
    "plt.plot(expenses_forecast, color='red')\n",
    "plt.show()"
   ]
  },
  {
   "cell_type": "markdown",
   "id": "4e20f0ea-e1ca-40e3-81a4-e129447a3b98",
   "metadata": {
    "tags": []
   },
   "source": [
    "### Net worth and valuation in your personal financial life\n",
    "\n",
    "#### Calculate your net worth\n",
    "Now that you have forecasted your savings and salary over time while taking career progression and inflation into account, you have constructed a time-series which you can use to calculate your cash flows, just like in Chapter 1.\n",
    "\n",
    "For this example, all you need to do is subtract your forecasted monthly expenses from your forecasted monthly salary. The remaining cash flow will go straight into your savings account for each month.\n",
    "\n",
    "You want to project your cumulative savings over time to see how effective your budgeting process will be given your projections.\n",
    "\n",
    "salary_forecast and expenses_forecast from the previous exercises are available."
   ]
  },
  {
   "cell_type": "code",
   "execution_count": 34,
   "id": "f2c0669c-1ced-432e-a1ab-7fb57d3a3aa3",
   "metadata": {},
   "outputs": [
    {
     "name": "stdout",
     "output_type": "stream",
     "text": [
      "Your final net worth: 762318.83\n"
     ]
    },
    {
     "data": {
      "image/png": "[encoded data removed]",
      "text/plain": [
       "<Figure size 432x288 with 1 Axes>"
      ]
     },
     "metadata": {
      "needs_background": "light"
     },
     "output_type": "display_data"
    }
   ],
   "source": [
    "import numpy as np\n",
    "\n",
    "# Calculate your savings for each month\n",
    "savings_forecast = salary_forecast - expenses_forecast\n",
    "\n",
    "# Calculate your cumulative savings over time\n",
    "cumulative_savings = np.cumsum(savings_forecast) \n",
    "\n",
    "# Print the final cumulative savings after 15 years\n",
    "final_net_worth = cumulative_savings[-1]\n",
    "print(\"Your final net worth: \" + str(round(final_net_worth, 2)))\n",
    "\n",
    "# Plot the forecasted savings\n",
    "plt.plot(cumulative_savings, color='blue')\n",
    "plt.show()"
   ]
  },
  {
   "cell_type": "markdown",
   "id": "6c0cbe4c-b0b2-45c3-b7dd-5ea397e1c96d",
   "metadata": {},
   "source": [
    "#### So you want to be a millionaire?\n",
    "Your projections show that you can accumulate over $700,000 in just 15 years by following a strict budget and growing your salary steadily over time.\n",
    "\n",
    "But you want to be a millionaire in 15years, retire young, sip margaritas and travel for the rest of your life. In order to do that, you're going to need to invest.\n",
    "\n",
    "Remember the .pmt() function from numpy? You can use this function to calculate how much you need to save each month in order to accumulate your desired wealth over time.\n",
    "\n",
    "You still have a lot to learn about the stock market, but your financial advisor told you that you can earn anywhere from 5-10% per year on your capital on average by investing in a low cost index fund.\n",
    "\n",
    "You know that the stock market doesn't always go up, but you will assume a modest 7% return per year, which has been the average annual return in the US stock market from 1950-2009.\n",
    "\n",
    "The forecast_months variable from the previous exercise is available."
   ]
  },
  {
   "cell_type": "code",
   "execution_count": 35,
   "id": "4333ab0f-c669-487c-8430-71389bb5fadb",
   "metadata": {},
   "outputs": [
    {
     "name": "stdout",
     "output_type": "stream",
     "text": [
      "You will have to invest $3214.35 per month to amass $1M over 15 years\n"
     ]
    }
   ],
   "source": [
    "import numpy as np\n",
    "\n",
    "# Set the annual investment return to 7%\n",
    "investment_rate_annual = 0.07\n",
    "\n",
    "# Calculate the monthly investment return\n",
    "investment_rate_monthly = (1+investment_rate_annual)**(1/12) - 1\n",
    "\n",
    "# Calculate your required monthly investment to amass $1M\n",
    "required_investment_monthly = npf.pmt(rate=investment_rate_monthly, nper=forecast_months, pv=0, fv=-1000000)\n",
    "print(\"You will have to invest $\" + str(round(required_investment_monthly, 2)) + \" per month to amass $1M over 15 years\")"
   ]
  },
  {
   "cell_type": "markdown",
   "id": "6eb2e2e8-64cd-4541-8eba-98a1e43c2101",
   "metadata": {},
   "source": [
    "#### Investing a percentage of your income (I)\n",
    "Unfortunately, you really can't afford to save 3,000 per month in order to amass 1,000,000 after only 15 years.\n",
    "\n",
    "But what you can do is start slowly, investing a small percentage of your take-home income each month, which should grow over time as your income grows as well.\n",
    "\n",
    "In this exercise, you will lay the foundations to simulate this investing process over time.\n",
    "\n",
    "The salary_forecast and expenses_forecast variables are available from the previous exercise.\n",
    "\n",
    "The cash_flow_forecast is also available, and is an array of your forecasted salary minus your forecasted expenses. The monthly_investment_percentage variable is already set to 0.30."
   ]
  },
  {
   "cell_type": "code",
   "execution_count": 36,
   "id": "6d88a82f-b0c6-4e9c-bc57-b53c5d5a8ab0",
   "metadata": {},
   "outputs": [
    {
     "data": {
      "image/png": "[encoded data removed]",
      "text/plain": [
       "<Figure size 432x288 with 1 Axes>"
      ]
     },
     "metadata": {
      "needs_background": "light"
     },
     "output_type": "display_data"
    }
   ],
   "source": [
    "import numpy as np\n",
    "from f_functions.default_values import cash_flow_forecast\n",
    "\n",
    "monthly_investment_percentage = 0.30\n",
    "# Calculate your monthly deposit into your investment account\n",
    "investment_deposit_forecast = cash_flow_forecast * monthly_investment_percentage\n",
    "\n",
    "# The rest goes into your savings account\n",
    "savings_forecast_new = cash_flow_forecast * (1 - monthly_investment_percentage)\n",
    "\n",
    "# Calculate your cumulative savings over time\n",
    "cumulative_savings_new = np.cumsum(savings_forecast_new)\n",
    "\n",
    "# Plot your forecasted monthly savings vs investments\n",
    "plt.plot(investment_deposit_forecast, color='red')\n",
    "plt.plot(savings_forecast_new, color='blue')\n",
    "#plt.legend(handles=[investments_plot, savings_plot], loc=2)\n",
    "plt.show()"
   ]
  },
  {
   "cell_type": "markdown",
   "id": "d2feb9b7-1990-4ebd-9d33-762723e25910",
   "metadata": {},
   "source": [
    "#### Investing a percentage of your income (II)\n",
    "To finish up your investment simulation, you will need to loop through each time period, calculate the growth of any investments you have already made, add your new monthly deposit, and calculate your net worth at each point in time.\n",
    "\n",
    "You can do it!\n",
    "\n",
    "Cumulative savings (cumulative_savings_new) from the previous exercise is available, and investment_portfolio and net_worth are pre-allocated empty numpy arrays of length equal to forecast_months."
   ]
  },
  {
   "cell_type": "code",
   "execution_count": 37,
   "id": "f6070b46-a32f-4d4c-843c-c3516e422918",
   "metadata": {},
   "outputs": [
    {
     "data": {
      "image/png": "[encoded data removed]",
      "text/plain": [
       "<Figure size 432x288 with 1 Axes>"
      ]
     },
     "metadata": {
      "needs_background": "light"
     },
     "output_type": "display_data"
    }
   ],
   "source": [
    "import numpy as np\n",
    "\n",
    "forecast_months = 180\n",
    "\n",
    "\n",
    "investment_portfolio = np.arange(180)\n",
    "net_worth = np.arange(180)\n",
    "\n",
    "# Loop through each forecast period\n",
    "for i in range(forecast_months):\n",
    "    \n",
    "    # Find the previous investment deposit amount\n",
    "    if i == 0: \n",
    "        previous_investment = 0\n",
    "    else:\n",
    "        previous_investment = investment_portfolio[i-1]\n",
    "        \n",
    "    # Calculate the value of your previous investments, which have grown\n",
    "    previous_investment_growth = previous_investment*(1 + investment_rate_monthly)\n",
    "    \n",
    "    # Add your new deposit to your investment portfolio\n",
    "    investment_portfolio[i] =  previous_investment_growth + investment_deposit_forecast[i]\n",
    "    \n",
    "    # Calculate your net worth at each point in time\n",
    "    net_worth[i] = investment_portfolio[i] + cumulative_savings_new[i]\n",
    "    \n",
    "    \n",
    "    \n",
    "# Plot your forecasted cumulative savings vs investments and net worth\n",
    "plt.plot(investment_portfolio, color='red')\n",
    "plt.plot(cumulative_savings_new, color='blue')\n",
    "plt.plot(net_worth, color='green')\n",
    "#plt.legend(handles=[investments_plot,savings_plot,networth_plot], loc=2)\n",
    "plt.show()"
   ]
  },
  {
   "cell_type": "markdown",
   "id": "8506f66a-0511-4995-a21c-80c3ec155ce0",
   "metadata": {},
   "source": [
    "### The power of time and compound interest\n",
    "\n",
    "Investing over time\n",
    "If you would like to accumulate 1,000,000 over 15 years, at 7% per year, you will have to invest 3214.35 per month:\n",
    "```\n",
    "np.pmt(rate=((1+0.07)**(1/12) - 1), \n",
    "       nper=15*12, pv=0, fv=1000000)\n",
    "       \n",
    "```\n",
    "But what if you were willing to wait an extra 15 years, for a total of 30 years? How much will you need to invest each month?"
   ]
  },
  {
   "cell_type": "code",
   "execution_count": 38,
   "id": "dd0369fd-b2a2-49bd-acdb-d6acf3a5569e",
   "metadata": {},
   "outputs": [
    {
     "name": "stdout",
     "output_type": "stream",
     "text": [
      "You have to invest 3214.351338524575 each month \n"
     ]
    }
   ],
   "source": [
    "print('You have to invest {} each month '.format(-npf.pmt(rate=((1+0.07)**(1/12) - 1), \n",
    "       nper=15*12, pv=0, fv=1000000)))"
   ]
  },
  {
   "cell_type": "code",
   "execution_count": 39,
   "id": "b915370c-7d71-4998-ad3b-0fd1451cb88b",
   "metadata": {},
   "outputs": [
    {
     "name": "stdout",
     "output_type": "stream",
     "text": [
      "You have to invest 855.1009225937204 each month \n"
     ]
    }
   ],
   "source": [
    "print('You have to invest {} each month '.format(-npf.pmt(rate=((1+0.07)**(1/12) - 1), \n",
    "       nper=30*12, pv=0, fv=1000000)))"
   ]
  },
  {
   "cell_type": "markdown",
   "id": "8d37bf66-7386-4eab-9003-b25bf4bea322",
   "metadata": {},
   "source": [
    "#### Inflation-adjusted net worth\n",
    "By saving 30% per year, your simulation shows that you can accumulate $896,962.66. Not quite a millionaire, but not bad at all!\n",
    "\n",
    "For the sake of simplicity, let's assume you were able to save $900,000 by following your budget.\n",
    "\n",
    "But what if you retire 15 years from now? What is $900,000 going to be truly worth 15 years from now?"
   ]
  },
  {
   "cell_type": "code",
   "execution_count": 40,
   "id": "ae1ee22a-26d5-432b-9e7b-bdfc1b166527",
   "metadata": {},
   "outputs": [
    {
     "name": "stdout",
     "output_type": "stream",
     "text": [
      "Your inflation-adjusted net worth: $621419.0\n"
     ]
    }
   ],
   "source": [
    "import numpy as np\n",
    "\n",
    "# Set your future net worth\n",
    "future_net_worth = 900000\n",
    "\n",
    "# Set the annual inflation rate to 2.5%\n",
    "annual_inflation = 0.025\n",
    "\n",
    "# Calculate the present value of your terminal wealth over 15 years\n",
    "inflation_adjusted_net_worth = npf.pv(rate=annual_inflation, nper=15, pmt=0, fv=-1*future_net_worth)\n",
    "print(\"Your inflation-adjusted net worth: $\" + str(round(inflation_adjusted_net_worth, 2)))"
   ]
  },
  {
   "cell_type": "markdown",
   "id": "e014f4b1-e49e-4701-a95b-62795ec1e8b5",
   "metadata": {},
   "source": [
    "#### Tus finanzas todo en uno"
   ]
  },
  {
   "cell_type": "code",
   "execution_count": 41,
   "id": "aa555add-cc68-4a5b-8196-9f52aa2ff533",
   "metadata": {},
   "outputs": [
    {
     "name": "stdout",
     "output_type": "stream",
     "text": [
      "Monthly expenses: 2500\n",
      "Monthly savings: 2458.33\n"
     ]
    },
    {
     "data": {
      "image/png": "[encoded data removed]",
      "text/plain": [
       "<Figure size 432x288 with 1 Axes>"
      ]
     },
     "metadata": {
      "needs_background": "light"
     },
     "output_type": "display_data"
    },
    {
     "data": {
      "image/png": "[encoded data removed]",
      "text/plain": [
       "<Figure size 432x288 with 1 Axes>"
      ]
     },
     "metadata": {
      "needs_background": "light"
     },
     "output_type": "display_data"
    },
    {
     "name": "stdout",
     "output_type": "stream",
     "text": [
      "Your final net worth: 794032.44\n"
     ]
    },
    {
     "data": {
      "image/png": "[encoded data removed]",
      "text/plain": [
       "<Figure size 432x288 with 1 Axes>"
      ]
     },
     "metadata": {
      "needs_background": "light"
     },
     "output_type": "display_data"
    }
   ],
   "source": [
    "from f_functions.calculadora_financiera import net_worth_dev\n",
    "\n",
    "ev = net_worth_dev(rent = 1200, daily_food= 30, month_entert_budge= 200, month_unfor_exp= 200, salario= 85000, tax_rate=0.3)\n",
    "\n",
    "ev.calc_intermedios()\n",
    "\n",
    "ev.forecast_salary_growth_living(month_forecast = 12*15, annual_salary_growth = 0.05)\n",
    "\n",
    "ev.forecast_growing_expenses_inflation(inflation= 0.02, month_forecast = 12*15)\n",
    "\n",
    "ev.your_net_worth()"
   ]
  },
  {
   "cell_type": "code",
   "execution_count": null,
   "id": "1832591c-cc9f-4b8c-995f-064b4c8629ba",
   "metadata": {},
   "outputs": [],
   "source": []
  },
  {
   "cell_type": "code",
   "execution_count": null,
   "id": "88498b12-16ea-40cd-95ee-af95e9eb5379",
   "metadata": {},
   "outputs": [],
   "source": []
  },
  {
   "cell_type": "code",
   "execution_count": null,
   "id": "ec1ef32a-6618-4eb5-bf17-44c57c54e4f8",
   "metadata": {},
   "outputs": [],
   "source": []
  },
  {
   "cell_type": "code",
   "execution_count": null,
   "id": "5fe1ad67-d53a-4682-92ee-32cf90350ca9",
   "metadata": {},
   "outputs": [],
   "source": []
  },
  {
   "cell_type": "code",
   "execution_count": null,
   "id": "2f9bc1d1-a7b4-4bad-b21c-b6b5b7ab6bd1",
   "metadata": {},
   "outputs": [],
   "source": []
  },
  {
   "cell_type": "code",
   "execution_count": null,
   "id": "11c8e849-d622-40ad-a22e-0444e7aed7d2",
   "metadata": {},
   "outputs": [],
   "source": []
  }
 ],
 "metadata": {
  "kernelspec": {
   "display_name": "Python 3 (ipykernel)",
   "language": "python",
   "name": "python3"
  },
  "language_info": {
   "codemirror_mode": {
    "name": "ipython",
    "version": 3
   },
   "file_extension": ".py",
   "mimetype": "text/x-python",
   "name": "python",
   "nbconvert_exporter": "python",
   "pygments_lexer": "ipython3",
   "version": "3.9.7"
  }
 },
 "nbformat": 4,
 "nbformat_minor": 5
}
